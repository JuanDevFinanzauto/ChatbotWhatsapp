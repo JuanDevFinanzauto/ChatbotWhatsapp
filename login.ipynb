{
 "cells": [
  {
   "cell_type": "code",
   "execution_count": 8,
   "metadata": {},
   "outputs": [],
   "source": [
    "import re\n",
    "import numpy as np\n",
    "import pandas as pd\n",
    "import pymssql\n",
    "import openai\n",
    "from langchain_groq import ChatGroq\n",
    "from MilvusRetriever import MilvusRetriever\n",
    "from dotenv import load_dotenv\n",
    "import yaml\n",
    "from datetime import datetime, date\n",
    "from functools import lru_cache\n",
    "import random\n",
    "import uuid\n",
    "\n",
    "import os\n",
    "import json\n",
    "import dateutil\n",
    "import getpass\n",
    "from typing import Annotated, Optional, Literal\n",
    "from typing_extensions import TypedDict\n",
    "from pydantic import BaseModel, Field\n",
    "\n",
    "from langgraph.graph.message import AnyMessage, add_messages\n",
    "from langgraph.graph import END, StateGraph, START\n",
    "from langchain_core.prompts import ChatPromptTemplate\n",
    "from langchain_core.runnables import Runnable, RunnableConfig\n",
    "from langchain_core.messages import ToolMessage, HumanMessage, AIMessage\n",
    "from langchain_core.runnables import RunnableLambda\n",
    "from langchain_core.output_parsers import StrOutputParser, JsonOutputParser\n",
    "from langchain_core.tools import tool\n",
    "from langgraph.prebuilt import ToolNode, tools_condition\n",
    "from langgraph.checkpoint.memory import MemorySaver\n",
    "from langgraph.errors import NodeInterrupt\n",
    "\n",
    "from IPython.display import Image, display\n"
   ]
  },
  {
   "cell_type": "code",
   "execution_count": 2,
   "metadata": {},
   "outputs": [
    {
     "data": {
      "text/plain": [
       "True"
      ]
     },
     "execution_count": 2,
     "metadata": {},
     "output_type": "execute_result"
    }
   ],
   "source": [
    "load_dotenv()"
   ]
  },
  {
   "cell_type": "code",
   "execution_count": 3,
   "metadata": {},
   "outputs": [
    {
     "data": {
      "application/vnd.jupyter.widget-view+json": {
       "model_id": "949b5ac13a054cdc9fa6e46caf6cb6bb",
       "version_major": 2,
       "version_minor": 0
      },
      "text/plain": [
       "Fetching 30 files:   0%|          | 0/30 [00:00<?, ?it/s]"
      ]
     },
     "metadata": {},
     "output_type": "display_data"
    },
    {
     "name": "stderr",
     "output_type": "stream",
     "text": [
      "/home/fermikira/anaconda3/envs/llms_env/lib/python3.12/site-packages/FlagEmbedding/BGE_M3/modeling.py:335: FutureWarning: You are using `torch.load` with `weights_only=False` (the current default value), which uses the default pickle module implicitly. It is possible to construct malicious pickle data which will execute arbitrary code during unpickling (See https://github.com/pytorch/pytorch/blob/main/SECURITY.md#untrusted-models for more details). In a future release, the default value for `weights_only` will be flipped to `True`. This limits the functions that could be executed during unpickling. Arbitrary objects will no longer be allowed to be loaded via this mode unless they are explicitly allowlisted by the user via `torch.serialization.add_safe_globals`. We recommend you start setting `weights_only=True` for any use case where you don't have full control of the loaded file. Please open an issue on GitHub for any issues related to this experimental feature.\n",
      "  colbert_state_dict = torch.load(os.path.join(model_dir, 'colbert_linear.pt'), map_location='cpu')\n",
      "/home/fermikira/anaconda3/envs/llms_env/lib/python3.12/site-packages/FlagEmbedding/BGE_M3/modeling.py:336: FutureWarning: You are using `torch.load` with `weights_only=False` (the current default value), which uses the default pickle module implicitly. It is possible to construct malicious pickle data which will execute arbitrary code during unpickling (See https://github.com/pytorch/pytorch/blob/main/SECURITY.md#untrusted-models for more details). In a future release, the default value for `weights_only` will be flipped to `True`. This limits the functions that could be executed during unpickling. Arbitrary objects will no longer be allowed to be loaded via this mode unless they are explicitly allowlisted by the user via `torch.serialization.add_safe_globals`. We recommend you start setting `weights_only=True` for any use case where you don't have full control of the loaded file. Please open an issue on GitHub for any issues related to this experimental feature.\n",
      "  sparse_state_dict = torch.load(os.path.join(model_dir, 'sparse_linear.pt'), map_location='cpu')\n"
     ]
    },
    {
     "name": "stdout",
     "output_type": "stream",
     "text": [
      "Loading existing collection: hybrid_rag\n"
     ]
    }
   ],
   "source": [
    "retriever = MilvusRetriever(documents=[],k=3)\n",
    "retriever.init()   "
   ]
  },
  {
   "cell_type": "code",
   "execution_count": 4,
   "metadata": {},
   "outputs": [],
   "source": [
    "with open(\"config.yaml\", 'r') as file:\n",
    "        config = yaml.safe_load(file)\n",
    "        database_config = config.get('database', {})\n",
    "        user = database_config.get('username')\n",
    "        password = database_config.get('password')\n"
   ]
  },
  {
   "cell_type": "code",
   "execution_count": 5,
   "metadata": {},
   "outputs": [],
   "source": [
    "LOGUER = 'loguer'\n",
    "PROCESSOR = 'processor'\n",
    "VERIFIER = 'verifier'\n",
    "ASSISTANT = 'assistant'\n",
    "HIL = 'hil'\n",
    "TOOLS = 'tools'"
   ]
  },
  {
   "cell_type": "code",
   "execution_count": 6,
   "metadata": {},
   "outputs": [],
   "source": [
    "class RequiredInformation(BaseModel):\n",
    "    provided_id: Optional[int] = Field(None,description=\"La cédula que proporcionó el usuario\")\n",
    "    provided_email: Optional[str] = Field(None,description=\"El email que proporcionó el usuario\")\n",
    "\n",
    "class State(TypedDict):\n",
    "    user_question: str\n",
    "    messages: Annotated[list[AnyMessage], add_messages]\n",
    "    validated: bool\n",
    "    required_information: RequiredInformation\n",
    "    telefono : int\n",
    "\n",
    "llm = ChatGroq(groq_api_key=os.environ['GROQ_API_KEY'], model_name=\"llama3-70b-8192\")"
   ]
  },
  {
   "cell_type": "code",
   "execution_count": 7,
   "metadata": {},
   "outputs": [],
   "source": [
    "system = \"\"\"Eres un asistente auxiliar con la tarea de verificar la identidad del cliente.\n",
    "            1. Primero necesitas recoger la información del cliente para poder verificarlo.\n",
    "            2. Luego de que colectes toda la información, di amablemente gracias y que vas a pasar a verificarlo.\n",
    "            \n",
    "            La información a continuación es la que debes recolectar:\n",
    "\n",
    "            class RequiredInformation(BaseModel):\n",
    "                provided_id: Optional[int] = Field(None,description=\"La cédula que proporcionó el usuario\")\n",
    "                provided_email: Optional[str] = Field(None,description=\"El email que proporcionó el usuario\")\n",
    "                \n",
    "            Asegurate de tener la información antes de que puedas proceder, pero recolectala un campo a la vez. \n",
    "            Si el usuario se equivocó ingresando los datos, por favor dile porqué y que vuelva a ingresar el dato.\n",
    "            Si alguna de esta información no es proporcionada retorna None\n",
    "\n",
    "            NO LLENES LA INFORMACIÓN DEL USUARIO, RECOLECTALA.\n",
    "            \"\"\"\n",
    "assistant_prompt = ChatPromptTemplate.from_messages(\n",
    "    [\n",
    "        (\"system\", system),\n",
    "        (\n",
    "            \"human\",\n",
    "            \"User question: {user_question}\"\n",
    "            \"Chat history: {messages}\"\n",
    "            \"Telefono:{telefono}\"\n",
    "            \"\\n\\n What the user have provided so far {provided_required_information} \\n\\n\",\n",
    "        ),\n",
    "    ]\n",
    ")\n",
    "\n",
    "def assistant_node(state: State) -> dict:\n",
    "    print(\"En el logueador\", state)\n",
    "    get_information_chain = assistant_prompt | llm.bind_tools([RequiredInformation])\n",
    "    res = get_information_chain.invoke(\n",
    "        {\n",
    "            \"user_question\":state[\"user_question\"] if \"user_question\" in state else None,\n",
    "            \"provided_required_information\": state[\"required_information\"] if \"required_information\" in state else None,\n",
    "            \"messages\": state[\"messages\"] if \"messages\" in state else [],\n",
    "            \"telefono\": state[\"telefono\"]\n",
    "        }\n",
    "    )\n",
    "    return {\"user_question\":state[\"messages\"][-1].content,\"messages\": [res]}\n",
    "\n",
    "def combine_required_info(info_list: list[RequiredInformation]) -> RequiredInformation:\n",
    "    print(\"Combinando información requerida...\")\n",
    "    info_list = [info for info in info_list if info is not None]\n",
    "\n",
    "    if len(info_list) == 1:\n",
    "        return info_list[0]\n",
    "    combined_info = {}\n",
    "    for info in info_list:\n",
    "        for key, value in info.model_dump().items():\n",
    "            if value is not None:\n",
    "                combined_info[key] = value\n",
    "    print(combined_info)\n",
    "    return RequiredInformation(**combined_info)\n",
    "\n",
    "\n",
    "def process_info(state: State) -> dict:\n",
    "    print(\"procesando información ingresada por el usuario:\", state)\n",
    "    structured_llm_user_info = llm.with_structured_output(RequiredInformation)\n",
    "\n",
    "    information_chain = assistant_prompt | structured_llm_user_info\n",
    "    res = information_chain.invoke(\n",
    "        {\n",
    "            \"user_question\": state[\"user_question\"],\n",
    "            \"provided_required_information\": state[\"user_question\"],\n",
    "            \"messages\": state[\"messages\"],\n",
    "            \"telefono\": state[\"telefono\"]\n",
    "        }\n",
    "    )\n",
    "    if \"required_information\" in state:\n",
    "        required_info = combine_required_info(\n",
    "            info_list=[res, state.get(\"required_information\")]\n",
    "        )\n",
    "    else:\n",
    "        required_info = res\n",
    "    return {\n",
    "        \"required_information\": required_info,\n",
    "        \"messages\": [HumanMessage(content=state[\"user_question\"])],\n",
    "    }\n",
    "    \n",
    "\n",
    "def verify_information(state: State) -> dict:\n",
    "    print(\"Verificando...\")\n",
    "    Telefono = state[\"telefono\"]\n",
    "    required_information: RequiredInformation = state[\"required_information\"]\n",
    "\n",
    "    cnxn = pymssql.connect(server='192.168.50.38\\\\DW_FZ', database='DW_FZ', user=user, password=password)\n",
    "    query4 = f\"\"\"\n",
    "        SELECT * FROM [DW_FZ].[dbo].[CRM_Datos_Cliente] Where Telefono = '{Telefono}';\n",
    "        \"\"\"\n",
    "    df_cl = pd.read_sql_query(query4, cnxn)\n",
    "    \n",
    "    if not df_cl.empty:\n",
    "        correo_cl = df_cl['Correo']\n",
    "        cedula_cl = df_cl['Cedula']\n",
    "        if required_information.provided_id == cedula_cl.values[0] and required_information.provided_email == correo_cl.values[0]:\n",
    "            print(\"Verificado!!!\")\n",
    "            return {\"validated\": True}\n",
    "        else:\n",
    "            return {\"validated\": False}          \n",
    "    else: \n",
    "        return {\"validated\": False}\n",
    "    \n",
    "\n",
    "def provided_all_details(state: State) -> str:\n",
    "    print(\"Mirando si ya ingresó toda la info\")\n",
    "    if \"required_information\" not in state:\n",
    "        print(\"No ha recolectado ninguna info todavía\")\n",
    "        return \"need to collect more information\"\n",
    "    provided_information: RequiredInformation = state[\"required_information\"]\n",
    "    if (\n",
    "        provided_information.provided_id\n",
    "        and provided_information.provided_email\n",
    "    ):\n",
    "        print(\"Ya ingresó toda la info\")\n",
    "        return \"all information collected\"\n",
    "    else:\n",
    "        print(\"No ha recolectado TODA la info\")\n",
    "        return \"need to collect more information\"\n",
    "\n",
    "\n",
    "def verified(state: State) -> str:\n",
    "    print(\"En la arista de verificación\")\n",
    "    verified_successfully = state[\"validated\"]\n",
    "\n",
    "    if verified_successfully:\n",
    "        return \"agent_with_tools\"\n",
    "    else:\n",
    "        return ASSISTANT\n",
    "    \n",
    "def get_state(state) -> Literal[\"loguer\",\"add_tool_msg\", \"__end__\"]:\n",
    "    print(\"ON EDGE: GET STATE\")\n",
    "    messages = state[\"messages\"]\n",
    "    print(messages[-1])\n",
    "    if isinstance(messages[-1], AIMessage) and messages[-1].tool_calls:\n",
    "        print(\"NEXT NODE: TOOL MESSAGE\")\n",
    "        return \"add_tool_msg\"\n",
    "    elif not isinstance(messages[-1], HumanMessage):\n",
    "        print(\"NEXT NODE: HUMAN RESPONSE (END)\")\n",
    "        return END\n",
    "    else:\n",
    "        return 'loguer'\n",
    "\n",
    "def handle_tool_error(state) -> dict:\n",
    "    error = state.get(\"error\")\n",
    "    tool_calls = state[\"messages\"][-1].tool_calls\n",
    "    return {\n",
    "        \"messages\": [\n",
    "            ToolMessage(\n",
    "                content=f\"Error: {repr(error)}\\n please fix your mistakes.\",\n",
    "                tool_call_id=tc[\"id\"],\n",
    "            )\n",
    "            for tc in tool_calls\n",
    "        ]\n",
    "    }\n",
    "\n",
    "def create_tool_node_with_fallback(tools: list) -> dict:\n",
    "    return ToolNode(tools).with_fallbacks(\n",
    "        [RunnableLambda(handle_tool_error)], exception_key=\"error\"\n",
    "    )\n",
    "    "
   ]
  },
  {
   "cell_type": "code",
   "execution_count": 8,
   "metadata": {},
   "outputs": [],
   "source": [
    "@tool\n",
    "def lookup_questions(query : str) -> str:\n",
    "    \"\"\"\n",
    "    Consulta la base de datos de documentos para resolver la pregunta del cliente\n",
    "    \"\"\"\n",
    "    docs = retriever.invoke(query)\n",
    "    return docs"
   ]
  },
  {
   "cell_type": "code",
   "execution_count": 9,
   "metadata": {},
   "outputs": [],
   "source": [
    "class Assistant:\n",
    "    def __init__(self, runnable: Runnable):\n",
    "        self.runnable = runnable\n",
    "\n",
    "    def __call__(self, state: State):\n",
    "        print(\"En el asistente!!!\")\n",
    "        while True:\n",
    "            result = self.runnable.invoke(\n",
    "                    {\n",
    "                        \"user_question\":state[\"messages\"][-1],\n",
    "                        \"messages\": state[\"messages\"] if \"messages\" in state else [],\n",
    "                        \"telefono\": state[\"telefono\"]\n",
    "                    }\n",
    "                )\n",
    "            # If the LLM happens to return an empty response, we will re-prompt it\n",
    "            # for an actual response.\n",
    "            if not result.tool_calls and (\n",
    "                not result.content\n",
    "                or isinstance(result.content, list)\n",
    "                and not result.content[0].get(\"text\")\n",
    "            ):\n",
    "                messages = state[\"messages\"] + [(\"user\", \"Responde con un output real\")]\n",
    "                state = {**state, \"messages\": messages}\n",
    "            else:\n",
    "                break\n",
    "        return {\"messages\": result}\n",
    "    \n",
    "primary_assistant_prompt = ChatPromptTemplate.from_messages(\n",
    "    [\n",
    "        (\n",
    "            \"system\",\n",
    "            \"Eres SAC, el agente de servicio al cliente más eficiente de Finanzauto en Colombia.\"\n",
    "            \"Usa las herramintas otorgadas para responder a las preguntas del usuario, mostrar creditos, etc.\"\n",
    "            \"RESPONDE SIEMPRE EN ESPAÑOL\"\n",
    "            \"\\n\\nteléfono del usuario actual:\\n<User>\\n{telefono}\\n</User>\"\n",
    "            \"\\nTiempo actual: {time}.\",\n",
    "        ),\n",
    "        (\"placeholder\", \"{messages}\"),\n",
    "    ]\n",
    ").partial(time=datetime.now())\n",
    "\n",
    "part_1_tools = [\n",
    "    lookup_questions\n",
    "]\n",
    "part_1_assistant_runnable = primary_assistant_prompt | llm.bind_tools(part_1_tools)"
   ]
  },
  {
   "cell_type": "code",
   "execution_count": null,
   "metadata": {},
   "outputs": [],
   "source": []
  },
  {
   "cell_type": "code",
   "execution_count": 10,
   "metadata": {},
   "outputs": [],
   "source": [
    "workflow = StateGraph(State)\n",
    "workflow.add_node(LOGUER, assistant_node)\n",
    "workflow.add_node(PROCESSOR, process_info)\n",
    "workflow.add_node(VERIFIER, verify_information)\n",
    "workflow.add_node(ASSISTANT, Assistant(part_1_assistant_runnable))\n",
    "workflow.add_node(TOOLS, create_tool_node_with_fallback(part_1_tools))\n",
    "\n",
    "workflow.set_entry_point(LOGUER)\n",
    "workflow.add_conditional_edges(\n",
    "    LOGUER,\n",
    "    get_state\n",
    "    {\n",
    "        \"__end__\",\n",
    "        \"processor\"\n",
    "    }\n",
    ")\n",
    "#workflow.add_edge(LOGUER, HIL)\n",
    "#workflow.add_edge(HIL, PROCESSOR)\n",
    "workflow.add_conditional_edges(\n",
    "    PROCESSOR,\n",
    "    provided_all_details,\n",
    "    {\n",
    "        \"need to collect more information\": LOGUER,\n",
    "        \"all information collected\": VERIFIER,\n",
    "    },\n",
    ")\n",
    "workflow.add_conditional_edges(\n",
    "    VERIFIER,\n",
    "    verified,\n",
    "    {\"agent_with_tools\": ASSISTANT, LOGUER: LOGUER},\n",
    ")\n",
    "\n",
    "\n",
    "# Define edges: these determine how the control flow moves\n",
    "\n",
    "workflow.add_conditional_edges(\n",
    "    ASSISTANT,\n",
    "    tools_condition,\n",
    "    {\n",
    "        TOOLS:TOOLS,\n",
    "        '__end__':END\n",
    "    }\n",
    ")\n",
    "workflow.add_edge(TOOLS, ASSISTANT)"
   ]
  },
  {
   "cell_type": "code",
   "execution_count": 11,
   "metadata": {},
   "outputs": [
    {
     "data": {
      "image/jpeg": "[encoded data removed]",
      "text/plain": [
       "<IPython.core.display.Image object>"
      ]
     },
     "metadata": {},
     "output_type": "display_data"
    }
   ],
   "source": [
    "memory = MemorySaver()\n",
    "graph = workflow.compile(checkpointer=memory)\n",
    "graph.get_graph().draw_mermaid_png(output_file_path=\"graph.png\")\n",
    "display(Image(graph.get_graph().draw_mermaid_png()))"
   ]
  },
  {
   "cell_type": "code",
   "execution_count": 12,
   "metadata": {},
   "outputs": [
    {
     "ename": "KeyError",
     "evalue": "'thread_id'",
     "output_type": "error",
     "traceback": [
      "\u001b[0;31m---------------------------------------------------------------------------\u001b[0m",
      "\u001b[0;31mKeyError\u001b[0m                                  Traceback (most recent call last)",
      "Cell \u001b[0;32mIn[12], line 1\u001b[0m\n\u001b[0;32m----> 1\u001b[0m \u001b[43mgraph\u001b[49m\u001b[38;5;241;43m.\u001b[39;49m\u001b[43minvoke\u001b[49m\u001b[43m(\u001b[49m\u001b[43m{\u001b[49m\u001b[38;5;124;43m\"\u001b[39;49m\u001b[38;5;124;43mmessages\u001b[39;49m\u001b[38;5;124;43m\"\u001b[39;49m\u001b[43m:\u001b[49m\u001b[43m[\u001b[49m\u001b[38;5;124;43m'\u001b[39;49m\u001b[38;5;124;43mHola, soy Daniel\u001b[39;49m\u001b[38;5;124;43m'\u001b[39;49m\u001b[43m]\u001b[49m\u001b[43m,\u001b[49m\u001b[43m \u001b[49m\u001b[38;5;124;43m\"\u001b[39;49m\u001b[38;5;124;43mtelefono\u001b[39;49m\u001b[38;5;124;43m\"\u001b[39;49m\u001b[43m:\u001b[49m\u001b[38;5;124;43m\"\u001b[39;49m\u001b[38;5;124;43m3152332041\u001b[39;49m\u001b[38;5;124;43m\"\u001b[39;49m\u001b[43m}\u001b[49m\u001b[43m,\u001b[49m\u001b[43mconfig\u001b[49m\u001b[38;5;241;43m=\u001b[39;49m\u001b[43mconfig\u001b[49m\u001b[43m)\u001b[49m\n",
      "File \u001b[0;32m~/anaconda3/envs/llms_env/lib/python3.12/site-packages/langgraph/pregel/__init__.py:1470\u001b[0m, in \u001b[0;36mPregel.invoke\u001b[0;34m(self, input, config, stream_mode, output_keys, interrupt_before, interrupt_after, debug, **kwargs)\u001b[0m\n\u001b[1;32m   1468\u001b[0m \u001b[38;5;28;01melse\u001b[39;00m:\n\u001b[1;32m   1469\u001b[0m     chunks \u001b[38;5;241m=\u001b[39m []\n\u001b[0;32m-> 1470\u001b[0m \u001b[43m\u001b[49m\u001b[38;5;28;43;01mfor\u001b[39;49;00m\u001b[43m \u001b[49m\u001b[43mchunk\u001b[49m\u001b[43m \u001b[49m\u001b[38;5;129;43;01min\u001b[39;49;00m\u001b[43m \u001b[49m\u001b[38;5;28;43mself\u001b[39;49m\u001b[38;5;241;43m.\u001b[39;49m\u001b[43mstream\u001b[49m\u001b[43m(\u001b[49m\n\u001b[1;32m   1471\u001b[0m \u001b[43m    \u001b[49m\u001b[38;5;28;43minput\u001b[39;49m\u001b[43m,\u001b[49m\n\u001b[1;32m   1472\u001b[0m \u001b[43m    \u001b[49m\u001b[43mconfig\u001b[49m\u001b[43m,\u001b[49m\n\u001b[1;32m   1473\u001b[0m \u001b[43m    \u001b[49m\u001b[43mstream_mode\u001b[49m\u001b[38;5;241;43m=\u001b[39;49m\u001b[43mstream_mode\u001b[49m\u001b[43m,\u001b[49m\n\u001b[1;32m   1474\u001b[0m \u001b[43m    \u001b[49m\u001b[43moutput_keys\u001b[49m\u001b[38;5;241;43m=\u001b[39;49m\u001b[43moutput_keys\u001b[49m\u001b[43m,\u001b[49m\n\u001b[1;32m   1475\u001b[0m \u001b[43m    \u001b[49m\u001b[43minterrupt_before\u001b[49m\u001b[38;5;241;43m=\u001b[39;49m\u001b[43minterrupt_before\u001b[49m\u001b[43m,\u001b[49m\n\u001b[1;32m   1476\u001b[0m \u001b[43m    \u001b[49m\u001b[43minterrupt_after\u001b[49m\u001b[38;5;241;43m=\u001b[39;49m\u001b[43minterrupt_after\u001b[49m\u001b[43m,\u001b[49m\n\u001b[1;32m   1477\u001b[0m \u001b[43m    \u001b[49m\u001b[43mdebug\u001b[49m\u001b[38;5;241;43m=\u001b[39;49m\u001b[43mdebug\u001b[49m\u001b[43m,\u001b[49m\n\u001b[1;32m   1478\u001b[0m \u001b[43m    \u001b[49m\u001b[38;5;241;43m*\u001b[39;49m\u001b[38;5;241;43m*\u001b[39;49m\u001b[43mkwargs\u001b[49m\u001b[43m,\u001b[49m\n\u001b[1;32m   1479\u001b[0m \u001b[43m\u001b[49m\u001b[43m)\u001b[49m\u001b[43m:\u001b[49m\n\u001b[1;32m   1480\u001b[0m \u001b[43m    \u001b[49m\u001b[38;5;28;43;01mif\u001b[39;49;00m\u001b[43m \u001b[49m\u001b[43mstream_mode\u001b[49m\u001b[43m \u001b[49m\u001b[38;5;241;43m==\u001b[39;49m\u001b[43m \u001b[49m\u001b[38;5;124;43m\"\u001b[39;49m\u001b[38;5;124;43mvalues\u001b[39;49m\u001b[38;5;124;43m\"\u001b[39;49m\u001b[43m:\u001b[49m\n\u001b[1;32m   1481\u001b[0m \u001b[43m        \u001b[49m\u001b[43mlatest\u001b[49m\u001b[43m \u001b[49m\u001b[38;5;241;43m=\u001b[39;49m\u001b[43m \u001b[49m\u001b[43mchunk\u001b[49m\n",
      "File \u001b[0;32m~/anaconda3/envs/llms_env/lib/python3.12/site-packages/langgraph/pregel/__init__.py:1193\u001b[0m, in \u001b[0;36mPregel.stream\u001b[0;34m(self, input, config, stream_mode, output_keys, interrupt_before, interrupt_after, debug, subgraphs)\u001b[0m\n\u001b[1;32m   1176\u001b[0m \u001b[38;5;66;03m# assign defaults\u001b[39;00m\n\u001b[1;32m   1177\u001b[0m (\n\u001b[1;32m   1178\u001b[0m     debug,\n\u001b[1;32m   1179\u001b[0m     stream_modes,\n\u001b[0;32m   (...)\u001b[0m\n\u001b[1;32m   1190\u001b[0m     debug\u001b[38;5;241m=\u001b[39mdebug,\n\u001b[1;32m   1191\u001b[0m )\n\u001b[0;32m-> 1193\u001b[0m \u001b[43m\u001b[49m\u001b[38;5;28;43;01mwith\u001b[39;49;00m\u001b[43m \u001b[49m\u001b[43mSyncPregelLoop\u001b[49m\u001b[43m(\u001b[49m\n\u001b[1;32m   1194\u001b[0m \u001b[43m    \u001b[49m\u001b[38;5;28;43minput\u001b[39;49m\u001b[43m,\u001b[49m\n\u001b[1;32m   1195\u001b[0m \u001b[43m    \u001b[49m\u001b[43mstream\u001b[49m\u001b[38;5;241;43m=\u001b[39;49m\u001b[43mstream\u001b[49m\u001b[38;5;241;43m.\u001b[39;49m\u001b[43mappend\u001b[49m\u001b[43m,\u001b[49m\n\u001b[1;32m   1196\u001b[0m \u001b[43m    \u001b[49m\u001b[43mconfig\u001b[49m\u001b[38;5;241;43m=\u001b[39;49m\u001b[43mconfig\u001b[49m\u001b[43m,\u001b[49m\n\u001b[1;32m   1197\u001b[0m \u001b[43m    \u001b[49m\u001b[43mstore\u001b[49m\u001b[38;5;241;43m=\u001b[39;49m\u001b[38;5;28;43mself\u001b[39;49m\u001b[38;5;241;43m.\u001b[39;49m\u001b[43mstore\u001b[49m\u001b[43m,\u001b[49m\n\u001b[1;32m   1198\u001b[0m \u001b[43m    \u001b[49m\u001b[43mcheckpointer\u001b[49m\u001b[38;5;241;43m=\u001b[39;49m\u001b[43mcheckpointer\u001b[49m\u001b[43m,\u001b[49m\n\u001b[1;32m   1199\u001b[0m \u001b[43m    \u001b[49m\u001b[43mnodes\u001b[49m\u001b[38;5;241;43m=\u001b[39;49m\u001b[38;5;28;43mself\u001b[39;49m\u001b[38;5;241;43m.\u001b[39;49m\u001b[43mnodes\u001b[49m\u001b[43m,\u001b[49m\n\u001b[1;32m   1200\u001b[0m \u001b[43m    \u001b[49m\u001b[43mspecs\u001b[49m\u001b[38;5;241;43m=\u001b[39;49m\u001b[38;5;28;43mself\u001b[39;49m\u001b[38;5;241;43m.\u001b[39;49m\u001b[43mchannels\u001b[49m\u001b[43m,\u001b[49m\n\u001b[1;32m   1201\u001b[0m \u001b[43m    \u001b[49m\u001b[43moutput_keys\u001b[49m\u001b[38;5;241;43m=\u001b[39;49m\u001b[43moutput_keys\u001b[49m\u001b[43m,\u001b[49m\n\u001b[1;32m   1202\u001b[0m \u001b[43m    \u001b[49m\u001b[43mstream_keys\u001b[49m\u001b[38;5;241;43m=\u001b[39;49m\u001b[38;5;28;43mself\u001b[39;49m\u001b[38;5;241;43m.\u001b[39;49m\u001b[43mstream_channels_asis\u001b[49m\u001b[43m,\u001b[49m\n\u001b[1;32m   1203\u001b[0m \u001b[43m    \u001b[49m\u001b[43mdebug\u001b[49m\u001b[38;5;241;43m=\u001b[39;49m\u001b[43mdebug\u001b[49m\u001b[43m,\u001b[49m\n\u001b[1;32m   1204\u001b[0m \u001b[43m\u001b[49m\u001b[43m)\u001b[49m\u001b[43m \u001b[49m\u001b[38;5;28;43;01mas\u001b[39;49;00m\u001b[43m \u001b[49m\u001b[43mloop\u001b[49m\u001b[43m:\u001b[49m\n\u001b[1;32m   1205\u001b[0m \u001b[43m    \u001b[49m\u001b[38;5;66;43;03m# create runner\u001b[39;49;00m\n\u001b[1;32m   1206\u001b[0m \u001b[43m    \u001b[49m\u001b[43mrunner\u001b[49m\u001b[43m \u001b[49m\u001b[38;5;241;43m=\u001b[39;49m\u001b[43m \u001b[49m\u001b[43mPregelRunner\u001b[49m\u001b[43m(\u001b[49m\n\u001b[1;32m   1207\u001b[0m \u001b[43m        \u001b[49m\u001b[43msubmit\u001b[49m\u001b[38;5;241;43m=\u001b[39;49m\u001b[43mloop\u001b[49m\u001b[38;5;241;43m.\u001b[39;49m\u001b[43msubmit\u001b[49m\u001b[43m,\u001b[49m\n\u001b[1;32m   1208\u001b[0m \u001b[43m        \u001b[49m\u001b[43mput_writes\u001b[49m\u001b[38;5;241;43m=\u001b[39;49m\u001b[43mloop\u001b[49m\u001b[38;5;241;43m.\u001b[39;49m\u001b[43mput_writes\u001b[49m\u001b[43m,\u001b[49m\n\u001b[1;32m   1209\u001b[0m \u001b[43m    \u001b[49m\u001b[43m)\u001b[49m\n\u001b[1;32m   1210\u001b[0m \u001b[43m    \u001b[49m\u001b[38;5;66;43;03m# enable subgraph streaming\u001b[39;49;00m\n",
      "File \u001b[0;32m~/anaconda3/envs/llms_env/lib/python3.12/site-packages/langgraph/pregel/loop.py:665\u001b[0m, in \u001b[0;36mSyncPregelLoop.__enter__\u001b[0;34m(self)\u001b[0m\n\u001b[1;32m    663\u001b[0m         \u001b[38;5;28;01mraise\u001b[39;00m CheckpointNotLatest\n\u001b[1;32m    664\u001b[0m \u001b[38;5;28;01melif\u001b[39;00m \u001b[38;5;28mself\u001b[39m\u001b[38;5;241m.\u001b[39mcheckpointer:\n\u001b[0;32m--> 665\u001b[0m     saved \u001b[38;5;241m=\u001b[39m \u001b[38;5;28;43mself\u001b[39;49m\u001b[38;5;241;43m.\u001b[39;49m\u001b[43mcheckpointer\u001b[49m\u001b[38;5;241;43m.\u001b[39;49m\u001b[43mget_tuple\u001b[49m\u001b[43m(\u001b[49m\u001b[38;5;28;43mself\u001b[39;49m\u001b[38;5;241;43m.\u001b[39;49m\u001b[43mcheckpoint_config\u001b[49m\u001b[43m)\u001b[49m\n\u001b[1;32m    666\u001b[0m \u001b[38;5;28;01melse\u001b[39;00m:\n\u001b[1;32m    667\u001b[0m     saved \u001b[38;5;241m=\u001b[39m \u001b[38;5;28;01mNone\u001b[39;00m\n",
      "File \u001b[0;32m~/anaconda3/envs/llms_env/lib/python3.12/site-packages/langgraph/checkpoint/memory/__init__.py:107\u001b[0m, in \u001b[0;36mMemorySaver.get_tuple\u001b[0;34m(self, config)\u001b[0m\n\u001b[1;32m     93\u001b[0m \u001b[38;5;28;01mdef\u001b[39;00m \u001b[38;5;21mget_tuple\u001b[39m(\u001b[38;5;28mself\u001b[39m, config: RunnableConfig) \u001b[38;5;241m-\u001b[39m\u001b[38;5;241m>\u001b[39m Optional[CheckpointTuple]:\n\u001b[1;32m     94\u001b[0m \u001b[38;5;250m    \u001b[39m\u001b[38;5;124;03m\"\"\"Get a checkpoint tuple from the in-memory storage.\u001b[39;00m\n\u001b[1;32m     95\u001b[0m \n\u001b[1;32m     96\u001b[0m \u001b[38;5;124;03m    This method retrieves a checkpoint tuple from the in-memory storage based on the\u001b[39;00m\n\u001b[0;32m   (...)\u001b[0m\n\u001b[1;32m    105\u001b[0m \u001b[38;5;124;03m        Optional[CheckpointTuple]: The retrieved checkpoint tuple, or None if no matching checkpoint was found.\u001b[39;00m\n\u001b[1;32m    106\u001b[0m \u001b[38;5;124;03m    \"\"\"\u001b[39;00m\n\u001b[0;32m--> 107\u001b[0m     thread_id \u001b[38;5;241m=\u001b[39m \u001b[43mconfig\u001b[49m\u001b[43m[\u001b[49m\u001b[38;5;124;43m\"\u001b[39;49m\u001b[38;5;124;43mconfigurable\u001b[39;49m\u001b[38;5;124;43m\"\u001b[39;49m\u001b[43m]\u001b[49m\u001b[43m[\u001b[49m\u001b[38;5;124;43m\"\u001b[39;49m\u001b[38;5;124;43mthread_id\u001b[39;49m\u001b[38;5;124;43m\"\u001b[39;49m\u001b[43m]\u001b[49m\n\u001b[1;32m    108\u001b[0m     checkpoint_ns \u001b[38;5;241m=\u001b[39m config[\u001b[38;5;124m\"\u001b[39m\u001b[38;5;124mconfigurable\u001b[39m\u001b[38;5;124m\"\u001b[39m]\u001b[38;5;241m.\u001b[39mget(\u001b[38;5;124m\"\u001b[39m\u001b[38;5;124mcheckpoint_ns\u001b[39m\u001b[38;5;124m\"\u001b[39m, \u001b[38;5;124m\"\u001b[39m\u001b[38;5;124m\"\u001b[39m)\n\u001b[1;32m    109\u001b[0m     \u001b[38;5;28;01mif\u001b[39;00m checkpoint_id \u001b[38;5;241m:=\u001b[39m get_checkpoint_id(config):\n",
      "\u001b[0;31mKeyError\u001b[0m: 'thread_id'"
     ]
    }
   ],
   "source": [
    "graph.invoke({\"messages\":['Hola, soy Daniel'], \"telefono\":\"3152332041\"},config=config)"
   ]
  },
  {
   "cell_type": "code",
   "execution_count": 12,
   "metadata": {},
   "outputs": [],
   "source": [
    "thread_id = 1\n",
    "\n",
    "config = {\n",
    "    \"configurable\": {\n",
    "        \"thread_id\": thread_id,\n",
    "    }\n",
    "}"
   ]
  },
  {
   "cell_type": "code",
   "execution_count": null,
   "metadata": {},
   "outputs": [
    {
     "name": "stdout",
     "output_type": "stream",
     "text": [
      "En el logueador {'user_question': 'Hola, doy Daniel', 'messages': [HumanMessage(content='Hola, soy Daniel', additional_kwargs={}, response_metadata={}, id='55b17028-e283-4ed4-a1f9-6bf79660f5b9'), HumanMessage(content='125748', additional_kwargs={}, response_metadata={}, id='f00ac5ce-af6d-4566-b23c-041984c0817f'), HumanMessage(content='juanfonsecagaravito@gmail.com', additional_kwargs={}, response_metadata={}, id='944c2640-cbda-4ff7-8740-80095a1f9228'), HumanMessage(content='cual es la sede de medellín?', additional_kwargs={}, response_metadata={}, id='e930c33f-1790-4047-b59c-dbc63032cc05'), AIMessage(content='Hola Daniel, necesito verificar su identidad para proseguir. Para hacerlo, necesito algunos datos suyos. Por favor, proporcione su cédula de identidad.', additional_kwargs={}, response_metadata={'token_usage': {'completion_tokens': 40, 'prompt_tokens': 426, 'total_tokens': 466, 'completion_time': 0.128849125, 'prompt_time': 0.02632654, 'queue_time': 0.00428417, 'total_time': 0.155175665}, 'model_name': 'llama3-70b-8192', 'system_fingerprint': 'fp_87cbfbbc4d', 'finish_reason': 'stop', 'logprobs': None}, id='run-bf40d9b7-a218-44f5-85db-8773549bd2bb-0', usage_metadata={'input_tokens': 426, 'output_tokens': 40, 'total_tokens': 466}), HumanMessage(content='cual es la sede de medellín?', additional_kwargs={}, response_metadata={}, id='0923e1b6-481e-4c4b-9c6c-55d48dd1855c'), AIMessage(content='', additional_kwargs={'tool_calls': [{'id': 'call_jkz5', 'function': {'arguments': '{\"query\":\"sede de medellín\"}', 'name': 'lookup_questions'}, 'type': 'function'}]}, response_metadata={'token_usage': {'completion_tokens': 48, 'prompt_tokens': 1117, 'total_tokens': 1165, 'completion_time': 0.154199956, 'prompt_time': 0.087914092, 'queue_time': 0.025755267, 'total_time': 0.242114048}, 'model_name': 'llama3-70b-8192', 'system_fingerprint': 'fp_c1a4bcec29', 'finish_reason': 'tool_calls', 'logprobs': None}, id='run-7664405d-98fe-48d5-bc93-581f1e4a21f1-0', tool_calls=[{'name': 'lookup_questions', 'args': {'query': 'sede de medellín'}, 'id': 'call_jkz5', 'type': 'tool_call'}], usage_metadata={'input_tokens': 1117, 'output_tokens': 48, 'total_tokens': 1165}), ToolMessage(content=\"[Document(metadata={}, page_content='direcciones oficinas / canales de atencion presencial / puntos fisicos / sedes finanzauto / sedes fisicas\\\\n\\\\n•\\\\tsede americas / bogota: cra. 56 n° 09 – 17 torre central. \\\\nhorario: lunes a viernes de 7:00 a.m. a 7:00 p.m.\\\\nsabados: 8:00 a.m. a 3:00 p.m.\\\\ndomingos: 9:00 a.m. a 3:00 p.m.\\\\n\\\\n•\\\\tsede norte / bogota: calle 116 n° 23–06 edificio business center 04. \\\\nhorario: lunes a viernes de 7:00 a.m. a 7:00 p.m.\\\\nsabados: 8:00 a.m. a 2:00 p.m. \\\\n\\\\n•\\\\tsede corabastos / bogota: av. cra.80 n°2-51 bodega 41 local 9. \\\\nhorario: lunes a viernes de 7:00 a.m. a 4:00 p.m.\\\\nsabados: 7:00 a.m. a 12:00 m.\\\\n\\\\n•\\\\tsede chia kilometro 2.5 via a cajica - chia, cundinamarca \\\\nhorario: lunes a viernes de 9:00 a.m. a 5:30 p.m.\\\\nsabados: 9:00 a.m. a 3:00 p.m.\\\\n\\\\n\\\\n•\\\\tvillavicencio: carrera 33 n° 15 – 28 edificio casa toro km 1 via puerto lopez. \\\\nhorario: lunes a viernes 8:00 a.m. a 5:30 p.m.\\\\nsabados 8:00 a.m. a 01:00 p.m. \\\\n\\\\n•\\\\tbucaramanga: calle 53 n° 23-97. \\\\nhorario: lunes a viernes 8:00 a.m. a 5:30 p.m.\\\\nsabados 8:00 a.m. a 01:00 p.m.\\\\n\\\\n•\\\\tbarranquilla: carrera 52 n° 74 -39. \\\\nhorario: lunes a viernes 8:00 a.m. a 5:30 p.m.\\\\nsabados 8:00 a.m. a 01:00 p.m.\\\\n\\\\n•\\\\tmedellin: carrera 43a n° 23-25 local 128 centro comercial avenida mall.\\\\nhorario: lunes a viernes 8:00 a.m. a 5:30 p.m. \\\\nsabados 8:00 a.m. a 01:00 p.m.\\\\n\\\\n•\\\\tcali: calle 40 norte n° 6n- 28 la campina.\\\\nhorario: lunes a viernes 8:00 a.m. a 5:30 p.m.\\\\nsabados: 8:00 a.m. a 01:00 p.m. \\\\n\\\\n•\\\\tcartagena: carrera 15 n° 31 - 110 local 12 centro -cultural y turistico san lazaro el espinal.\\\\nhorario: lunes a viernes 8:00 a.m. a 5:30 p.m. \\\\nsabados 8:00 a.m. a 01:00 p.m.'), Document(metadata={}, page_content='validacion titularidad / validacion propiedad / validacion propietario / dueno credito.\\\\n\\\\nel dueno, propietario o titular del credito es la persona a la cual le fue avalado. en este caso, el nombre del titular del credito es:'), Document(metadata={}, page_content='quien es el ente regulador:\\\\n\\\\nla superintendencia de sociedades.')]\", name='lookup_questions', id='5dd3f92a-4c75-462a-949a-55493b7f0533', tool_call_id='call_jkz5'), AIMessage(content='Hola Daniel, la sede de Medellín se encuentra en la carrera 43a n° 23-25 local 128, centro comercial Avenida Mall. El horario de atención es de lunes a viernes de 8:00 a.m. a 5:30 p.m. y sábados de 8:00 a.m. a 1:00 p.m.', additional_kwargs={}, response_metadata={'token_usage': {'completion_tokens': 82, 'prompt_tokens': 2049, 'total_tokens': 2131, 'completion_time': 0.26095034, 'prompt_time': 0.205512656, 'queue_time': 0.06139085400000002, 'total_time': 0.466462996}, 'model_name': 'llama3-70b-8192', 'system_fingerprint': 'fp_87cbfbbc4d', 'finish_reason': 'stop', 'logprobs': None}, id='run-95e97786-9c19-4f28-933a-e9562533d1f5-0', usage_metadata={'input_tokens': 2049, 'output_tokens': 82, 'total_tokens': 2131}), HumanMessage(content='125748', additional_kwargs={}, response_metadata={}, id='80a6b5e1-069e-4831-97b1-1edcc21ceae2'), AIMessage(content='Hola Daniel, necesito verificar su identidad para proseguir. Para hacerlo, necesito algunos datos suyos. Por favor, proporcione su cédula de identidad.', additional_kwargs={}, response_metadata={'token_usage': {'completion_tokens': 40, 'prompt_tokens': 2221, 'total_tokens': 2261, 'completion_time': 0.126562562, 'prompt_time': 0.137819063, 'queue_time': 0.027590294000000015, 'total_time': 0.264381625}, 'model_name': 'llama3-70b-8192', 'system_fingerprint': 'fp_2f30b0b571', 'finish_reason': 'stop', 'logprobs': None}, id='run-89e7c13f-ab36-447e-9cb7-061cad045c6c-0', usage_metadata={'input_tokens': 2221, 'output_tokens': 40, 'total_tokens': 2261}), HumanMessage(content='125748', additional_kwargs={}, response_metadata={}, id='c13c23ef-7e21-452a-8067-2c07e8302293'), AIMessage(content='No puedo avanzar con la verificación de su identidad con solo el número 125748. Por favor, proporcione su cédula de identidad completa para que pueda ayudarlo con su consulta.', additional_kwargs={}, response_metadata={'token_usage': {'completion_tokens': 44, 'prompt_tokens': 2193, 'total_tokens': 2237, 'completion_time': 0.140161058, 'prompt_time': 0.1283537, 'queue_time': 0.004527317000000003, 'total_time': 0.268514758}, 'model_name': 'llama3-70b-8192', 'system_fingerprint': 'fp_87cbfbbc4d', 'finish_reason': 'stop', 'logprobs': None}, id='run-031bcba2-513b-4b59-9352-09822e4dee2d-0', usage_metadata={'input_tokens': 2193, 'output_tokens': 44, 'total_tokens': 2237}), HumanMessage(content='Hola, doy Daniel', additional_kwargs={}, response_metadata={}, id='fc3a4835-c6d6-4564-bb5a-dd3a23dbd503'), AIMessage(content='Gracias por proporcionar la información. Entiendo que has proporcionado una cédula de identidad con el número 125748 y un correo electrónico juanfonsecagaravito@gmail.com. \\n\\nVerificaré esta información para proseguir con la verificación de su identidad. Por favor, espere un momento.', additional_kwargs={}, response_metadata={'token_usage': {'completion_tokens': 69, 'prompt_tokens': 2741, 'total_tokens': 2810, 'completion_time': 0.217214378, 'prompt_time': 0.172374006, 'queue_time': 0.005991677000000001, 'total_time': 0.389588384}, 'model_name': 'llama3-70b-8192', 'system_fingerprint': 'fp_c1a4bcec29', 'finish_reason': 'stop', 'logprobs': None}, id='run-174b214b-f4ba-4b9a-8859-d816f044038d-0', usage_metadata={'input_tokens': 2741, 'output_tokens': 69, 'total_tokens': 2810}), HumanMessage(content='Hola, doy Daniel', additional_kwargs={}, response_metadata={}, id='fe8569d7-2f46-4636-a362-20cc78373e98'), AIMessage(content='Hola Daniel, ya he verificado su identidad. ¿En qué puedo ayudarlo hoy? ¿Tiene alguna pregunta o consulta sobre su crédito o algún otro tema relacionado con Finanzauto?', additional_kwargs={}, response_metadata={'token_usage': {'completion_tokens': 42, 'prompt_tokens': 2334, 'total_tokens': 2376, 'completion_time': 0.131492946, 'prompt_time': 0.199792298, 'queue_time': 0.10410697100000002, 'total_time': 0.331285244}, 'model_name': 'llama3-70b-8192', 'system_fingerprint': 'fp_c1a4bcec29', 'finish_reason': 'stop', 'logprobs': None}, id='run-8db7716f-0557-4d4f-9c91-36bb31d7f20e-0', usage_metadata={'input_tokens': 2334, 'output_tokens': 42, 'total_tokens': 2376}), HumanMessage(content='Hola, soy Daniel', additional_kwargs={}, response_metadata={}, id='c5b12241-defb-423a-a31c-b2d3caebf972')], 'validated': True, 'required_information': RequiredInformation(provided_id=125748, provided_email='juanfonsecagaravito@gmail.com'), 'telefono': '3152332041'}\n",
      "procesando información ingresada por el usuario: {'user_question': 'Hola, soy Daniel', 'messages': [HumanMessage(content='Hola, soy Daniel', additional_kwargs={}, response_metadata={}, id='55b17028-e283-4ed4-a1f9-6bf79660f5b9'), HumanMessage(content='125748', additional_kwargs={}, response_metadata={}, id='f00ac5ce-af6d-4566-b23c-041984c0817f'), HumanMessage(content='juanfonsecagaravito@gmail.com', additional_kwargs={}, response_metadata={}, id='944c2640-cbda-4ff7-8740-80095a1f9228'), HumanMessage(content='cual es la sede de medellín?', additional_kwargs={}, response_metadata={}, id='e930c33f-1790-4047-b59c-dbc63032cc05'), AIMessage(content='Hola Daniel, necesito verificar su identidad para proseguir. Para hacerlo, necesito algunos datos suyos. Por favor, proporcione su cédula de identidad.', additional_kwargs={}, response_metadata={'token_usage': {'completion_tokens': 40, 'prompt_tokens': 426, 'total_tokens': 466, 'completion_time': 0.128849125, 'prompt_time': 0.02632654, 'queue_time': 0.00428417, 'total_time': 0.155175665}, 'model_name': 'llama3-70b-8192', 'system_fingerprint': 'fp_87cbfbbc4d', 'finish_reason': 'stop', 'logprobs': None}, id='run-bf40d9b7-a218-44f5-85db-8773549bd2bb-0', usage_metadata={'input_tokens': 426, 'output_tokens': 40, 'total_tokens': 466}), HumanMessage(content='cual es la sede de medellín?', additional_kwargs={}, response_metadata={}, id='0923e1b6-481e-4c4b-9c6c-55d48dd1855c'), AIMessage(content='', additional_kwargs={'tool_calls': [{'id': 'call_jkz5', 'function': {'arguments': '{\"query\":\"sede de medellín\"}', 'name': 'lookup_questions'}, 'type': 'function'}]}, response_metadata={'token_usage': {'completion_tokens': 48, 'prompt_tokens': 1117, 'total_tokens': 1165, 'completion_time': 0.154199956, 'prompt_time': 0.087914092, 'queue_time': 0.025755267, 'total_time': 0.242114048}, 'model_name': 'llama3-70b-8192', 'system_fingerprint': 'fp_c1a4bcec29', 'finish_reason': 'tool_calls', 'logprobs': None}, id='run-7664405d-98fe-48d5-bc93-581f1e4a21f1-0', tool_calls=[{'name': 'lookup_questions', 'args': {'query': 'sede de medellín'}, 'id': 'call_jkz5', 'type': 'tool_call'}], usage_metadata={'input_tokens': 1117, 'output_tokens': 48, 'total_tokens': 1165}), ToolMessage(content=\"[Document(metadata={}, page_content='direcciones oficinas / canales de atencion presencial / puntos fisicos / sedes finanzauto / sedes fisicas\\\\n\\\\n•\\\\tsede americas / bogota: cra. 56 n° 09 – 17 torre central. \\\\nhorario: lunes a viernes de 7:00 a.m. a 7:00 p.m.\\\\nsabados: 8:00 a.m. a 3:00 p.m.\\\\ndomingos: 9:00 a.m. a 3:00 p.m.\\\\n\\\\n•\\\\tsede norte / bogota: calle 116 n° 23–06 edificio business center 04. \\\\nhorario: lunes a viernes de 7:00 a.m. a 7:00 p.m.\\\\nsabados: 8:00 a.m. a 2:00 p.m. \\\\n\\\\n•\\\\tsede corabastos / bogota: av. cra.80 n°2-51 bodega 41 local 9. \\\\nhorario: lunes a viernes de 7:00 a.m. a 4:00 p.m.\\\\nsabados: 7:00 a.m. a 12:00 m.\\\\n\\\\n•\\\\tsede chia kilometro 2.5 via a cajica - chia, cundinamarca \\\\nhorario: lunes a viernes de 9:00 a.m. a 5:30 p.m.\\\\nsabados: 9:00 a.m. a 3:00 p.m.\\\\n\\\\n\\\\n•\\\\tvillavicencio: carrera 33 n° 15 – 28 edificio casa toro km 1 via puerto lopez. \\\\nhorario: lunes a viernes 8:00 a.m. a 5:30 p.m.\\\\nsabados 8:00 a.m. a 01:00 p.m. \\\\n\\\\n•\\\\tbucaramanga: calle 53 n° 23-97. \\\\nhorario: lunes a viernes 8:00 a.m. a 5:30 p.m.\\\\nsabados 8:00 a.m. a 01:00 p.m.\\\\n\\\\n•\\\\tbarranquilla: carrera 52 n° 74 -39. \\\\nhorario: lunes a viernes 8:00 a.m. a 5:30 p.m.\\\\nsabados 8:00 a.m. a 01:00 p.m.\\\\n\\\\n•\\\\tmedellin: carrera 43a n° 23-25 local 128 centro comercial avenida mall.\\\\nhorario: lunes a viernes 8:00 a.m. a 5:30 p.m. \\\\nsabados 8:00 a.m. a 01:00 p.m.\\\\n\\\\n•\\\\tcali: calle 40 norte n° 6n- 28 la campina.\\\\nhorario: lunes a viernes 8:00 a.m. a 5:30 p.m.\\\\nsabados: 8:00 a.m. a 01:00 p.m. \\\\n\\\\n•\\\\tcartagena: carrera 15 n° 31 - 110 local 12 centro -cultural y turistico san lazaro el espinal.\\\\nhorario: lunes a viernes 8:00 a.m. a 5:30 p.m. \\\\nsabados 8:00 a.m. a 01:00 p.m.'), Document(metadata={}, page_content='validacion titularidad / validacion propiedad / validacion propietario / dueno credito.\\\\n\\\\nel dueno, propietario o titular del credito es la persona a la cual le fue avalado. en este caso, el nombre del titular del credito es:'), Document(metadata={}, page_content='quien es el ente regulador:\\\\n\\\\nla superintendencia de sociedades.')]\", name='lookup_questions', id='5dd3f92a-4c75-462a-949a-55493b7f0533', tool_call_id='call_jkz5'), AIMessage(content='Hola Daniel, la sede de Medellín se encuentra en la carrera 43a n° 23-25 local 128, centro comercial Avenida Mall. El horario de atención es de lunes a viernes de 8:00 a.m. a 5:30 p.m. y sábados de 8:00 a.m. a 1:00 p.m.', additional_kwargs={}, response_metadata={'token_usage': {'completion_tokens': 82, 'prompt_tokens': 2049, 'total_tokens': 2131, 'completion_time': 0.26095034, 'prompt_time': 0.205512656, 'queue_time': 0.06139085400000002, 'total_time': 0.466462996}, 'model_name': 'llama3-70b-8192', 'system_fingerprint': 'fp_87cbfbbc4d', 'finish_reason': 'stop', 'logprobs': None}, id='run-95e97786-9c19-4f28-933a-e9562533d1f5-0', usage_metadata={'input_tokens': 2049, 'output_tokens': 82, 'total_tokens': 2131}), HumanMessage(content='125748', additional_kwargs={}, response_metadata={}, id='80a6b5e1-069e-4831-97b1-1edcc21ceae2'), AIMessage(content='Hola Daniel, necesito verificar su identidad para proseguir. Para hacerlo, necesito algunos datos suyos. Por favor, proporcione su cédula de identidad.', additional_kwargs={}, response_metadata={'token_usage': {'completion_tokens': 40, 'prompt_tokens': 2221, 'total_tokens': 2261, 'completion_time': 0.126562562, 'prompt_time': 0.137819063, 'queue_time': 0.027590294000000015, 'total_time': 0.264381625}, 'model_name': 'llama3-70b-8192', 'system_fingerprint': 'fp_2f30b0b571', 'finish_reason': 'stop', 'logprobs': None}, id='run-89e7c13f-ab36-447e-9cb7-061cad045c6c-0', usage_metadata={'input_tokens': 2221, 'output_tokens': 40, 'total_tokens': 2261}), HumanMessage(content='125748', additional_kwargs={}, response_metadata={}, id='c13c23ef-7e21-452a-8067-2c07e8302293'), AIMessage(content='No puedo avanzar con la verificación de su identidad con solo el número 125748. Por favor, proporcione su cédula de identidad completa para que pueda ayudarlo con su consulta.', additional_kwargs={}, response_metadata={'token_usage': {'completion_tokens': 44, 'prompt_tokens': 2193, 'total_tokens': 2237, 'completion_time': 0.140161058, 'prompt_time': 0.1283537, 'queue_time': 0.004527317000000003, 'total_time': 0.268514758}, 'model_name': 'llama3-70b-8192', 'system_fingerprint': 'fp_87cbfbbc4d', 'finish_reason': 'stop', 'logprobs': None}, id='run-031bcba2-513b-4b59-9352-09822e4dee2d-0', usage_metadata={'input_tokens': 2193, 'output_tokens': 44, 'total_tokens': 2237}), HumanMessage(content='Hola, doy Daniel', additional_kwargs={}, response_metadata={}, id='fc3a4835-c6d6-4564-bb5a-dd3a23dbd503'), AIMessage(content='Gracias por proporcionar la información. Entiendo que has proporcionado una cédula de identidad con el número 125748 y un correo electrónico juanfonsecagaravito@gmail.com. \\n\\nVerificaré esta información para proseguir con la verificación de su identidad. Por favor, espere un momento.', additional_kwargs={}, response_metadata={'token_usage': {'completion_tokens': 69, 'prompt_tokens': 2741, 'total_tokens': 2810, 'completion_time': 0.217214378, 'prompt_time': 0.172374006, 'queue_time': 0.005991677000000001, 'total_time': 0.389588384}, 'model_name': 'llama3-70b-8192', 'system_fingerprint': 'fp_c1a4bcec29', 'finish_reason': 'stop', 'logprobs': None}, id='run-174b214b-f4ba-4b9a-8859-d816f044038d-0', usage_metadata={'input_tokens': 2741, 'output_tokens': 69, 'total_tokens': 2810}), HumanMessage(content='Hola, doy Daniel', additional_kwargs={}, response_metadata={}, id='fe8569d7-2f46-4636-a362-20cc78373e98'), AIMessage(content='Hola Daniel, ya he verificado su identidad. ¿En qué puedo ayudarlo hoy? ¿Tiene alguna pregunta o consulta sobre su crédito o algún otro tema relacionado con Finanzauto?', additional_kwargs={}, response_metadata={'token_usage': {'completion_tokens': 42, 'prompt_tokens': 2334, 'total_tokens': 2376, 'completion_time': 0.131492946, 'prompt_time': 0.199792298, 'queue_time': 0.10410697100000002, 'total_time': 0.331285244}, 'model_name': 'llama3-70b-8192', 'system_fingerprint': 'fp_c1a4bcec29', 'finish_reason': 'stop', 'logprobs': None}, id='run-8db7716f-0557-4d4f-9c91-36bb31d7f20e-0', usage_metadata={'input_tokens': 2334, 'output_tokens': 42, 'total_tokens': 2376}), HumanMessage(content='Hola, soy Daniel', additional_kwargs={}, response_metadata={}, id='c5b12241-defb-423a-a31c-b2d3caebf972'), AIMessage(content='Hola Daniel, gracias por proporcionar la información. Entiendo que has proporcionado una cédula de identidad con el número 125748 y un correo electrónico juanfonsecagaravito@gmail.com. \\nVerificaré esta información para proseguir con la verificación de su identidad. Por favor, espere un momento.', additional_kwargs={}, response_metadata={'token_usage': {'completion_tokens': 71, 'prompt_tokens': 3299, 'total_tokens': 3370, 'completion_time': 0.230136414, 'prompt_time': 0.213811318, 'queue_time': 0.0052831949999999905, 'total_time': 0.443947732}, 'model_name': 'llama3-70b-8192', 'system_fingerprint': 'fp_87cbfbbc4d', 'finish_reason': 'stop', 'logprobs': None}, id='run-ffa196b3-61dd-459c-a337-524805821e93-0', usage_metadata={'input_tokens': 3299, 'output_tokens': 71, 'total_tokens': 3370})], 'validated': True, 'required_information': RequiredInformation(provided_id=125748, provided_email='juanfonsecagaravito@gmail.com'), 'telefono': '3152332041'}\n",
      "Combinando información requerida...\n",
      "{'provided_id': 125748, 'provided_email': 'juanfonsecagaravito@gmail.com'}\n",
      "Mirando si ya ingresó toda la info\n",
      "Ya ingresó toda la info\n",
      "Verificando...\n"
     ]
    },
    {
     "name": "stderr",
     "output_type": "stream",
     "text": [
      "/tmp/ipykernel_502465/4025079817.py:92: UserWarning: pandas only supports SQLAlchemy connectable (engine/connection) or database string URI or sqlite3 DBAPI2 connection. Other DBAPI2 objects are not tested. Please consider using SQLAlchemy.\n",
      "  df_cl = pd.read_sql_query(query4, cnxn)\n"
     ]
    },
    {
     "name": "stdout",
     "output_type": "stream",
     "text": [
      "Verificado!!!\n",
      "En la arista de verificación\n",
      "En el asistente!!!\n"
     ]
    }
   ],
   "source": [
    "graph.invoke({\"messages\":['Hola, soy Daniel'], \"telefono\":\"3152332041\"}, config)"
   ]
  },
  {
   "cell_type": "code",
   "execution_count": 14,
   "metadata": {},
   "outputs": [
    {
     "data": {
      "text/plain": [
       "StateSnapshot(values={'user_question': 'cual es la sede de medellín?', 'messages': [HumanMessage(content='Hola, soy Daniel', additional_kwargs={}, response_metadata={}, id='55b17028-e283-4ed4-a1f9-6bf79660f5b9'), HumanMessage(content='125748', additional_kwargs={}, response_metadata={}, id='f00ac5ce-af6d-4566-b23c-041984c0817f'), HumanMessage(content='juanfonsecagaravito@gmail.com', additional_kwargs={}, response_metadata={}, id='944c2640-cbda-4ff7-8740-80095a1f9228'), HumanMessage(content='cual es la sede de medellín?', additional_kwargs={}, response_metadata={}, id='e930c33f-1790-4047-b59c-dbc63032cc05'), AIMessage(content='Hola Daniel, necesito verificar su identidad para proseguir. Para hacerlo, necesito algunos datos suyos. Por favor, proporcione su cédula de identidad.', additional_kwargs={}, response_metadata={'token_usage': {'completion_tokens': 40, 'prompt_tokens': 426, 'total_tokens': 466, 'completion_time': 0.128849125, 'prompt_time': 0.02632654, 'queue_time': 0.00428417, 'total_time': 0.155175665}, 'model_name': 'llama3-70b-8192', 'system_fingerprint': 'fp_87cbfbbc4d', 'finish_reason': 'stop', 'logprobs': None}, id='run-bf40d9b7-a218-44f5-85db-8773549bd2bb-0', usage_metadata={'input_tokens': 426, 'output_tokens': 40, 'total_tokens': 466}), HumanMessage(content='cual es la sede de medellín?', additional_kwargs={}, response_metadata={}, id='0923e1b6-481e-4c4b-9c6c-55d48dd1855c'), AIMessage(content='', additional_kwargs={'tool_calls': [{'id': 'call_jkz5', 'function': {'arguments': '{\"query\":\"sede de medellín\"}', 'name': 'lookup_questions'}, 'type': 'function'}]}, response_metadata={'token_usage': {'completion_tokens': 48, 'prompt_tokens': 1117, 'total_tokens': 1165, 'completion_time': 0.154199956, 'prompt_time': 0.087914092, 'queue_time': 0.025755267, 'total_time': 0.242114048}, 'model_name': 'llama3-70b-8192', 'system_fingerprint': 'fp_c1a4bcec29', 'finish_reason': 'tool_calls', 'logprobs': None}, id='run-7664405d-98fe-48d5-bc93-581f1e4a21f1-0', tool_calls=[{'name': 'lookup_questions', 'args': {'query': 'sede de medellín'}, 'id': 'call_jkz5', 'type': 'tool_call'}], usage_metadata={'input_tokens': 1117, 'output_tokens': 48, 'total_tokens': 1165}), ToolMessage(content=\"[Document(metadata={}, page_content='direcciones oficinas / canales de atencion presencial / puntos fisicos / sedes finanzauto / sedes fisicas\\\\n\\\\n•\\\\tsede americas / bogota: cra. 56 n° 09 – 17 torre central. \\\\nhorario: lunes a viernes de 7:00 a.m. a 7:00 p.m.\\\\nsabados: 8:00 a.m. a 3:00 p.m.\\\\ndomingos: 9:00 a.m. a 3:00 p.m.\\\\n\\\\n•\\\\tsede norte / bogota: calle 116 n° 23–06 edificio business center 04. \\\\nhorario: lunes a viernes de 7:00 a.m. a 7:00 p.m.\\\\nsabados: 8:00 a.m. a 2:00 p.m. \\\\n\\\\n•\\\\tsede corabastos / bogota: av. cra.80 n°2-51 bodega 41 local 9. \\\\nhorario: lunes a viernes de 7:00 a.m. a 4:00 p.m.\\\\nsabados: 7:00 a.m. a 12:00 m.\\\\n\\\\n•\\\\tsede chia kilometro 2.5 via a cajica - chia, cundinamarca \\\\nhorario: lunes a viernes de 9:00 a.m. a 5:30 p.m.\\\\nsabados: 9:00 a.m. a 3:00 p.m.\\\\n\\\\n\\\\n•\\\\tvillavicencio: carrera 33 n° 15 – 28 edificio casa toro km 1 via puerto lopez. \\\\nhorario: lunes a viernes 8:00 a.m. a 5:30 p.m.\\\\nsabados 8:00 a.m. a 01:00 p.m. \\\\n\\\\n•\\\\tbucaramanga: calle 53 n° 23-97. \\\\nhorario: lunes a viernes 8:00 a.m. a 5:30 p.m.\\\\nsabados 8:00 a.m. a 01:00 p.m.\\\\n\\\\n•\\\\tbarranquilla: carrera 52 n° 74 -39. \\\\nhorario: lunes a viernes 8:00 a.m. a 5:30 p.m.\\\\nsabados 8:00 a.m. a 01:00 p.m.\\\\n\\\\n•\\\\tmedellin: carrera 43a n° 23-25 local 128 centro comercial avenida mall.\\\\nhorario: lunes a viernes 8:00 a.m. a 5:30 p.m. \\\\nsabados 8:00 a.m. a 01:00 p.m.\\\\n\\\\n•\\\\tcali: calle 40 norte n° 6n- 28 la campina.\\\\nhorario: lunes a viernes 8:00 a.m. a 5:30 p.m.\\\\nsabados: 8:00 a.m. a 01:00 p.m. \\\\n\\\\n•\\\\tcartagena: carrera 15 n° 31 - 110 local 12 centro -cultural y turistico san lazaro el espinal.\\\\nhorario: lunes a viernes 8:00 a.m. a 5:30 p.m. \\\\nsabados 8:00 a.m. a 01:00 p.m.'), Document(metadata={}, page_content='validacion titularidad / validacion propiedad / validacion propietario / dueno credito.\\\\n\\\\nel dueno, propietario o titular del credito es la persona a la cual le fue avalado. en este caso, el nombre del titular del credito es:'), Document(metadata={}, page_content='quien es el ente regulador:\\\\n\\\\nla superintendencia de sociedades.')]\", name='lookup_questions', id='5dd3f92a-4c75-462a-949a-55493b7f0533', tool_call_id='call_jkz5'), AIMessage(content='Hola Daniel, la sede de Medellín se encuentra en la carrera 43a n° 23-25 local 128, centro comercial Avenida Mall. El horario de atención es de lunes a viernes de 8:00 a.m. a 5:30 p.m. y sábados de 8:00 a.m. a 1:00 p.m.', additional_kwargs={}, response_metadata={'token_usage': {'completion_tokens': 82, 'prompt_tokens': 2049, 'total_tokens': 2131, 'completion_time': 0.26095034, 'prompt_time': 0.205512656, 'queue_time': 0.06139085400000002, 'total_time': 0.466462996}, 'model_name': 'llama3-70b-8192', 'system_fingerprint': 'fp_87cbfbbc4d', 'finish_reason': 'stop', 'logprobs': None}, id='run-95e97786-9c19-4f28-933a-e9562533d1f5-0', usage_metadata={'input_tokens': 2049, 'output_tokens': 82, 'total_tokens': 2131})], 'validated': True, 'required_information': RequiredInformation(provided_id=125748, provided_email='juanfonsecagaravito@gmail.com'), 'telefono': '3152332041'}, next=(), config={'configurable': {'thread_id': 1, 'checkpoint_ns': '', 'checkpoint_id': '1ef7c19c-11ae-682f-8006-698c2548ce99'}}, metadata={'source': 'loop', 'writes': {'assistant': {'messages': AIMessage(content='Hola Daniel, la sede de Medellín se encuentra en la carrera 43a n° 23-25 local 128, centro comercial Avenida Mall. El horario de atención es de lunes a viernes de 8:00 a.m. a 5:30 p.m. y sábados de 8:00 a.m. a 1:00 p.m.', additional_kwargs={}, response_metadata={'token_usage': {'completion_tokens': 82, 'prompt_tokens': 2049, 'total_tokens': 2131, 'completion_time': 0.26095034, 'prompt_time': 0.205512656, 'queue_time': 0.06139085400000002, 'total_time': 0.466462996}, 'model_name': 'llama3-70b-8192', 'system_fingerprint': 'fp_87cbfbbc4d', 'finish_reason': 'stop', 'logprobs': None}, id='run-95e97786-9c19-4f28-933a-e9562533d1f5-0', usage_metadata={'input_tokens': 2049, 'output_tokens': 82, 'total_tokens': 2131})}}, 'step': 6, 'parents': {}}, created_at='2024-09-26T15:12:32.756677+00:00', parent_config={'configurable': {'thread_id': 1, 'checkpoint_ns': '', 'checkpoint_id': '1ef7c19b-b8bc-6f50-8005-293dd816927e'}}, tasks=())"
      ]
     },
     "execution_count": 14,
     "metadata": {},
     "output_type": "execute_result"
    }
   ],
   "source": [
    "snapshot = graph.get_state(config)\n",
    "snapshot"
   ]
  },
  {
   "cell_type": "code",
   "execution_count": 15,
   "metadata": {},
   "outputs": [
    {
     "name": "stdout",
     "output_type": "stream",
     "text": [
      "En el logueador {'user_question': 'cual es la sede de medellín?', 'messages': [HumanMessage(content='Hola, soy Daniel', additional_kwargs={}, response_metadata={}, id='55b17028-e283-4ed4-a1f9-6bf79660f5b9'), HumanMessage(content='125748', additional_kwargs={}, response_metadata={}, id='f00ac5ce-af6d-4566-b23c-041984c0817f'), HumanMessage(content='juanfonsecagaravito@gmail.com', additional_kwargs={}, response_metadata={}, id='944c2640-cbda-4ff7-8740-80095a1f9228'), HumanMessage(content='cual es la sede de medellín?', additional_kwargs={}, response_metadata={}, id='e930c33f-1790-4047-b59c-dbc63032cc05'), AIMessage(content='Hola Daniel, necesito verificar su identidad para proseguir. Para hacerlo, necesito algunos datos suyos. Por favor, proporcione su cédula de identidad.', additional_kwargs={}, response_metadata={'token_usage': {'completion_tokens': 40, 'prompt_tokens': 426, 'total_tokens': 466, 'completion_time': 0.128849125, 'prompt_time': 0.02632654, 'queue_time': 0.00428417, 'total_time': 0.155175665}, 'model_name': 'llama3-70b-8192', 'system_fingerprint': 'fp_87cbfbbc4d', 'finish_reason': 'stop', 'logprobs': None}, id='run-bf40d9b7-a218-44f5-85db-8773549bd2bb-0', usage_metadata={'input_tokens': 426, 'output_tokens': 40, 'total_tokens': 466}), HumanMessage(content='cual es la sede de medellín?', additional_kwargs={}, response_metadata={}, id='0923e1b6-481e-4c4b-9c6c-55d48dd1855c'), AIMessage(content='', additional_kwargs={'tool_calls': [{'id': 'call_jkz5', 'function': {'arguments': '{\"query\":\"sede de medellín\"}', 'name': 'lookup_questions'}, 'type': 'function'}]}, response_metadata={'token_usage': {'completion_tokens': 48, 'prompt_tokens': 1117, 'total_tokens': 1165, 'completion_time': 0.154199956, 'prompt_time': 0.087914092, 'queue_time': 0.025755267, 'total_time': 0.242114048}, 'model_name': 'llama3-70b-8192', 'system_fingerprint': 'fp_c1a4bcec29', 'finish_reason': 'tool_calls', 'logprobs': None}, id='run-7664405d-98fe-48d5-bc93-581f1e4a21f1-0', tool_calls=[{'name': 'lookup_questions', 'args': {'query': 'sede de medellín'}, 'id': 'call_jkz5', 'type': 'tool_call'}], usage_metadata={'input_tokens': 1117, 'output_tokens': 48, 'total_tokens': 1165}), ToolMessage(content=\"[Document(metadata={}, page_content='direcciones oficinas / canales de atencion presencial / puntos fisicos / sedes finanzauto / sedes fisicas\\\\n\\\\n•\\\\tsede americas / bogota: cra. 56 n° 09 – 17 torre central. \\\\nhorario: lunes a viernes de 7:00 a.m. a 7:00 p.m.\\\\nsabados: 8:00 a.m. a 3:00 p.m.\\\\ndomingos: 9:00 a.m. a 3:00 p.m.\\\\n\\\\n•\\\\tsede norte / bogota: calle 116 n° 23–06 edificio business center 04. \\\\nhorario: lunes a viernes de 7:00 a.m. a 7:00 p.m.\\\\nsabados: 8:00 a.m. a 2:00 p.m. \\\\n\\\\n•\\\\tsede corabastos / bogota: av. cra.80 n°2-51 bodega 41 local 9. \\\\nhorario: lunes a viernes de 7:00 a.m. a 4:00 p.m.\\\\nsabados: 7:00 a.m. a 12:00 m.\\\\n\\\\n•\\\\tsede chia kilometro 2.5 via a cajica - chia, cundinamarca \\\\nhorario: lunes a viernes de 9:00 a.m. a 5:30 p.m.\\\\nsabados: 9:00 a.m. a 3:00 p.m.\\\\n\\\\n\\\\n•\\\\tvillavicencio: carrera 33 n° 15 – 28 edificio casa toro km 1 via puerto lopez. \\\\nhorario: lunes a viernes 8:00 a.m. a 5:30 p.m.\\\\nsabados 8:00 a.m. a 01:00 p.m. \\\\n\\\\n•\\\\tbucaramanga: calle 53 n° 23-97. \\\\nhorario: lunes a viernes 8:00 a.m. a 5:30 p.m.\\\\nsabados 8:00 a.m. a 01:00 p.m.\\\\n\\\\n•\\\\tbarranquilla: carrera 52 n° 74 -39. \\\\nhorario: lunes a viernes 8:00 a.m. a 5:30 p.m.\\\\nsabados 8:00 a.m. a 01:00 p.m.\\\\n\\\\n•\\\\tmedellin: carrera 43a n° 23-25 local 128 centro comercial avenida mall.\\\\nhorario: lunes a viernes 8:00 a.m. a 5:30 p.m. \\\\nsabados 8:00 a.m. a 01:00 p.m.\\\\n\\\\n•\\\\tcali: calle 40 norte n° 6n- 28 la campina.\\\\nhorario: lunes a viernes 8:00 a.m. a 5:30 p.m.\\\\nsabados: 8:00 a.m. a 01:00 p.m. \\\\n\\\\n•\\\\tcartagena: carrera 15 n° 31 - 110 local 12 centro -cultural y turistico san lazaro el espinal.\\\\nhorario: lunes a viernes 8:00 a.m. a 5:30 p.m. \\\\nsabados 8:00 a.m. a 01:00 p.m.'), Document(metadata={}, page_content='validacion titularidad / validacion propiedad / validacion propietario / dueno credito.\\\\n\\\\nel dueno, propietario o titular del credito es la persona a la cual le fue avalado. en este caso, el nombre del titular del credito es:'), Document(metadata={}, page_content='quien es el ente regulador:\\\\n\\\\nla superintendencia de sociedades.')]\", name='lookup_questions', id='5dd3f92a-4c75-462a-949a-55493b7f0533', tool_call_id='call_jkz5'), AIMessage(content='Hola Daniel, la sede de Medellín se encuentra en la carrera 43a n° 23-25 local 128, centro comercial Avenida Mall. El horario de atención es de lunes a viernes de 8:00 a.m. a 5:30 p.m. y sábados de 8:00 a.m. a 1:00 p.m.', additional_kwargs={}, response_metadata={'token_usage': {'completion_tokens': 82, 'prompt_tokens': 2049, 'total_tokens': 2131, 'completion_time': 0.26095034, 'prompt_time': 0.205512656, 'queue_time': 0.06139085400000002, 'total_time': 0.466462996}, 'model_name': 'llama3-70b-8192', 'system_fingerprint': 'fp_87cbfbbc4d', 'finish_reason': 'stop', 'logprobs': None}, id='run-95e97786-9c19-4f28-933a-e9562533d1f5-0', usage_metadata={'input_tokens': 2049, 'output_tokens': 82, 'total_tokens': 2131}), HumanMessage(content='125748', additional_kwargs={}, response_metadata={}, id='80a6b5e1-069e-4831-97b1-1edcc21ceae2')], 'validated': True, 'required_information': RequiredInformation(provided_id=125748, provided_email='juanfonsecagaravito@gmail.com'), 'telefono': '3152332041'}\n",
      "procesando información ingresada por el usuario: {'user_question': '125748', 'messages': [HumanMessage(content='Hola, soy Daniel', additional_kwargs={}, response_metadata={}, id='55b17028-e283-4ed4-a1f9-6bf79660f5b9'), HumanMessage(content='125748', additional_kwargs={}, response_metadata={}, id='f00ac5ce-af6d-4566-b23c-041984c0817f'), HumanMessage(content='juanfonsecagaravito@gmail.com', additional_kwargs={}, response_metadata={}, id='944c2640-cbda-4ff7-8740-80095a1f9228'), HumanMessage(content='cual es la sede de medellín?', additional_kwargs={}, response_metadata={}, id='e930c33f-1790-4047-b59c-dbc63032cc05'), AIMessage(content='Hola Daniel, necesito verificar su identidad para proseguir. Para hacerlo, necesito algunos datos suyos. Por favor, proporcione su cédula de identidad.', additional_kwargs={}, response_metadata={'token_usage': {'completion_tokens': 40, 'prompt_tokens': 426, 'total_tokens': 466, 'completion_time': 0.128849125, 'prompt_time': 0.02632654, 'queue_time': 0.00428417, 'total_time': 0.155175665}, 'model_name': 'llama3-70b-8192', 'system_fingerprint': 'fp_87cbfbbc4d', 'finish_reason': 'stop', 'logprobs': None}, id='run-bf40d9b7-a218-44f5-85db-8773549bd2bb-0', usage_metadata={'input_tokens': 426, 'output_tokens': 40, 'total_tokens': 466}), HumanMessage(content='cual es la sede de medellín?', additional_kwargs={}, response_metadata={}, id='0923e1b6-481e-4c4b-9c6c-55d48dd1855c'), AIMessage(content='', additional_kwargs={'tool_calls': [{'id': 'call_jkz5', 'function': {'arguments': '{\"query\":\"sede de medellín\"}', 'name': 'lookup_questions'}, 'type': 'function'}]}, response_metadata={'token_usage': {'completion_tokens': 48, 'prompt_tokens': 1117, 'total_tokens': 1165, 'completion_time': 0.154199956, 'prompt_time': 0.087914092, 'queue_time': 0.025755267, 'total_time': 0.242114048}, 'model_name': 'llama3-70b-8192', 'system_fingerprint': 'fp_c1a4bcec29', 'finish_reason': 'tool_calls', 'logprobs': None}, id='run-7664405d-98fe-48d5-bc93-581f1e4a21f1-0', tool_calls=[{'name': 'lookup_questions', 'args': {'query': 'sede de medellín'}, 'id': 'call_jkz5', 'type': 'tool_call'}], usage_metadata={'input_tokens': 1117, 'output_tokens': 48, 'total_tokens': 1165}), ToolMessage(content=\"[Document(metadata={}, page_content='direcciones oficinas / canales de atencion presencial / puntos fisicos / sedes finanzauto / sedes fisicas\\\\n\\\\n•\\\\tsede americas / bogota: cra. 56 n° 09 – 17 torre central. \\\\nhorario: lunes a viernes de 7:00 a.m. a 7:00 p.m.\\\\nsabados: 8:00 a.m. a 3:00 p.m.\\\\ndomingos: 9:00 a.m. a 3:00 p.m.\\\\n\\\\n•\\\\tsede norte / bogota: calle 116 n° 23–06 edificio business center 04. \\\\nhorario: lunes a viernes de 7:00 a.m. a 7:00 p.m.\\\\nsabados: 8:00 a.m. a 2:00 p.m. \\\\n\\\\n•\\\\tsede corabastos / bogota: av. cra.80 n°2-51 bodega 41 local 9. \\\\nhorario: lunes a viernes de 7:00 a.m. a 4:00 p.m.\\\\nsabados: 7:00 a.m. a 12:00 m.\\\\n\\\\n•\\\\tsede chia kilometro 2.5 via a cajica - chia, cundinamarca \\\\nhorario: lunes a viernes de 9:00 a.m. a 5:30 p.m.\\\\nsabados: 9:00 a.m. a 3:00 p.m.\\\\n\\\\n\\\\n•\\\\tvillavicencio: carrera 33 n° 15 – 28 edificio casa toro km 1 via puerto lopez. \\\\nhorario: lunes a viernes 8:00 a.m. a 5:30 p.m.\\\\nsabados 8:00 a.m. a 01:00 p.m. \\\\n\\\\n•\\\\tbucaramanga: calle 53 n° 23-97. \\\\nhorario: lunes a viernes 8:00 a.m. a 5:30 p.m.\\\\nsabados 8:00 a.m. a 01:00 p.m.\\\\n\\\\n•\\\\tbarranquilla: carrera 52 n° 74 -39. \\\\nhorario: lunes a viernes 8:00 a.m. a 5:30 p.m.\\\\nsabados 8:00 a.m. a 01:00 p.m.\\\\n\\\\n•\\\\tmedellin: carrera 43a n° 23-25 local 128 centro comercial avenida mall.\\\\nhorario: lunes a viernes 8:00 a.m. a 5:30 p.m. \\\\nsabados 8:00 a.m. a 01:00 p.m.\\\\n\\\\n•\\\\tcali: calle 40 norte n° 6n- 28 la campina.\\\\nhorario: lunes a viernes 8:00 a.m. a 5:30 p.m.\\\\nsabados: 8:00 a.m. a 01:00 p.m. \\\\n\\\\n•\\\\tcartagena: carrera 15 n° 31 - 110 local 12 centro -cultural y turistico san lazaro el espinal.\\\\nhorario: lunes a viernes 8:00 a.m. a 5:30 p.m. \\\\nsabados 8:00 a.m. a 01:00 p.m.'), Document(metadata={}, page_content='validacion titularidad / validacion propiedad / validacion propietario / dueno credito.\\\\n\\\\nel dueno, propietario o titular del credito es la persona a la cual le fue avalado. en este caso, el nombre del titular del credito es:'), Document(metadata={}, page_content='quien es el ente regulador:\\\\n\\\\nla superintendencia de sociedades.')]\", name='lookup_questions', id='5dd3f92a-4c75-462a-949a-55493b7f0533', tool_call_id='call_jkz5'), AIMessage(content='Hola Daniel, la sede de Medellín se encuentra en la carrera 43a n° 23-25 local 128, centro comercial Avenida Mall. El horario de atención es de lunes a viernes de 8:00 a.m. a 5:30 p.m. y sábados de 8:00 a.m. a 1:00 p.m.', additional_kwargs={}, response_metadata={'token_usage': {'completion_tokens': 82, 'prompt_tokens': 2049, 'total_tokens': 2131, 'completion_time': 0.26095034, 'prompt_time': 0.205512656, 'queue_time': 0.06139085400000002, 'total_time': 0.466462996}, 'model_name': 'llama3-70b-8192', 'system_fingerprint': 'fp_87cbfbbc4d', 'finish_reason': 'stop', 'logprobs': None}, id='run-95e97786-9c19-4f28-933a-e9562533d1f5-0', usage_metadata={'input_tokens': 2049, 'output_tokens': 82, 'total_tokens': 2131}), HumanMessage(content='125748', additional_kwargs={}, response_metadata={}, id='80a6b5e1-069e-4831-97b1-1edcc21ceae2'), AIMessage(content='Hola Daniel, necesito verificar su identidad para proseguir. Para hacerlo, necesito algunos datos suyos. Por favor, proporcione su cédula de identidad.', additional_kwargs={}, response_metadata={'token_usage': {'completion_tokens': 40, 'prompt_tokens': 2221, 'total_tokens': 2261, 'completion_time': 0.126562562, 'prompt_time': 0.137819063, 'queue_time': 0.027590294000000015, 'total_time': 0.264381625}, 'model_name': 'llama3-70b-8192', 'system_fingerprint': 'fp_2f30b0b571', 'finish_reason': 'stop', 'logprobs': None}, id='run-89e7c13f-ab36-447e-9cb7-061cad045c6c-0', usage_metadata={'input_tokens': 2221, 'output_tokens': 40, 'total_tokens': 2261})], 'validated': True, 'required_information': RequiredInformation(provided_id=125748, provided_email='juanfonsecagaravito@gmail.com'), 'telefono': '3152332041'}\n",
      "Combinando información requerida...\n",
      "{'provided_id': 125748, 'provided_email': 'juanfonsecagaravito@gmail.com'}\n",
      "Mirando si ya ingresó toda la info\n",
      "Ya ingresó toda la info\n",
      "Verificando...\n"
     ]
    },
    {
     "name": "stderr",
     "output_type": "stream",
     "text": [
      "/tmp/ipykernel_502465/4025079817.py:92: UserWarning: pandas only supports SQLAlchemy connectable (engine/connection) or database string URI or sqlite3 DBAPI2 connection. Other DBAPI2 objects are not tested. Please consider using SQLAlchemy.\n",
      "  df_cl = pd.read_sql_query(query4, cnxn)\n"
     ]
    },
    {
     "name": "stdout",
     "output_type": "stream",
     "text": [
      "Verificado!!!\n",
      "En la arista de verificación\n",
      "En el asistente!!!\n"
     ]
    },
    {
     "data": {
      "text/plain": [
       "{'user_question': '125748',\n",
       " 'messages': [HumanMessage(content='Hola, soy Daniel', additional_kwargs={}, response_metadata={}, id='55b17028-e283-4ed4-a1f9-6bf79660f5b9'),\n",
       "  HumanMessage(content='125748', additional_kwargs={}, response_metadata={}, id='f00ac5ce-af6d-4566-b23c-041984c0817f'),\n",
       "  HumanMessage(content='juanfonsecagaravito@gmail.com', additional_kwargs={}, response_metadata={}, id='944c2640-cbda-4ff7-8740-80095a1f9228'),\n",
       "  HumanMessage(content='cual es la sede de medellín?', additional_kwargs={}, response_metadata={}, id='e930c33f-1790-4047-b59c-dbc63032cc05'),\n",
       "  AIMessage(content='Hola Daniel, necesito verificar su identidad para proseguir. Para hacerlo, necesito algunos datos suyos. Por favor, proporcione su cédula de identidad.', additional_kwargs={}, response_metadata={'token_usage': {'completion_tokens': 40, 'prompt_tokens': 426, 'total_tokens': 466, 'completion_time': 0.128849125, 'prompt_time': 0.02632654, 'queue_time': 0.00428417, 'total_time': 0.155175665}, 'model_name': 'llama3-70b-8192', 'system_fingerprint': 'fp_87cbfbbc4d', 'finish_reason': 'stop', 'logprobs': None}, id='run-bf40d9b7-a218-44f5-85db-8773549bd2bb-0', usage_metadata={'input_tokens': 426, 'output_tokens': 40, 'total_tokens': 466}),\n",
       "  HumanMessage(content='cual es la sede de medellín?', additional_kwargs={}, response_metadata={}, id='0923e1b6-481e-4c4b-9c6c-55d48dd1855c'),\n",
       "  AIMessage(content='', additional_kwargs={'tool_calls': [{'id': 'call_jkz5', 'function': {'arguments': '{\"query\":\"sede de medellín\"}', 'name': 'lookup_questions'}, 'type': 'function'}]}, response_metadata={'token_usage': {'completion_tokens': 48, 'prompt_tokens': 1117, 'total_tokens': 1165, 'completion_time': 0.154199956, 'prompt_time': 0.087914092, 'queue_time': 0.025755267, 'total_time': 0.242114048}, 'model_name': 'llama3-70b-8192', 'system_fingerprint': 'fp_c1a4bcec29', 'finish_reason': 'tool_calls', 'logprobs': None}, id='run-7664405d-98fe-48d5-bc93-581f1e4a21f1-0', tool_calls=[{'name': 'lookup_questions', 'args': {'query': 'sede de medellín'}, 'id': 'call_jkz5', 'type': 'tool_call'}], usage_metadata={'input_tokens': 1117, 'output_tokens': 48, 'total_tokens': 1165}),\n",
       "  ToolMessage(content=\"[Document(metadata={}, page_content='direcciones oficinas / canales de atencion presencial / puntos fisicos / sedes finanzauto / sedes fisicas\\\\n\\\\n•\\\\tsede americas / bogota: cra. 56 n° 09 – 17 torre central. \\\\nhorario: lunes a viernes de 7:00 a.m. a 7:00 p.m.\\\\nsabados: 8:00 a.m. a 3:00 p.m.\\\\ndomingos: 9:00 a.m. a 3:00 p.m.\\\\n\\\\n•\\\\tsede norte / bogota: calle 116 n° 23–06 edificio business center 04. \\\\nhorario: lunes a viernes de 7:00 a.m. a 7:00 p.m.\\\\nsabados: 8:00 a.m. a 2:00 p.m. \\\\n\\\\n•\\\\tsede corabastos / bogota: av. cra.80 n°2-51 bodega 41 local 9. \\\\nhorario: lunes a viernes de 7:00 a.m. a 4:00 p.m.\\\\nsabados: 7:00 a.m. a 12:00 m.\\\\n\\\\n•\\\\tsede chia kilometro 2.5 via a cajica - chia, cundinamarca \\\\nhorario: lunes a viernes de 9:00 a.m. a 5:30 p.m.\\\\nsabados: 9:00 a.m. a 3:00 p.m.\\\\n\\\\n\\\\n•\\\\tvillavicencio: carrera 33 n° 15 – 28 edificio casa toro km 1 via puerto lopez. \\\\nhorario: lunes a viernes 8:00 a.m. a 5:30 p.m.\\\\nsabados 8:00 a.m. a 01:00 p.m. \\\\n\\\\n•\\\\tbucaramanga: calle 53 n° 23-97. \\\\nhorario: lunes a viernes 8:00 a.m. a 5:30 p.m.\\\\nsabados 8:00 a.m. a 01:00 p.m.\\\\n\\\\n•\\\\tbarranquilla: carrera 52 n° 74 -39. \\\\nhorario: lunes a viernes 8:00 a.m. a 5:30 p.m.\\\\nsabados 8:00 a.m. a 01:00 p.m.\\\\n\\\\n•\\\\tmedellin: carrera 43a n° 23-25 local 128 centro comercial avenida mall.\\\\nhorario: lunes a viernes 8:00 a.m. a 5:30 p.m. \\\\nsabados 8:00 a.m. a 01:00 p.m.\\\\n\\\\n•\\\\tcali: calle 40 norte n° 6n- 28 la campina.\\\\nhorario: lunes a viernes 8:00 a.m. a 5:30 p.m.\\\\nsabados: 8:00 a.m. a 01:00 p.m. \\\\n\\\\n•\\\\tcartagena: carrera 15 n° 31 - 110 local 12 centro -cultural y turistico san lazaro el espinal.\\\\nhorario: lunes a viernes 8:00 a.m. a 5:30 p.m. \\\\nsabados 8:00 a.m. a 01:00 p.m.'), Document(metadata={}, page_content='validacion titularidad / validacion propiedad / validacion propietario / dueno credito.\\\\n\\\\nel dueno, propietario o titular del credito es la persona a la cual le fue avalado. en este caso, el nombre del titular del credito es:'), Document(metadata={}, page_content='quien es el ente regulador:\\\\n\\\\nla superintendencia de sociedades.')]\", name='lookup_questions', id='5dd3f92a-4c75-462a-949a-55493b7f0533', tool_call_id='call_jkz5'),\n",
       "  AIMessage(content='Hola Daniel, la sede de Medellín se encuentra en la carrera 43a n° 23-25 local 128, centro comercial Avenida Mall. El horario de atención es de lunes a viernes de 8:00 a.m. a 5:30 p.m. y sábados de 8:00 a.m. a 1:00 p.m.', additional_kwargs={}, response_metadata={'token_usage': {'completion_tokens': 82, 'prompt_tokens': 2049, 'total_tokens': 2131, 'completion_time': 0.26095034, 'prompt_time': 0.205512656, 'queue_time': 0.06139085400000002, 'total_time': 0.466462996}, 'model_name': 'llama3-70b-8192', 'system_fingerprint': 'fp_87cbfbbc4d', 'finish_reason': 'stop', 'logprobs': None}, id='run-95e97786-9c19-4f28-933a-e9562533d1f5-0', usage_metadata={'input_tokens': 2049, 'output_tokens': 82, 'total_tokens': 2131}),\n",
       "  HumanMessage(content='125748', additional_kwargs={}, response_metadata={}, id='80a6b5e1-069e-4831-97b1-1edcc21ceae2'),\n",
       "  AIMessage(content='Hola Daniel, necesito verificar su identidad para proseguir. Para hacerlo, necesito algunos datos suyos. Por favor, proporcione su cédula de identidad.', additional_kwargs={}, response_metadata={'token_usage': {'completion_tokens': 40, 'prompt_tokens': 2221, 'total_tokens': 2261, 'completion_time': 0.126562562, 'prompt_time': 0.137819063, 'queue_time': 0.027590294000000015, 'total_time': 0.264381625}, 'model_name': 'llama3-70b-8192', 'system_fingerprint': 'fp_2f30b0b571', 'finish_reason': 'stop', 'logprobs': None}, id='run-89e7c13f-ab36-447e-9cb7-061cad045c6c-0', usage_metadata={'input_tokens': 2221, 'output_tokens': 40, 'total_tokens': 2261}),\n",
       "  HumanMessage(content='125748', additional_kwargs={}, response_metadata={}, id='c13c23ef-7e21-452a-8067-2c07e8302293'),\n",
       "  AIMessage(content='No puedo avanzar con la verificación de su identidad con solo el número 125748. Por favor, proporcione su cédula de identidad completa para que pueda ayudarlo con su consulta.', additional_kwargs={}, response_metadata={'token_usage': {'completion_tokens': 44, 'prompt_tokens': 2193, 'total_tokens': 2237, 'completion_time': 0.140161058, 'prompt_time': 0.1283537, 'queue_time': 0.004527317000000003, 'total_time': 0.268514758}, 'model_name': 'llama3-70b-8192', 'system_fingerprint': 'fp_87cbfbbc4d', 'finish_reason': 'stop', 'logprobs': None}, id='run-031bcba2-513b-4b59-9352-09822e4dee2d-0', usage_metadata={'input_tokens': 2193, 'output_tokens': 44, 'total_tokens': 2237})],\n",
       " 'validated': True,\n",
       " 'required_information': RequiredInformation(provided_id=125748, provided_email='juanfonsecagaravito@gmail.com'),\n",
       " 'telefono': '3152332041'}"
      ]
     },
     "execution_count": 15,
     "metadata": {},
     "output_type": "execute_result"
    }
   ],
   "source": [
    "graph.invoke({\"messages\":'125748', \"telefono\":\"3152332041\"}, config)"
   ]
  },
  {
   "cell_type": "code",
   "execution_count": 16,
   "metadata": {},
   "outputs": [
    {
     "name": "stdout",
     "output_type": "stream",
     "text": [
      "================================\u001b[1m Human Message \u001b[0m=================================\n",
      "\n",
      "Hola, doy Daniel\n",
      "En el logueador {'user_question': '125748', 'messages': [HumanMessage(content='Hola, soy Daniel', additional_kwargs={}, response_metadata={}, id='55b17028-e283-4ed4-a1f9-6bf79660f5b9'), HumanMessage(content='125748', additional_kwargs={}, response_metadata={}, id='f00ac5ce-af6d-4566-b23c-041984c0817f'), HumanMessage(content='juanfonsecagaravito@gmail.com', additional_kwargs={}, response_metadata={}, id='944c2640-cbda-4ff7-8740-80095a1f9228'), HumanMessage(content='cual es la sede de medellín?', additional_kwargs={}, response_metadata={}, id='e930c33f-1790-4047-b59c-dbc63032cc05'), AIMessage(content='Hola Daniel, necesito verificar su identidad para proseguir. Para hacerlo, necesito algunos datos suyos. Por favor, proporcione su cédula de identidad.', additional_kwargs={}, response_metadata={'token_usage': {'completion_tokens': 40, 'prompt_tokens': 426, 'total_tokens': 466, 'completion_time': 0.128849125, 'prompt_time': 0.02632654, 'queue_time': 0.00428417, 'total_time': 0.155175665}, 'model_name': 'llama3-70b-8192', 'system_fingerprint': 'fp_87cbfbbc4d', 'finish_reason': 'stop', 'logprobs': None}, id='run-bf40d9b7-a218-44f5-85db-8773549bd2bb-0', usage_metadata={'input_tokens': 426, 'output_tokens': 40, 'total_tokens': 466}), HumanMessage(content='cual es la sede de medellín?', additional_kwargs={}, response_metadata={}, id='0923e1b6-481e-4c4b-9c6c-55d48dd1855c'), AIMessage(content='', additional_kwargs={'tool_calls': [{'id': 'call_jkz5', 'function': {'arguments': '{\"query\":\"sede de medellín\"}', 'name': 'lookup_questions'}, 'type': 'function'}]}, response_metadata={'token_usage': {'completion_tokens': 48, 'prompt_tokens': 1117, 'total_tokens': 1165, 'completion_time': 0.154199956, 'prompt_time': 0.087914092, 'queue_time': 0.025755267, 'total_time': 0.242114048}, 'model_name': 'llama3-70b-8192', 'system_fingerprint': 'fp_c1a4bcec29', 'finish_reason': 'tool_calls', 'logprobs': None}, id='run-7664405d-98fe-48d5-bc93-581f1e4a21f1-0', tool_calls=[{'name': 'lookup_questions', 'args': {'query': 'sede de medellín'}, 'id': 'call_jkz5', 'type': 'tool_call'}], usage_metadata={'input_tokens': 1117, 'output_tokens': 48, 'total_tokens': 1165}), ToolMessage(content=\"[Document(metadata={}, page_content='direcciones oficinas / canales de atencion presencial / puntos fisicos / sedes finanzauto / sedes fisicas\\\\n\\\\n•\\\\tsede americas / bogota: cra. 56 n° 09 – 17 torre central. \\\\nhorario: lunes a viernes de 7:00 a.m. a 7:00 p.m.\\\\nsabados: 8:00 a.m. a 3:00 p.m.\\\\ndomingos: 9:00 a.m. a 3:00 p.m.\\\\n\\\\n•\\\\tsede norte / bogota: calle 116 n° 23–06 edificio business center 04. \\\\nhorario: lunes a viernes de 7:00 a.m. a 7:00 p.m.\\\\nsabados: 8:00 a.m. a 2:00 p.m. \\\\n\\\\n•\\\\tsede corabastos / bogota: av. cra.80 n°2-51 bodega 41 local 9. \\\\nhorario: lunes a viernes de 7:00 a.m. a 4:00 p.m.\\\\nsabados: 7:00 a.m. a 12:00 m.\\\\n\\\\n•\\\\tsede chia kilometro 2.5 via a cajica - chia, cundinamarca \\\\nhorario: lunes a viernes de 9:00 a.m. a 5:30 p.m.\\\\nsabados: 9:00 a.m. a 3:00 p.m.\\\\n\\\\n\\\\n•\\\\tvillavicencio: carrera 33 n° 15 – 28 edificio casa toro km 1 via puerto lopez. \\\\nhorario: lunes a viernes 8:00 a.m. a 5:30 p.m.\\\\nsabados 8:00 a.m. a 01:00 p.m. \\\\n\\\\n•\\\\tbucaramanga: calle 53 n° 23-97. \\\\nhorario: lunes a viernes 8:00 a.m. a 5:30 p.m.\\\\nsabados 8:00 a.m. a 01:00 p.m.\\\\n\\\\n•\\\\tbarranquilla: carrera 52 n° 74 -39. \\\\nhorario: lunes a viernes 8:00 a.m. a 5:30 p.m.\\\\nsabados 8:00 a.m. a 01:00 p.m.\\\\n\\\\n•\\\\tmedellin: carrera 43a n° 23-25 local 128 centro comercial avenida mall.\\\\nhorario: lunes a viernes 8:00 a.m. a 5:30 p.m. \\\\nsabados 8:00 a.m. a 01:00 p.m.\\\\n\\\\n•\\\\tcali: calle 40 norte n° 6n- 28 la campina.\\\\nhorario: lunes a viernes 8:00 a.m. a 5:30 p.m.\\\\nsabados: 8:00 a.m. a 01:00 p.m. \\\\n\\\\n•\\\\tcartagena: carrera 15 n° 31 - 110 local 12 centro -cultural y turistico san lazaro el espinal.\\\\nhorario: lunes a viernes 8:00 a.m. a 5:30 p.m. \\\\nsabados 8:00 a.m. a 01:00 p.m.'), Document(metadata={}, page_content='validacion titularidad / validacion propiedad / validacion propietario / dueno credito.\\\\n\\\\nel dueno, propietario o titular del credito es la persona a la cual le fue avalado. en este caso, el nombre del titular del credito es:'), Document(metadata={}, page_content='quien es el ente regulador:\\\\n\\\\nla superintendencia de sociedades.')]\", name='lookup_questions', id='5dd3f92a-4c75-462a-949a-55493b7f0533', tool_call_id='call_jkz5'), AIMessage(content='Hola Daniel, la sede de Medellín se encuentra en la carrera 43a n° 23-25 local 128, centro comercial Avenida Mall. El horario de atención es de lunes a viernes de 8:00 a.m. a 5:30 p.m. y sábados de 8:00 a.m. a 1:00 p.m.', additional_kwargs={}, response_metadata={'token_usage': {'completion_tokens': 82, 'prompt_tokens': 2049, 'total_tokens': 2131, 'completion_time': 0.26095034, 'prompt_time': 0.205512656, 'queue_time': 0.06139085400000002, 'total_time': 0.466462996}, 'model_name': 'llama3-70b-8192', 'system_fingerprint': 'fp_87cbfbbc4d', 'finish_reason': 'stop', 'logprobs': None}, id='run-95e97786-9c19-4f28-933a-e9562533d1f5-0', usage_metadata={'input_tokens': 2049, 'output_tokens': 82, 'total_tokens': 2131}), HumanMessage(content='125748', additional_kwargs={}, response_metadata={}, id='80a6b5e1-069e-4831-97b1-1edcc21ceae2'), AIMessage(content='Hola Daniel, necesito verificar su identidad para proseguir. Para hacerlo, necesito algunos datos suyos. Por favor, proporcione su cédula de identidad.', additional_kwargs={}, response_metadata={'token_usage': {'completion_tokens': 40, 'prompt_tokens': 2221, 'total_tokens': 2261, 'completion_time': 0.126562562, 'prompt_time': 0.137819063, 'queue_time': 0.027590294000000015, 'total_time': 0.264381625}, 'model_name': 'llama3-70b-8192', 'system_fingerprint': 'fp_2f30b0b571', 'finish_reason': 'stop', 'logprobs': None}, id='run-89e7c13f-ab36-447e-9cb7-061cad045c6c-0', usage_metadata={'input_tokens': 2221, 'output_tokens': 40, 'total_tokens': 2261}), HumanMessage(content='125748', additional_kwargs={}, response_metadata={}, id='c13c23ef-7e21-452a-8067-2c07e8302293'), AIMessage(content='No puedo avanzar con la verificación de su identidad con solo el número 125748. Por favor, proporcione su cédula de identidad completa para que pueda ayudarlo con su consulta.', additional_kwargs={}, response_metadata={'token_usage': {'completion_tokens': 44, 'prompt_tokens': 2193, 'total_tokens': 2237, 'completion_time': 0.140161058, 'prompt_time': 0.1283537, 'queue_time': 0.004527317000000003, 'total_time': 0.268514758}, 'model_name': 'llama3-70b-8192', 'system_fingerprint': 'fp_87cbfbbc4d', 'finish_reason': 'stop', 'logprobs': None}, id='run-031bcba2-513b-4b59-9352-09822e4dee2d-0', usage_metadata={'input_tokens': 2193, 'output_tokens': 44, 'total_tokens': 2237}), HumanMessage(content='Hola, doy Daniel', additional_kwargs={}, response_metadata={}, id='fc3a4835-c6d6-4564-bb5a-dd3a23dbd503')], 'validated': True, 'required_information': RequiredInformation(provided_id=125748, provided_email='juanfonsecagaravito@gmail.com'), 'telefono': '3152332041'}\n",
      "==================================\u001b[1m Ai Message \u001b[0m==================================\n",
      "\n",
      "Gracias por proporcionar la información. Entiendo que has proporcionado una cédula de identidad con el número 125748 y un correo electrónico juanfonsecagaravito@gmail.com. \n",
      "\n",
      "Verificaré esta información para proseguir con la verificación de su identidad. Por favor, espere un momento.\n",
      "procesando información ingresada por el usuario: {'user_question': 'Hola, doy Daniel', 'messages': [HumanMessage(content='Hola, soy Daniel', additional_kwargs={}, response_metadata={}, id='55b17028-e283-4ed4-a1f9-6bf79660f5b9'), HumanMessage(content='125748', additional_kwargs={}, response_metadata={}, id='f00ac5ce-af6d-4566-b23c-041984c0817f'), HumanMessage(content='juanfonsecagaravito@gmail.com', additional_kwargs={}, response_metadata={}, id='944c2640-cbda-4ff7-8740-80095a1f9228'), HumanMessage(content='cual es la sede de medellín?', additional_kwargs={}, response_metadata={}, id='e930c33f-1790-4047-b59c-dbc63032cc05'), AIMessage(content='Hola Daniel, necesito verificar su identidad para proseguir. Para hacerlo, necesito algunos datos suyos. Por favor, proporcione su cédula de identidad.', additional_kwargs={}, response_metadata={'token_usage': {'completion_tokens': 40, 'prompt_tokens': 426, 'total_tokens': 466, 'completion_time': 0.128849125, 'prompt_time': 0.02632654, 'queue_time': 0.00428417, 'total_time': 0.155175665}, 'model_name': 'llama3-70b-8192', 'system_fingerprint': 'fp_87cbfbbc4d', 'finish_reason': 'stop', 'logprobs': None}, id='run-bf40d9b7-a218-44f5-85db-8773549bd2bb-0', usage_metadata={'input_tokens': 426, 'output_tokens': 40, 'total_tokens': 466}), HumanMessage(content='cual es la sede de medellín?', additional_kwargs={}, response_metadata={}, id='0923e1b6-481e-4c4b-9c6c-55d48dd1855c'), AIMessage(content='', additional_kwargs={'tool_calls': [{'id': 'call_jkz5', 'function': {'arguments': '{\"query\":\"sede de medellín\"}', 'name': 'lookup_questions'}, 'type': 'function'}]}, response_metadata={'token_usage': {'completion_tokens': 48, 'prompt_tokens': 1117, 'total_tokens': 1165, 'completion_time': 0.154199956, 'prompt_time': 0.087914092, 'queue_time': 0.025755267, 'total_time': 0.242114048}, 'model_name': 'llama3-70b-8192', 'system_fingerprint': 'fp_c1a4bcec29', 'finish_reason': 'tool_calls', 'logprobs': None}, id='run-7664405d-98fe-48d5-bc93-581f1e4a21f1-0', tool_calls=[{'name': 'lookup_questions', 'args': {'query': 'sede de medellín'}, 'id': 'call_jkz5', 'type': 'tool_call'}], usage_metadata={'input_tokens': 1117, 'output_tokens': 48, 'total_tokens': 1165}), ToolMessage(content=\"[Document(metadata={}, page_content='direcciones oficinas / canales de atencion presencial / puntos fisicos / sedes finanzauto / sedes fisicas\\\\n\\\\n•\\\\tsede americas / bogota: cra. 56 n° 09 – 17 torre central. \\\\nhorario: lunes a viernes de 7:00 a.m. a 7:00 p.m.\\\\nsabados: 8:00 a.m. a 3:00 p.m.\\\\ndomingos: 9:00 a.m. a 3:00 p.m.\\\\n\\\\n•\\\\tsede norte / bogota: calle 116 n° 23–06 edificio business center 04. \\\\nhorario: lunes a viernes de 7:00 a.m. a 7:00 p.m.\\\\nsabados: 8:00 a.m. a 2:00 p.m. \\\\n\\\\n•\\\\tsede corabastos / bogota: av. cra.80 n°2-51 bodega 41 local 9. \\\\nhorario: lunes a viernes de 7:00 a.m. a 4:00 p.m.\\\\nsabados: 7:00 a.m. a 12:00 m.\\\\n\\\\n•\\\\tsede chia kilometro 2.5 via a cajica - chia, cundinamarca \\\\nhorario: lunes a viernes de 9:00 a.m. a 5:30 p.m.\\\\nsabados: 9:00 a.m. a 3:00 p.m.\\\\n\\\\n\\\\n•\\\\tvillavicencio: carrera 33 n° 15 – 28 edificio casa toro km 1 via puerto lopez. \\\\nhorario: lunes a viernes 8:00 a.m. a 5:30 p.m.\\\\nsabados 8:00 a.m. a 01:00 p.m. \\\\n\\\\n•\\\\tbucaramanga: calle 53 n° 23-97. \\\\nhorario: lunes a viernes 8:00 a.m. a 5:30 p.m.\\\\nsabados 8:00 a.m. a 01:00 p.m.\\\\n\\\\n•\\\\tbarranquilla: carrera 52 n° 74 -39. \\\\nhorario: lunes a viernes 8:00 a.m. a 5:30 p.m.\\\\nsabados 8:00 a.m. a 01:00 p.m.\\\\n\\\\n•\\\\tmedellin: carrera 43a n° 23-25 local 128 centro comercial avenida mall.\\\\nhorario: lunes a viernes 8:00 a.m. a 5:30 p.m. \\\\nsabados 8:00 a.m. a 01:00 p.m.\\\\n\\\\n•\\\\tcali: calle 40 norte n° 6n- 28 la campina.\\\\nhorario: lunes a viernes 8:00 a.m. a 5:30 p.m.\\\\nsabados: 8:00 a.m. a 01:00 p.m. \\\\n\\\\n•\\\\tcartagena: carrera 15 n° 31 - 110 local 12 centro -cultural y turistico san lazaro el espinal.\\\\nhorario: lunes a viernes 8:00 a.m. a 5:30 p.m. \\\\nsabados 8:00 a.m. a 01:00 p.m.'), Document(metadata={}, page_content='validacion titularidad / validacion propiedad / validacion propietario / dueno credito.\\\\n\\\\nel dueno, propietario o titular del credito es la persona a la cual le fue avalado. en este caso, el nombre del titular del credito es:'), Document(metadata={}, page_content='quien es el ente regulador:\\\\n\\\\nla superintendencia de sociedades.')]\", name='lookup_questions', id='5dd3f92a-4c75-462a-949a-55493b7f0533', tool_call_id='call_jkz5'), AIMessage(content='Hola Daniel, la sede de Medellín se encuentra en la carrera 43a n° 23-25 local 128, centro comercial Avenida Mall. El horario de atención es de lunes a viernes de 8:00 a.m. a 5:30 p.m. y sábados de 8:00 a.m. a 1:00 p.m.', additional_kwargs={}, response_metadata={'token_usage': {'completion_tokens': 82, 'prompt_tokens': 2049, 'total_tokens': 2131, 'completion_time': 0.26095034, 'prompt_time': 0.205512656, 'queue_time': 0.06139085400000002, 'total_time': 0.466462996}, 'model_name': 'llama3-70b-8192', 'system_fingerprint': 'fp_87cbfbbc4d', 'finish_reason': 'stop', 'logprobs': None}, id='run-95e97786-9c19-4f28-933a-e9562533d1f5-0', usage_metadata={'input_tokens': 2049, 'output_tokens': 82, 'total_tokens': 2131}), HumanMessage(content='125748', additional_kwargs={}, response_metadata={}, id='80a6b5e1-069e-4831-97b1-1edcc21ceae2'), AIMessage(content='Hola Daniel, necesito verificar su identidad para proseguir. Para hacerlo, necesito algunos datos suyos. Por favor, proporcione su cédula de identidad.', additional_kwargs={}, response_metadata={'token_usage': {'completion_tokens': 40, 'prompt_tokens': 2221, 'total_tokens': 2261, 'completion_time': 0.126562562, 'prompt_time': 0.137819063, 'queue_time': 0.027590294000000015, 'total_time': 0.264381625}, 'model_name': 'llama3-70b-8192', 'system_fingerprint': 'fp_2f30b0b571', 'finish_reason': 'stop', 'logprobs': None}, id='run-89e7c13f-ab36-447e-9cb7-061cad045c6c-0', usage_metadata={'input_tokens': 2221, 'output_tokens': 40, 'total_tokens': 2261}), HumanMessage(content='125748', additional_kwargs={}, response_metadata={}, id='c13c23ef-7e21-452a-8067-2c07e8302293'), AIMessage(content='No puedo avanzar con la verificación de su identidad con solo el número 125748. Por favor, proporcione su cédula de identidad completa para que pueda ayudarlo con su consulta.', additional_kwargs={}, response_metadata={'token_usage': {'completion_tokens': 44, 'prompt_tokens': 2193, 'total_tokens': 2237, 'completion_time': 0.140161058, 'prompt_time': 0.1283537, 'queue_time': 0.004527317000000003, 'total_time': 0.268514758}, 'model_name': 'llama3-70b-8192', 'system_fingerprint': 'fp_87cbfbbc4d', 'finish_reason': 'stop', 'logprobs': None}, id='run-031bcba2-513b-4b59-9352-09822e4dee2d-0', usage_metadata={'input_tokens': 2193, 'output_tokens': 44, 'total_tokens': 2237}), HumanMessage(content='Hola, doy Daniel', additional_kwargs={}, response_metadata={}, id='fc3a4835-c6d6-4564-bb5a-dd3a23dbd503'), AIMessage(content='Gracias por proporcionar la información. Entiendo que has proporcionado una cédula de identidad con el número 125748 y un correo electrónico juanfonsecagaravito@gmail.com. \\n\\nVerificaré esta información para proseguir con la verificación de su identidad. Por favor, espere un momento.', additional_kwargs={}, response_metadata={'token_usage': {'completion_tokens': 69, 'prompt_tokens': 2741, 'total_tokens': 2810, 'completion_time': 0.217214378, 'prompt_time': 0.172374006, 'queue_time': 0.005991677000000001, 'total_time': 0.389588384}, 'model_name': 'llama3-70b-8192', 'system_fingerprint': 'fp_c1a4bcec29', 'finish_reason': 'stop', 'logprobs': None}, id='run-174b214b-f4ba-4b9a-8859-d816f044038d-0', usage_metadata={'input_tokens': 2741, 'output_tokens': 69, 'total_tokens': 2810})], 'validated': True, 'required_information': RequiredInformation(provided_id=125748, provided_email='juanfonsecagaravito@gmail.com'), 'telefono': '3152332041'}\n",
      "Combinando información requerida...\n",
      "{'provided_id': 125748, 'provided_email': 'juanfonsecagaravito@gmail.com'}\n",
      "Mirando si ya ingresó toda la info\n",
      "Ya ingresó toda la info\n",
      "================================\u001b[1m Human Message \u001b[0m=================================\n",
      "\n",
      "Hola, doy Daniel\n",
      "Verificando...\n"
     ]
    },
    {
     "name": "stderr",
     "output_type": "stream",
     "text": [
      "/tmp/ipykernel_502465/4025079817.py:92: UserWarning: pandas only supports SQLAlchemy connectable (engine/connection) or database string URI or sqlite3 DBAPI2 connection. Other DBAPI2 objects are not tested. Please consider using SQLAlchemy.\n",
      "  df_cl = pd.read_sql_query(query4, cnxn)\n"
     ]
    },
    {
     "name": "stdout",
     "output_type": "stream",
     "text": [
      "Verificado!!!\n",
      "En la arista de verificación\n",
      "================================\u001b[1m Human Message \u001b[0m=================================\n",
      "\n",
      "Hola, doy Daniel\n",
      "En el asistente!!!\n",
      "==================================\u001b[1m Ai Message \u001b[0m==================================\n",
      "\n",
      "Hola Daniel, ya he verificado su identidad. ¿En qué puedo ayudarlo hoy? ¿Tiene alguna pregunta o consulta sobre su crédito o algún otro tema relacionado con Finanzauto?\n"
     ]
    }
   ],
   "source": [
    "thread_id = 1\n",
    "\n",
    "config = {\n",
    "    \"configurable\": {\n",
    "        \"thread_id\": thread_id,\n",
    "    }\n",
    "}\n",
    "for event in graph.stream({\"messages\":'Hola, doy Daniel', \"telefono\":\"3152332041\"}, config, stream_mode=\"values\"):\n",
    "    event[\"messages\"][-1].pretty_print()"
   ]
  },
  {
   "cell_type": "code",
   "execution_count": 14,
   "metadata": {},
   "outputs": [
    {
     "name": "stdout",
     "output_type": "stream",
     "text": [
      "User (q/Q to quit): Hoola!\n",
      "En el logueador {'messages': [HumanMessage(content='Hoola!', additional_kwargs={}, response_metadata={}, id='4dddca9d-761e-459f-a50f-d3498431c962')], 'telefono': '3152332041'}\n",
      "content='Bienvenido! Para verificar su identidad, necesito algunos datos. Por favor, proporcione su cédula (número de identificación).' additional_kwargs={} response_metadata={'token_usage': {'completion_tokens': 33, 'prompt_tokens': 296, 'total_tokens': 329, 'completion_time': 0.107108215, 'prompt_time': 0.019666914, 'queue_time': 0.006313993, 'total_time': 0.126775129}, 'model_name': 'llama3-70b-8192', 'system_fingerprint': 'fp_87cbfbbc4d', 'finish_reason': 'stop', 'logprobs': None} id='run-7fada5d6-9ea2-4159-a903-6fd33d186682-0' usage_metadata={'input_tokens': 296, 'output_tokens': 33, 'total_tokens': 329}\n",
      "==================================\u001b[1m Ai Message \u001b[0m==================================\n",
      "\n",
      "Bienvenido! Para verificar su identidad, necesito algunos datos. Por favor, proporcione su cédula (número de identificación).\n",
      "procesando información ingresada por el usuario: {'user_question': 'Hoola!', 'messages': [HumanMessage(content='Hoola!', additional_kwargs={}, response_metadata={}, id='4dddca9d-761e-459f-a50f-d3498431c962'), AIMessage(content='Bienvenido! Para verificar su identidad, necesito algunos datos. Por favor, proporcione su cédula (número de identificación).', additional_kwargs={}, response_metadata={'token_usage': {'completion_tokens': 33, 'prompt_tokens': 296, 'total_tokens': 329, 'completion_time': 0.107108215, 'prompt_time': 0.019666914, 'queue_time': 0.006313993, 'total_time': 0.126775129}, 'model_name': 'llama3-70b-8192', 'system_fingerprint': 'fp_87cbfbbc4d', 'finish_reason': 'stop', 'logprobs': None}, id='run-7fada5d6-9ea2-4159-a903-6fd33d186682-0', usage_metadata={'input_tokens': 296, 'output_tokens': 33, 'total_tokens': 329})], 'telefono': '3152332041'}\n",
      "Mirando si ya ingresó toda la info\n",
      "No ha recolectado TODA la info\n",
      "content='Hoola!' additional_kwargs={} response_metadata={} id='4e7354b1-89b6-4deb-9f1f-0eff3ad5f4d0'\n",
      "================================\u001b[1m Human Message \u001b[0m=================================\n",
      "\n",
      "Hoola!\n",
      "En el logueador {'user_question': 'Hoola!', 'messages': [HumanMessage(content='Hoola!', additional_kwargs={}, response_metadata={}, id='4dddca9d-761e-459f-a50f-d3498431c962'), AIMessage(content='Bienvenido! Para verificar su identidad, necesito algunos datos. Por favor, proporcione su cédula (número de identificación).', additional_kwargs={}, response_metadata={'token_usage': {'completion_tokens': 33, 'prompt_tokens': 296, 'total_tokens': 329, 'completion_time': 0.107108215, 'prompt_time': 0.019666914, 'queue_time': 0.006313993, 'total_time': 0.126775129}, 'model_name': 'llama3-70b-8192', 'system_fingerprint': 'fp_87cbfbbc4d', 'finish_reason': 'stop', 'logprobs': None}, id='run-7fada5d6-9ea2-4159-a903-6fd33d186682-0', usage_metadata={'input_tokens': 296, 'output_tokens': 33, 'total_tokens': 329}), HumanMessage(content='Hoola!', additional_kwargs={}, response_metadata={}, id='4e7354b1-89b6-4deb-9f1f-0eff3ad5f4d0')], 'required_information': RequiredInformation(provided_id=None, provided_email=None), 'telefono': '3152332041'}\n",
      "content='¡Hola! Gracias por proporcionar su número de teléfono, pero para verificar su identidad, necesito su cédula (número de identificación). ¿Podría proporcionarme su cédula, por favor?' additional_kwargs={} response_metadata={'token_usage': {'completion_tokens': 49, 'prompt_tokens': 554, 'total_tokens': 603, 'completion_time': 0.153861782, 'prompt_time': 0.035487478, 'queue_time': 0.007506208, 'total_time': 0.18934926}, 'model_name': 'llama3-70b-8192', 'system_fingerprint': 'fp_c1a4bcec29', 'finish_reason': 'stop', 'logprobs': None} id='run-d75a2cc5-d8dc-462d-b1ee-e3e6b24b2186-0' usage_metadata={'input_tokens': 554, 'output_tokens': 49, 'total_tokens': 603}\n",
      "==================================\u001b[1m Ai Message \u001b[0m==================================\n",
      "\n",
      "¡Hola! Gracias por proporcionar su número de teléfono, pero para verificar su identidad, necesito su cédula (número de identificación). ¿Podría proporcionarme su cédula, por favor?\n",
      "procesando información ingresada por el usuario: {'user_question': 'Hoola!', 'messages': [HumanMessage(content='Hoola!', additional_kwargs={}, response_metadata={}, id='4dddca9d-761e-459f-a50f-d3498431c962'), AIMessage(content='Bienvenido! Para verificar su identidad, necesito algunos datos. Por favor, proporcione su cédula (número de identificación).', additional_kwargs={}, response_metadata={'token_usage': {'completion_tokens': 33, 'prompt_tokens': 296, 'total_tokens': 329, 'completion_time': 0.107108215, 'prompt_time': 0.019666914, 'queue_time': 0.006313993, 'total_time': 0.126775129}, 'model_name': 'llama3-70b-8192', 'system_fingerprint': 'fp_87cbfbbc4d', 'finish_reason': 'stop', 'logprobs': None}, id='run-7fada5d6-9ea2-4159-a903-6fd33d186682-0', usage_metadata={'input_tokens': 296, 'output_tokens': 33, 'total_tokens': 329}), HumanMessage(content='Hoola!', additional_kwargs={}, response_metadata={}, id='4e7354b1-89b6-4deb-9f1f-0eff3ad5f4d0'), AIMessage(content='¡Hola! Gracias por proporcionar su número de teléfono, pero para verificar su identidad, necesito su cédula (número de identificación). ¿Podría proporcionarme su cédula, por favor?', additional_kwargs={}, response_metadata={'token_usage': {'completion_tokens': 49, 'prompt_tokens': 554, 'total_tokens': 603, 'completion_time': 0.153861782, 'prompt_time': 0.035487478, 'queue_time': 0.007506208, 'total_time': 0.18934926}, 'model_name': 'llama3-70b-8192', 'system_fingerprint': 'fp_c1a4bcec29', 'finish_reason': 'stop', 'logprobs': None}, id='run-d75a2cc5-d8dc-462d-b1ee-e3e6b24b2186-0', usage_metadata={'input_tokens': 554, 'output_tokens': 49, 'total_tokens': 603})], 'required_information': RequiredInformation(provided_id=None, provided_email=None), 'telefono': '3152332041'}\n",
      "Combinando información requerida...\n",
      "{}\n",
      "Mirando si ya ingresó toda la info\n",
      "No ha recolectado TODA la info\n",
      "content='Hoola!' additional_kwargs={} response_metadata={} id='62ac7d17-b551-4af8-af92-6232ad5ac0de'\n",
      "================================\u001b[1m Human Message \u001b[0m=================================\n",
      "\n",
      "Hoola!\n",
      "En el logueador {'user_question': 'Hoola!', 'messages': [HumanMessage(content='Hoola!', additional_kwargs={}, response_metadata={}, id='4dddca9d-761e-459f-a50f-d3498431c962'), AIMessage(content='Bienvenido! Para verificar su identidad, necesito algunos datos. Por favor, proporcione su cédula (número de identificación).', additional_kwargs={}, response_metadata={'token_usage': {'completion_tokens': 33, 'prompt_tokens': 296, 'total_tokens': 329, 'completion_time': 0.107108215, 'prompt_time': 0.019666914, 'queue_time': 0.006313993, 'total_time': 0.126775129}, 'model_name': 'llama3-70b-8192', 'system_fingerprint': 'fp_87cbfbbc4d', 'finish_reason': 'stop', 'logprobs': None}, id='run-7fada5d6-9ea2-4159-a903-6fd33d186682-0', usage_metadata={'input_tokens': 296, 'output_tokens': 33, 'total_tokens': 329}), HumanMessage(content='Hoola!', additional_kwargs={}, response_metadata={}, id='4e7354b1-89b6-4deb-9f1f-0eff3ad5f4d0'), AIMessage(content='¡Hola! Gracias por proporcionar su número de teléfono, pero para verificar su identidad, necesito su cédula (número de identificación). ¿Podría proporcionarme su cédula, por favor?', additional_kwargs={}, response_metadata={'token_usage': {'completion_tokens': 49, 'prompt_tokens': 554, 'total_tokens': 603, 'completion_time': 0.153861782, 'prompt_time': 0.035487478, 'queue_time': 0.007506208, 'total_time': 0.18934926}, 'model_name': 'llama3-70b-8192', 'system_fingerprint': 'fp_c1a4bcec29', 'finish_reason': 'stop', 'logprobs': None}, id='run-d75a2cc5-d8dc-462d-b1ee-e3e6b24b2186-0', usage_metadata={'input_tokens': 554, 'output_tokens': 49, 'total_tokens': 603}), HumanMessage(content='Hoola!', additional_kwargs={}, response_metadata={}, id='62ac7d17-b551-4af8-af92-6232ad5ac0de')], 'required_information': RequiredInformation(provided_id=None, provided_email=None), 'telefono': '3152332041'}\n",
      "content='¡Hola! Gracias por proporcionar su número de teléfono, pero para verificar su identidad, necesito su cédula (número de identificación). ¿Podría proporcionarme su cédula, por favor?' additional_kwargs={} response_metadata={'token_usage': {'completion_tokens': 49, 'prompt_tokens': 815, 'total_tokens': 864, 'completion_time': 0.15402751, 'prompt_time': 0.04247546, 'queue_time': 0.004541716000000001, 'total_time': 0.19650297}, 'model_name': 'llama3-70b-8192', 'system_fingerprint': 'fp_c1a4bcec29', 'finish_reason': 'stop', 'logprobs': None} id='run-db221bd4-8fbb-47f5-bc8a-aecab742c766-0' usage_metadata={'input_tokens': 815, 'output_tokens': 49, 'total_tokens': 864}\n",
      "==================================\u001b[1m Ai Message \u001b[0m==================================\n",
      "\n",
      "¡Hola! Gracias por proporcionar su número de teléfono, pero para verificar su identidad, necesito su cédula (número de identificación). ¿Podría proporcionarme su cédula, por favor?\n",
      "procesando información ingresada por el usuario: {'user_question': 'Hoola!', 'messages': [HumanMessage(content='Hoola!', additional_kwargs={}, response_metadata={}, id='4dddca9d-761e-459f-a50f-d3498431c962'), AIMessage(content='Bienvenido! Para verificar su identidad, necesito algunos datos. Por favor, proporcione su cédula (número de identificación).', additional_kwargs={}, response_metadata={'token_usage': {'completion_tokens': 33, 'prompt_tokens': 296, 'total_tokens': 329, 'completion_time': 0.107108215, 'prompt_time': 0.019666914, 'queue_time': 0.006313993, 'total_time': 0.126775129}, 'model_name': 'llama3-70b-8192', 'system_fingerprint': 'fp_87cbfbbc4d', 'finish_reason': 'stop', 'logprobs': None}, id='run-7fada5d6-9ea2-4159-a903-6fd33d186682-0', usage_metadata={'input_tokens': 296, 'output_tokens': 33, 'total_tokens': 329}), HumanMessage(content='Hoola!', additional_kwargs={}, response_metadata={}, id='4e7354b1-89b6-4deb-9f1f-0eff3ad5f4d0'), AIMessage(content='¡Hola! Gracias por proporcionar su número de teléfono, pero para verificar su identidad, necesito su cédula (número de identificación). ¿Podría proporcionarme su cédula, por favor?', additional_kwargs={}, response_metadata={'token_usage': {'completion_tokens': 49, 'prompt_tokens': 554, 'total_tokens': 603, 'completion_time': 0.153861782, 'prompt_time': 0.035487478, 'queue_time': 0.007506208, 'total_time': 0.18934926}, 'model_name': 'llama3-70b-8192', 'system_fingerprint': 'fp_c1a4bcec29', 'finish_reason': 'stop', 'logprobs': None}, id='run-d75a2cc5-d8dc-462d-b1ee-e3e6b24b2186-0', usage_metadata={'input_tokens': 554, 'output_tokens': 49, 'total_tokens': 603}), HumanMessage(content='Hoola!', additional_kwargs={}, response_metadata={}, id='62ac7d17-b551-4af8-af92-6232ad5ac0de'), AIMessage(content='¡Hola! Gracias por proporcionar su número de teléfono, pero para verificar su identidad, necesito su cédula (número de identificación). ¿Podría proporcionarme su cédula, por favor?', additional_kwargs={}, response_metadata={'token_usage': {'completion_tokens': 49, 'prompt_tokens': 815, 'total_tokens': 864, 'completion_time': 0.15402751, 'prompt_time': 0.04247546, 'queue_time': 0.004541716000000001, 'total_time': 0.19650297}, 'model_name': 'llama3-70b-8192', 'system_fingerprint': 'fp_c1a4bcec29', 'finish_reason': 'stop', 'logprobs': None}, id='run-db221bd4-8fbb-47f5-bc8a-aecab742c766-0', usage_metadata={'input_tokens': 815, 'output_tokens': 49, 'total_tokens': 864})], 'required_information': RequiredInformation(provided_id=None, provided_email=None), 'telefono': '3152332041'}\n",
      "Combinando información requerida...\n",
      "{}\n",
      "Mirando si ya ingresó toda la info\n",
      "No ha recolectado TODA la info\n",
      "content='Hoola!' additional_kwargs={} response_metadata={} id='9b4ce82f-c038-4154-ada1-e6184337ead3'\n",
      "================================\u001b[1m Human Message \u001b[0m=================================\n",
      "\n",
      "Hoola!\n",
      "En el logueador {'user_question': 'Hoola!', 'messages': [HumanMessage(content='Hoola!', additional_kwargs={}, response_metadata={}, id='4dddca9d-761e-459f-a50f-d3498431c962'), AIMessage(content='Bienvenido! Para verificar su identidad, necesito algunos datos. Por favor, proporcione su cédula (número de identificación).', additional_kwargs={}, response_metadata={'token_usage': {'completion_tokens': 33, 'prompt_tokens': 296, 'total_tokens': 329, 'completion_time': 0.107108215, 'prompt_time': 0.019666914, 'queue_time': 0.006313993, 'total_time': 0.126775129}, 'model_name': 'llama3-70b-8192', 'system_fingerprint': 'fp_87cbfbbc4d', 'finish_reason': 'stop', 'logprobs': None}, id='run-7fada5d6-9ea2-4159-a903-6fd33d186682-0', usage_metadata={'input_tokens': 296, 'output_tokens': 33, 'total_tokens': 329}), HumanMessage(content='Hoola!', additional_kwargs={}, response_metadata={}, id='4e7354b1-89b6-4deb-9f1f-0eff3ad5f4d0'), AIMessage(content='¡Hola! Gracias por proporcionar su número de teléfono, pero para verificar su identidad, necesito su cédula (número de identificación). ¿Podría proporcionarme su cédula, por favor?', additional_kwargs={}, response_metadata={'token_usage': {'completion_tokens': 49, 'prompt_tokens': 554, 'total_tokens': 603, 'completion_time': 0.153861782, 'prompt_time': 0.035487478, 'queue_time': 0.007506208, 'total_time': 0.18934926}, 'model_name': 'llama3-70b-8192', 'system_fingerprint': 'fp_c1a4bcec29', 'finish_reason': 'stop', 'logprobs': None}, id='run-d75a2cc5-d8dc-462d-b1ee-e3e6b24b2186-0', usage_metadata={'input_tokens': 554, 'output_tokens': 49, 'total_tokens': 603}), HumanMessage(content='Hoola!', additional_kwargs={}, response_metadata={}, id='62ac7d17-b551-4af8-af92-6232ad5ac0de'), AIMessage(content='¡Hola! Gracias por proporcionar su número de teléfono, pero para verificar su identidad, necesito su cédula (número de identificación). ¿Podría proporcionarme su cédula, por favor?', additional_kwargs={}, response_metadata={'token_usage': {'completion_tokens': 49, 'prompt_tokens': 815, 'total_tokens': 864, 'completion_time': 0.15402751, 'prompt_time': 0.04247546, 'queue_time': 0.004541716000000001, 'total_time': 0.19650297}, 'model_name': 'llama3-70b-8192', 'system_fingerprint': 'fp_c1a4bcec29', 'finish_reason': 'stop', 'logprobs': None}, id='run-db221bd4-8fbb-47f5-bc8a-aecab742c766-0', usage_metadata={'input_tokens': 815, 'output_tokens': 49, 'total_tokens': 864}), HumanMessage(content='Hoola!', additional_kwargs={}, response_metadata={}, id='9b4ce82f-c038-4154-ada1-e6184337ead3')], 'required_information': RequiredInformation(provided_id=None, provided_email=None), 'telefono': '3152332041'}\n",
      "content='¡Hola! Gracias por saludar, pero para verificar su identidad, necesito algunos datos. Por favor, proporcione su cédula (número de identificación).' additional_kwargs={} response_metadata={'token_usage': {'completion_tokens': 39, 'prompt_tokens': 1075, 'total_tokens': 1114, 'completion_time': 0.12276757, 'prompt_time': 0.083377068, 'queue_time': 0.018671982000000004, 'total_time': 0.206144638}, 'model_name': 'llama3-70b-8192', 'system_fingerprint': 'fp_2f30b0b571', 'finish_reason': 'stop', 'logprobs': None} id='run-ccaad911-24c1-4983-bc50-c4090432eae0-0' usage_metadata={'input_tokens': 1075, 'output_tokens': 39, 'total_tokens': 1114}\n",
      "==================================\u001b[1m Ai Message \u001b[0m==================================\n",
      "\n",
      "¡Hola! Gracias por saludar, pero para verificar su identidad, necesito algunos datos. Por favor, proporcione su cédula (número de identificación).\n",
      "procesando información ingresada por el usuario: {'user_question': 'Hoola!', 'messages': [HumanMessage(content='Hoola!', additional_kwargs={}, response_metadata={}, id='4dddca9d-761e-459f-a50f-d3498431c962'), AIMessage(content='Bienvenido! Para verificar su identidad, necesito algunos datos. Por favor, proporcione su cédula (número de identificación).', additional_kwargs={}, response_metadata={'token_usage': {'completion_tokens': 33, 'prompt_tokens': 296, 'total_tokens': 329, 'completion_time': 0.107108215, 'prompt_time': 0.019666914, 'queue_time': 0.006313993, 'total_time': 0.126775129}, 'model_name': 'llama3-70b-8192', 'system_fingerprint': 'fp_87cbfbbc4d', 'finish_reason': 'stop', 'logprobs': None}, id='run-7fada5d6-9ea2-4159-a903-6fd33d186682-0', usage_metadata={'input_tokens': 296, 'output_tokens': 33, 'total_tokens': 329}), HumanMessage(content='Hoola!', additional_kwargs={}, response_metadata={}, id='4e7354b1-89b6-4deb-9f1f-0eff3ad5f4d0'), AIMessage(content='¡Hola! Gracias por proporcionar su número de teléfono, pero para verificar su identidad, necesito su cédula (número de identificación). ¿Podría proporcionarme su cédula, por favor?', additional_kwargs={}, response_metadata={'token_usage': {'completion_tokens': 49, 'prompt_tokens': 554, 'total_tokens': 603, 'completion_time': 0.153861782, 'prompt_time': 0.035487478, 'queue_time': 0.007506208, 'total_time': 0.18934926}, 'model_name': 'llama3-70b-8192', 'system_fingerprint': 'fp_c1a4bcec29', 'finish_reason': 'stop', 'logprobs': None}, id='run-d75a2cc5-d8dc-462d-b1ee-e3e6b24b2186-0', usage_metadata={'input_tokens': 554, 'output_tokens': 49, 'total_tokens': 603}), HumanMessage(content='Hoola!', additional_kwargs={}, response_metadata={}, id='62ac7d17-b551-4af8-af92-6232ad5ac0de'), AIMessage(content='¡Hola! Gracias por proporcionar su número de teléfono, pero para verificar su identidad, necesito su cédula (número de identificación). ¿Podría proporcionarme su cédula, por favor?', additional_kwargs={}, response_metadata={'token_usage': {'completion_tokens': 49, 'prompt_tokens': 815, 'total_tokens': 864, 'completion_time': 0.15402751, 'prompt_time': 0.04247546, 'queue_time': 0.004541716000000001, 'total_time': 0.19650297}, 'model_name': 'llama3-70b-8192', 'system_fingerprint': 'fp_c1a4bcec29', 'finish_reason': 'stop', 'logprobs': None}, id='run-db221bd4-8fbb-47f5-bc8a-aecab742c766-0', usage_metadata={'input_tokens': 815, 'output_tokens': 49, 'total_tokens': 864}), HumanMessage(content='Hoola!', additional_kwargs={}, response_metadata={}, id='9b4ce82f-c038-4154-ada1-e6184337ead3'), AIMessage(content='¡Hola! Gracias por saludar, pero para verificar su identidad, necesito algunos datos. Por favor, proporcione su cédula (número de identificación).', additional_kwargs={}, response_metadata={'token_usage': {'completion_tokens': 39, 'prompt_tokens': 1075, 'total_tokens': 1114, 'completion_time': 0.12276757, 'prompt_time': 0.083377068, 'queue_time': 0.018671982000000004, 'total_time': 0.206144638}, 'model_name': 'llama3-70b-8192', 'system_fingerprint': 'fp_2f30b0b571', 'finish_reason': 'stop', 'logprobs': None}, id='run-ccaad911-24c1-4983-bc50-c4090432eae0-0', usage_metadata={'input_tokens': 1075, 'output_tokens': 39, 'total_tokens': 1114})], 'required_information': RequiredInformation(provided_id=None, provided_email=None), 'telefono': '3152332041'}\n",
      "Combinando información requerida...\n",
      "{}\n"
     ]
    },
    {
     "ename": "CancelledError",
     "evalue": "",
     "output_type": "error",
     "traceback": [
      "\u001b[0;31m---------------------------------------------------------------------------\u001b[0m",
      "\u001b[0;31mCancelledError\u001b[0m                            Traceback (most recent call last)",
      "Cell \u001b[0;32mIn[14], line 11\u001b[0m\n\u001b[1;32m      9\u001b[0m     \u001b[38;5;28;01mbreak\u001b[39;00m\n\u001b[1;32m     10\u001b[0m output \u001b[38;5;241m=\u001b[39m \u001b[38;5;28;01mNone\u001b[39;00m\n\u001b[0;32m---> 11\u001b[0m \u001b[38;5;28;01masync\u001b[39;00m \u001b[38;5;28;01mfor\u001b[39;00m output \u001b[38;5;129;01min\u001b[39;00m graph\u001b[38;5;241m.\u001b[39mastream(\n\u001b[1;32m     12\u001b[0m     {\u001b[38;5;124m\"\u001b[39m\u001b[38;5;124mmessages\u001b[39m\u001b[38;5;124m\"\u001b[39m: [HumanMessage(content\u001b[38;5;241m=\u001b[39muser)],\u001b[38;5;124m\"\u001b[39m\u001b[38;5;124mtelefono\u001b[39m\u001b[38;5;124m\"\u001b[39m:\u001b[38;5;124m\"\u001b[39m\u001b[38;5;124m3152332041\u001b[39m\u001b[38;5;124m\"\u001b[39m}, config\u001b[38;5;241m=\u001b[39mconfig, stream_mode\u001b[38;5;241m=\u001b[39m\u001b[38;5;124m\"\u001b[39m\u001b[38;5;124mupdates\u001b[39m\u001b[38;5;124m\"\u001b[39m\n\u001b[1;32m     13\u001b[0m ):\n\u001b[1;32m     14\u001b[0m     last_message \u001b[38;5;241m=\u001b[39m \u001b[38;5;28mnext\u001b[39m(\u001b[38;5;28miter\u001b[39m(output\u001b[38;5;241m.\u001b[39mvalues()))[\u001b[38;5;124m\"\u001b[39m\u001b[38;5;124mmessages\u001b[39m\u001b[38;5;124m\"\u001b[39m][\u001b[38;5;241m-\u001b[39m\u001b[38;5;241m1\u001b[39m]\n\u001b[1;32m     15\u001b[0m     \u001b[38;5;28mprint\u001b[39m(last_message)\n",
      "File \u001b[0;32m~/anaconda3/envs/llms_env/lib/python3.12/site-packages/langgraph/pregel/__init__.py:1413\u001b[0m, in \u001b[0;36mPregel.astream\u001b[0;34m(self, input, config, stream_mode, output_keys, interrupt_before, interrupt_after, debug, subgraphs)\u001b[0m\n\u001b[1;32m   1402\u001b[0m \u001b[38;5;66;03m# Similarly to Bulk Synchronous Parallel / Pregel model\u001b[39;00m\n\u001b[1;32m   1403\u001b[0m \u001b[38;5;66;03m# computation proceeds in steps, while there are channel updates\u001b[39;00m\n\u001b[1;32m   1404\u001b[0m \u001b[38;5;66;03m# channel updates from step N are only visible in step N+1\u001b[39;00m\n\u001b[1;32m   1405\u001b[0m \u001b[38;5;66;03m# channels are guaranteed to be immutable for the duration of the step,\u001b[39;00m\n\u001b[1;32m   1406\u001b[0m \u001b[38;5;66;03m# with channel updates applied only at the transition between steps\u001b[39;00m\n\u001b[1;32m   1407\u001b[0m \u001b[38;5;28;01mwhile\u001b[39;00m loop\u001b[38;5;241m.\u001b[39mtick(\n\u001b[1;32m   1408\u001b[0m     input_keys\u001b[38;5;241m=\u001b[39m\u001b[38;5;28mself\u001b[39m\u001b[38;5;241m.\u001b[39minput_channels,\n\u001b[1;32m   1409\u001b[0m     interrupt_before\u001b[38;5;241m=\u001b[39minterrupt_before,\n\u001b[1;32m   1410\u001b[0m     interrupt_after\u001b[38;5;241m=\u001b[39minterrupt_after,\n\u001b[1;32m   1411\u001b[0m     manager\u001b[38;5;241m=\u001b[39mrun_manager,\n\u001b[1;32m   1412\u001b[0m ):\n\u001b[0;32m-> 1413\u001b[0m     \u001b[38;5;28;01masync\u001b[39;00m \u001b[38;5;28;01mfor\u001b[39;00m _ \u001b[38;5;129;01min\u001b[39;00m runner\u001b[38;5;241m.\u001b[39matick(\n\u001b[1;32m   1414\u001b[0m         loop\u001b[38;5;241m.\u001b[39mtasks\u001b[38;5;241m.\u001b[39mvalues(),\n\u001b[1;32m   1415\u001b[0m         timeout\u001b[38;5;241m=\u001b[39m\u001b[38;5;28mself\u001b[39m\u001b[38;5;241m.\u001b[39mstep_timeout,\n\u001b[1;32m   1416\u001b[0m         retry_policy\u001b[38;5;241m=\u001b[39m\u001b[38;5;28mself\u001b[39m\u001b[38;5;241m.\u001b[39mretry_policy,\n\u001b[1;32m   1417\u001b[0m     ):\n\u001b[1;32m   1418\u001b[0m         \u001b[38;5;66;03m# emit output\u001b[39;00m\n\u001b[1;32m   1419\u001b[0m         \u001b[38;5;28;01mfor\u001b[39;00m o \u001b[38;5;129;01min\u001b[39;00m output():\n\u001b[1;32m   1420\u001b[0m             \u001b[38;5;28;01myield\u001b[39;00m o\n",
      "File \u001b[0;32m~/anaconda3/envs/llms_env/lib/python3.12/site-packages/langgraph/pregel/runner.py:126\u001b[0m, in \u001b[0;36mPregelRunner.atick\u001b[0;34m(self, tasks, reraise, timeout, retry_policy)\u001b[0m\n\u001b[1;32m    124\u001b[0m end_time \u001b[38;5;241m=\u001b[39m timeout \u001b[38;5;241m+\u001b[39m loop\u001b[38;5;241m.\u001b[39mtime() \u001b[38;5;28;01mif\u001b[39;00m timeout \u001b[38;5;28;01melse\u001b[39;00m \u001b[38;5;28;01mNone\u001b[39;00m\n\u001b[1;32m    125\u001b[0m \u001b[38;5;28;01mwhile\u001b[39;00m futures:\n\u001b[0;32m--> 126\u001b[0m     done, _ \u001b[38;5;241m=\u001b[39m \u001b[38;5;28;01mawait\u001b[39;00m asyncio\u001b[38;5;241m.\u001b[39mwait(\n\u001b[1;32m    127\u001b[0m         futures,\n\u001b[1;32m    128\u001b[0m         return_when\u001b[38;5;241m=\u001b[39masyncio\u001b[38;5;241m.\u001b[39mFIRST_COMPLETED,\n\u001b[1;32m    129\u001b[0m         timeout\u001b[38;5;241m=\u001b[39m(\u001b[38;5;28mmax\u001b[39m(\u001b[38;5;241m0\u001b[39m, end_time \u001b[38;5;241m-\u001b[39m loop\u001b[38;5;241m.\u001b[39mtime()) \u001b[38;5;28;01mif\u001b[39;00m end_time \u001b[38;5;28;01melse\u001b[39;00m \u001b[38;5;28;01mNone\u001b[39;00m),\n\u001b[1;32m    130\u001b[0m     )\n\u001b[1;32m    131\u001b[0m     \u001b[38;5;28;01mif\u001b[39;00m \u001b[38;5;129;01mnot\u001b[39;00m done:\n\u001b[1;32m    132\u001b[0m         \u001b[38;5;28;01mbreak\u001b[39;00m  \u001b[38;5;66;03m# timed out\u001b[39;00m\n",
      "File \u001b[0;32m~/anaconda3/envs/llms_env/lib/python3.12/asyncio/tasks.py:464\u001b[0m, in \u001b[0;36mwait\u001b[0;34m(fs, timeout, return_when)\u001b[0m\n\u001b[1;32m    461\u001b[0m     \u001b[38;5;28;01mraise\u001b[39;00m \u001b[38;5;167;01mTypeError\u001b[39;00m(\u001b[38;5;124m\"\u001b[39m\u001b[38;5;124mPassing coroutines is forbidden, use tasks explicitly.\u001b[39m\u001b[38;5;124m\"\u001b[39m)\n\u001b[1;32m    463\u001b[0m loop \u001b[38;5;241m=\u001b[39m events\u001b[38;5;241m.\u001b[39mget_running_loop()\n\u001b[0;32m--> 464\u001b[0m \u001b[38;5;28;01mreturn\u001b[39;00m \u001b[38;5;28;01mawait\u001b[39;00m _wait(fs, timeout, return_when, loop)\n",
      "File \u001b[0;32m~/anaconda3/envs/llms_env/lib/python3.12/asyncio/tasks.py:550\u001b[0m, in \u001b[0;36m_wait\u001b[0;34m(fs, timeout, return_when, loop)\u001b[0m\n\u001b[1;32m    547\u001b[0m     f\u001b[38;5;241m.\u001b[39madd_done_callback(_on_completion)\n\u001b[1;32m    549\u001b[0m \u001b[38;5;28;01mtry\u001b[39;00m:\n\u001b[0;32m--> 550\u001b[0m     \u001b[38;5;28;01mawait\u001b[39;00m waiter\n\u001b[1;32m    551\u001b[0m \u001b[38;5;28;01mfinally\u001b[39;00m:\n\u001b[1;32m    552\u001b[0m     \u001b[38;5;28;01mif\u001b[39;00m timeout_handle \u001b[38;5;129;01mis\u001b[39;00m \u001b[38;5;129;01mnot\u001b[39;00m \u001b[38;5;28;01mNone\u001b[39;00m:\n",
      "\u001b[0;31mCancelledError\u001b[0m: "
     ]
    }
   ],
   "source": [
    "import uuid\n",
    "\n",
    "config = {\"configurable\": {\"thread_id\": str(uuid.uuid4())}}\n",
    "while True:\n",
    "    user = input(\"User (q/Q to quit): \")\n",
    "    print(f\"User (q/Q to quit): {user}\")\n",
    "    if user in {\"q\", \"Q\"}:\n",
    "        print(\"AI: Byebye\")\n",
    "        break\n",
    "    output = None\n",
    "    async for output in graph.astream(\n",
    "        {\"messages\": [HumanMessage(content=user)],\"telefono\":\"3152332041\"}, config=config, stream_mode=\"updates\"\n",
    "    ):\n",
    "        last_message = next(iter(output.values()))[\"messages\"][-1]\n",
    "        print(last_message)\n",
    "        last_message.pretty_print()\n",
    "\n",
    "    if output and \"prompt\" in output:\n",
    "        print(\"Done!\")"
   ]
  },
  {
   "cell_type": "code",
   "execution_count": 17,
   "metadata": {},
   "outputs": [
    {
     "ename": "InvalidUpdateError",
     "evalue": "Node hil does not exist",
     "output_type": "error",
     "traceback": [
      "\u001b[0;31m---------------------------------------------------------------------------\u001b[0m",
      "\u001b[0;31mInvalidUpdateError\u001b[0m                        Traceback (most recent call last)",
      "Cell \u001b[0;32mIn[17], line 1\u001b[0m\n\u001b[0;32m----> 1\u001b[0m \u001b[43mgraph\u001b[49m\u001b[38;5;241;43m.\u001b[39;49m\u001b[43mupdate_state\u001b[49m\u001b[43m(\u001b[49m\u001b[43mconfig\u001b[49m\u001b[43m,\u001b[49m\u001b[43m \u001b[49m\u001b[43m{\u001b[49m\u001b[38;5;124;43m\"\u001b[39;49m\u001b[38;5;124;43mmessages\u001b[39;49m\u001b[38;5;124;43m\"\u001b[39;49m\u001b[43m:\u001b[49m\u001b[43m \u001b[49m\u001b[38;5;124;43m'\u001b[39;49m\u001b[38;5;124;43m125748\u001b[39;49m\u001b[38;5;124;43m'\u001b[39;49m\u001b[43m,\u001b[49m\u001b[43m \u001b[49m\u001b[38;5;124;43m\"\u001b[39;49m\u001b[38;5;124;43mtelefono\u001b[39;49m\u001b[38;5;124;43m\"\u001b[39;49m\u001b[43m:\u001b[49m\u001b[38;5;124;43m\"\u001b[39;49m\u001b[38;5;124;43m3152332041\u001b[39;49m\u001b[38;5;124;43m\"\u001b[39;49m\u001b[43m}\u001b[49m\u001b[43m,\u001b[49m\u001b[43m \u001b[49m\u001b[43mas_node\u001b[49m\u001b[38;5;241;43m=\u001b[39;49m\u001b[43mHIL\u001b[49m\u001b[43m)\u001b[49m\n",
      "File \u001b[0;32m~/anaconda3/envs/llms_env/lib/python3.12/site-packages/langgraph/pregel/__init__.py:798\u001b[0m, in \u001b[0;36mPregel.update_state\u001b[0;34m(self, config, values, as_node)\u001b[0m\n\u001b[1;32m    796\u001b[0m     \u001b[38;5;28;01mraise\u001b[39;00m InvalidUpdateError(\u001b[38;5;124m\"\u001b[39m\u001b[38;5;124mAmbiguous update, specify as_node\u001b[39m\u001b[38;5;124m\"\u001b[39m)\n\u001b[1;32m    797\u001b[0m \u001b[38;5;28;01mif\u001b[39;00m as_node \u001b[38;5;129;01mnot\u001b[39;00m \u001b[38;5;129;01min\u001b[39;00m \u001b[38;5;28mself\u001b[39m\u001b[38;5;241m.\u001b[39mnodes:\n\u001b[0;32m--> 798\u001b[0m     \u001b[38;5;28;01mraise\u001b[39;00m InvalidUpdateError(\u001b[38;5;124mf\u001b[39m\u001b[38;5;124m\"\u001b[39m\u001b[38;5;124mNode \u001b[39m\u001b[38;5;132;01m{\u001b[39;00mas_node\u001b[38;5;132;01m}\u001b[39;00m\u001b[38;5;124m does not exist\u001b[39m\u001b[38;5;124m\"\u001b[39m)\n\u001b[1;32m    799\u001b[0m \u001b[38;5;66;03m# update channels\u001b[39;00m\n\u001b[1;32m    800\u001b[0m \u001b[38;5;28;01mwith\u001b[39;00m ChannelsManager(\u001b[38;5;28mself\u001b[39m\u001b[38;5;241m.\u001b[39mchannels, checkpoint, config) \u001b[38;5;28;01mas\u001b[39;00m (\n\u001b[1;32m    801\u001b[0m     channels,\n\u001b[1;32m    802\u001b[0m     managed,\n\u001b[1;32m    803\u001b[0m ):\n\u001b[1;32m    804\u001b[0m     \u001b[38;5;66;03m# create task to run all writers of the chosen node\u001b[39;00m\n",
      "\u001b[0;31mInvalidUpdateError\u001b[0m: Node hil does not exist"
     ]
    }
   ],
   "source": [
    "graph.update_state(config, {\"messages\": '125748', \"telefono\":\"3152332041\"}, as_node=HIL)"
   ]
  },
  {
   "cell_type": "code",
   "execution_count": 14,
   "metadata": {},
   "outputs": [
    {
     "name": "stdout",
     "output_type": "stream",
     "text": [
      "================================\u001b[1m Human Message \u001b[0m=================================\n",
      "\n",
      "125748\n",
      "procesando información ingresada por el usuario: {'user_question': 'Hola, doy Daniel', 'messages': [HumanMessage(content='Hola, doy Daniel', additional_kwargs={}, response_metadata={}, id='17f88bb0-db1a-45d1-ba09-adb4bbe2220c'), AIMessage(content='¡Hola Daniel! Estoy aquí para ayudarte. Para verificar tu identidad, necesito algunos datos tuyos. Por favor, ¿puedes proporcionarme la cédula que tienes?', additional_kwargs={}, response_metadata={'token_usage': {'completion_tokens': 41, 'prompt_tokens': 301, 'total_tokens': 342, 'completion_time': 0.128116556, 'prompt_time': 0.02318909, 'queue_time': 0.03260847, 'total_time': 0.151305646}, 'model_name': 'llama3-70b-8192', 'system_fingerprint': 'fp_c1a4bcec29', 'finish_reason': 'stop', 'logprobs': None}, id='run-6cb8e32d-7c3b-4d02-9345-546f0a253f04-0', usage_metadata={'input_tokens': 301, 'output_tokens': 41, 'total_tokens': 342}), HumanMessage(content='125748', additional_kwargs={}, response_metadata={}, id='95e76e40-7938-4bad-9b29-2b604ee8e8cc')], 'telefono': '3152332041'}\n",
      "Mirando si ya ingresó toda la info: Arista de processor-loguer\n",
      "================================\u001b[1m Human Message \u001b[0m=================================\n",
      "\n",
      "Hola, doy Daniel\n",
      "En el logueador {'user_question': 'Hola, doy Daniel', 'messages': [HumanMessage(content='Hola, doy Daniel', additional_kwargs={}, response_metadata={}, id='17f88bb0-db1a-45d1-ba09-adb4bbe2220c'), AIMessage(content='¡Hola Daniel! Estoy aquí para ayudarte. Para verificar tu identidad, necesito algunos datos tuyos. Por favor, ¿puedes proporcionarme la cédula que tienes?', additional_kwargs={}, response_metadata={'token_usage': {'completion_tokens': 41, 'prompt_tokens': 301, 'total_tokens': 342, 'completion_time': 0.128116556, 'prompt_time': 0.02318909, 'queue_time': 0.03260847, 'total_time': 0.151305646}, 'model_name': 'llama3-70b-8192', 'system_fingerprint': 'fp_c1a4bcec29', 'finish_reason': 'stop', 'logprobs': None}, id='run-6cb8e32d-7c3b-4d02-9345-546f0a253f04-0', usage_metadata={'input_tokens': 301, 'output_tokens': 41, 'total_tokens': 342}), HumanMessage(content='125748', additional_kwargs={}, response_metadata={}, id='95e76e40-7938-4bad-9b29-2b604ee8e8cc'), HumanMessage(content='Hola, doy Daniel', additional_kwargs={}, response_metadata={}, id='de209bd7-492a-48ad-b5c5-8ced1dc9b1cf')], 'required_information': RequiredInformation(provided_id=125748, provided_email=None), 'telefono': '3152332041'}\n",
      "==================================\u001b[1m Ai Message \u001b[0m==================================\n",
      "\n",
      "¡Hola Daniel! Gracias por proporcionarme la cédula. Ahora, necesito tu dirección de correo electrónico para verificar tu identidad. ¿Puedes proporcionarme tu correo electrónico, por favor?\n",
      "Verificando...\n"
     ]
    },
    {
     "name": "stderr",
     "output_type": "stream",
     "text": [
      "/tmp/ipykernel_499976/1338883911.py:92: UserWarning: pandas only supports SQLAlchemy connectable (engine/connection) or database string URI or sqlite3 DBAPI2 connection. Other DBAPI2 objects are not tested. Please consider using SQLAlchemy.\n",
      "  df_cl = pd.read_sql_query(query4, cnxn)\n"
     ]
    }
   ],
   "source": [
    "for event in graph.stream(None, config, stream_mode=\"values\"):\n",
    "    event[\"messages\"][-1].pretty_print()"
   ]
  },
  {
   "cell_type": "code",
   "execution_count": 15,
   "metadata": {},
   "outputs": [
    {
     "data": {
      "text/plain": [
       "{'configurable': {'thread_id': 1,\n",
       "  'checkpoint_ns': '',\n",
       "  'checkpoint_id': '1ef7c0d2-5d66-623a-8005-eb5800ba35e9'}}"
      ]
     },
     "execution_count": 15,
     "metadata": {},
     "output_type": "execute_result"
    }
   ],
   "source": [
    "graph.update_state(config, {\"messages\":'juanfonsecagaravito@gmail.com', \"telefono\":\"3152332041\"})"
   ]
  },
  {
   "cell_type": "code",
   "execution_count": 16,
   "metadata": {},
   "outputs": [
    {
     "name": "stdout",
     "output_type": "stream",
     "text": [
      "================================\u001b[1m Human Message \u001b[0m=================================\n",
      "\n",
      "juanfonsecagaravito@gmail.com\n",
      "Verificando...\n"
     ]
    },
    {
     "name": "stderr",
     "output_type": "stream",
     "text": [
      "/tmp/ipykernel_499976/1338883911.py:92: UserWarning: pandas only supports SQLAlchemy connectable (engine/connection) or database string URI or sqlite3 DBAPI2 connection. Other DBAPI2 objects are not tested. Please consider using SQLAlchemy.\n",
      "  df_cl = pd.read_sql_query(query4, cnxn)\n"
     ]
    }
   ],
   "source": [
    "for event in graph.stream(None, config, stream_mode=\"values\"):\n",
    "    event[\"messages\"][-1].pretty_print()"
   ]
  },
  {
   "cell_type": "code",
   "execution_count": 17,
   "metadata": {},
   "outputs": [
    {
     "data": {
      "text/plain": [
       "StateSnapshot(values={'user_question': 'Hola, doy Daniel', 'messages': [HumanMessage(content='Hola, doy Daniel', additional_kwargs={}, response_metadata={}, id='17f88bb0-db1a-45d1-ba09-adb4bbe2220c'), AIMessage(content='¡Hola Daniel! Estoy aquí para ayudarte. Para verificar tu identidad, necesito algunos datos tuyos. Por favor, ¿puedes proporcionarme la cédula que tienes?', additional_kwargs={}, response_metadata={'token_usage': {'completion_tokens': 41, 'prompt_tokens': 301, 'total_tokens': 342, 'completion_time': 0.128116556, 'prompt_time': 0.02318909, 'queue_time': 0.03260847, 'total_time': 0.151305646}, 'model_name': 'llama3-70b-8192', 'system_fingerprint': 'fp_c1a4bcec29', 'finish_reason': 'stop', 'logprobs': None}, id='run-6cb8e32d-7c3b-4d02-9345-546f0a253f04-0', usage_metadata={'input_tokens': 301, 'output_tokens': 41, 'total_tokens': 342}), HumanMessage(content='125748', additional_kwargs={}, response_metadata={}, id='95e76e40-7938-4bad-9b29-2b604ee8e8cc'), HumanMessage(content='Hola, doy Daniel', additional_kwargs={}, response_metadata={}, id='de209bd7-492a-48ad-b5c5-8ced1dc9b1cf'), AIMessage(content='¡Hola Daniel! Gracias por proporcionarme la cédula. Ahora, necesito tu dirección de correo electrónico para verificar tu identidad. ¿Puedes proporcionarme tu correo electrónico, por favor?', additional_kwargs={}, response_metadata={'token_usage': {'completion_tokens': 44, 'prompt_tokens': 613, 'total_tokens': 657, 'completion_time': 0.140292741, 'prompt_time': 0.037459907, 'queue_time': 0.10496976200000001, 'total_time': 0.177752648}, 'model_name': 'llama3-70b-8192', 'system_fingerprint': 'fp_c1a4bcec29', 'finish_reason': 'stop', 'logprobs': None}, id='run-908de5dc-9477-4833-a02e-90793dbfcc41-0', usage_metadata={'input_tokens': 613, 'output_tokens': 44, 'total_tokens': 657}), HumanMessage(content='juanfonsecagaravito@gmail.com', additional_kwargs={}, response_metadata={}, id='e715bc2b-6fe2-4ce2-80ee-8e70b5268217')], 'required_information': RequiredInformation(provided_id=125748, provided_email=None), 'telefono': '3152332041'}, next=('hil',), config={'configurable': {'thread_id': 1, 'checkpoint_ns': '', 'checkpoint_id': '1ef7c0d2-5d66-623a-8005-eb5800ba35e9'}}, metadata={'source': 'update', 'step': 5, 'writes': {'loguer': {'messages': 'juanfonsecagaravito@gmail.com', 'telefono': '3152332041'}}, 'parents': {}}, created_at='2024-09-26T13:42:18.300035+00:00', parent_config={'configurable': {'thread_id': 1, 'checkpoint_ns': '', 'checkpoint_id': '1ef7c0d2-5649-69ae-8004-37a5c3799e63'}}, tasks=(PregelTask(id='65ee8687-17a1-7289-a777-775adf53643b', name='hil', path=('__pregel_pull', 'hil'), error=None, interrupts=(Interrupt(value='Waiting user data', when='during'),), state=None),))"
      ]
     },
     "execution_count": 17,
     "metadata": {},
     "output_type": "execute_result"
    }
   ],
   "source": [
    "graph.get_state(config=config)"
   ]
  },
  {
   "cell_type": "code",
   "execution_count": 18,
   "metadata": {},
   "outputs": [
    {
     "name": "stdout",
     "output_type": "stream",
     "text": [
      "================================\u001b[1m Human Message \u001b[0m=================================\n",
      "\n",
      "juanfonsecagaravito@gmail.com\n",
      "Verificando...\n"
     ]
    },
    {
     "name": "stderr",
     "output_type": "stream",
     "text": [
      "/tmp/ipykernel_499976/1338883911.py:92: UserWarning: pandas only supports SQLAlchemy connectable (engine/connection) or database string URI or sqlite3 DBAPI2 connection. Other DBAPI2 objects are not tested. Please consider using SQLAlchemy.\n",
      "  df_cl = pd.read_sql_query(query4, cnxn)\n"
     ]
    }
   ],
   "source": [
    "for event in graph.stream(None, config, stream_mode=\"values\"):\n",
    "    event[\"messages\"][-1].pretty_print()"
   ]
  },
  {
   "cell_type": "code",
   "execution_count": 19,
   "metadata": {},
   "outputs": [
    {
     "name": "stdout",
     "output_type": "stream",
     "text": [
      "================================\u001b[1m Human Message \u001b[0m=================================\n",
      "\n",
      "juanfonsecagaravito@gmail.com\n",
      "Verificando...\n"
     ]
    },
    {
     "name": "stderr",
     "output_type": "stream",
     "text": [
      "/tmp/ipykernel_499976/1338883911.py:92: UserWarning: pandas only supports SQLAlchemy connectable (engine/connection) or database string URI or sqlite3 DBAPI2 connection. Other DBAPI2 objects are not tested. Please consider using SQLAlchemy.\n",
      "  df_cl = pd.read_sql_query(query4, cnxn)\n"
     ]
    }
   ],
   "source": [
    "for event in graph.stream(None, config, stream_mode=\"values\"):\n",
    "    event[\"messages\"][-1].pretty_print()"
   ]
  },
  {
   "cell_type": "code",
   "execution_count": 20,
   "metadata": {},
   "outputs": [
    {
     "name": "stdout",
     "output_type": "stream",
     "text": [
      "================================\u001b[1m Human Message \u001b[0m=================================\n",
      "\n",
      "donde queda finanzauto?\n",
      "En el logueador {'user_question': 'Hola, doy Daniel', 'messages': [HumanMessage(content='Hola, doy Daniel', additional_kwargs={}, response_metadata={}, id='17f88bb0-db1a-45d1-ba09-adb4bbe2220c'), AIMessage(content='¡Hola Daniel! Estoy aquí para ayudarte. Para verificar tu identidad, necesito algunos datos tuyos. Por favor, ¿puedes proporcionarme la cédula que tienes?', additional_kwargs={}, response_metadata={'token_usage': {'completion_tokens': 41, 'prompt_tokens': 301, 'total_tokens': 342, 'completion_time': 0.128116556, 'prompt_time': 0.02318909, 'queue_time': 0.03260847, 'total_time': 0.151305646}, 'model_name': 'llama3-70b-8192', 'system_fingerprint': 'fp_c1a4bcec29', 'finish_reason': 'stop', 'logprobs': None}, id='run-6cb8e32d-7c3b-4d02-9345-546f0a253f04-0', usage_metadata={'input_tokens': 301, 'output_tokens': 41, 'total_tokens': 342}), HumanMessage(content='125748', additional_kwargs={}, response_metadata={}, id='95e76e40-7938-4bad-9b29-2b604ee8e8cc'), HumanMessage(content='Hola, doy Daniel', additional_kwargs={}, response_metadata={}, id='de209bd7-492a-48ad-b5c5-8ced1dc9b1cf'), AIMessage(content='¡Hola Daniel! Gracias por proporcionarme la cédula. Ahora, necesito tu dirección de correo electrónico para verificar tu identidad. ¿Puedes proporcionarme tu correo electrónico, por favor?', additional_kwargs={}, response_metadata={'token_usage': {'completion_tokens': 44, 'prompt_tokens': 613, 'total_tokens': 657, 'completion_time': 0.140292741, 'prompt_time': 0.037459907, 'queue_time': 0.10496976200000001, 'total_time': 0.177752648}, 'model_name': 'llama3-70b-8192', 'system_fingerprint': 'fp_c1a4bcec29', 'finish_reason': 'stop', 'logprobs': None}, id='run-908de5dc-9477-4833-a02e-90793dbfcc41-0', usage_metadata={'input_tokens': 613, 'output_tokens': 44, 'total_tokens': 657}), HumanMessage(content='juanfonsecagaravito@gmail.com', additional_kwargs={}, response_metadata={}, id='e715bc2b-6fe2-4ce2-80ee-8e70b5268217'), HumanMessage(content='donde queda finanzauto?', additional_kwargs={}, response_metadata={}, id='8b82f177-cdf5-475d-b224-92738a102453')], 'required_information': RequiredInformation(provided_id=125748, provided_email=None), 'telefono': '3152332041'}\n",
      "==================================\u001b[1m Ai Message \u001b[0m==================================\n",
      "\n",
      "Hola Daniel, gracias por proporcionarme la cédula. Ahora, necesito tu dirección de correo electrónico para verificar tu identidad. ¿Puedes proporcionarme tu correo electrónico, por favor?\n",
      "Verificando...\n"
     ]
    },
    {
     "name": "stderr",
     "output_type": "stream",
     "text": [
      "/tmp/ipykernel_499976/1338883911.py:92: UserWarning: pandas only supports SQLAlchemy connectable (engine/connection) or database string URI or sqlite3 DBAPI2 connection. Other DBAPI2 objects are not tested. Please consider using SQLAlchemy.\n",
      "  df_cl = pd.read_sql_query(query4, cnxn)\n"
     ]
    }
   ],
   "source": [
    "for event in graph.stream({\"messages\": ['donde queda finanzauto?'], \"telefono\":\"3152332041\"}, config, stream_mode=\"values\"):\n",
    "    event[\"messages\"][-1].pretty_print()"
   ]
  },
  {
   "cell_type": "code",
   "execution_count": 21,
   "metadata": {},
   "outputs": [],
   "source": [
    "def _print_event(event: dict, _printed: set, max_length=1500):\n",
    "    current_state = event.get(\"dialog_state\")\n",
    "    if current_state:\n",
    "        print(\"Currently in: \", current_state[-1])\n",
    "    message = event.get(\"messages\")\n",
    "    if message:\n",
    "        if isinstance(message, list):\n",
    "            message = message[-1]\n",
    "        if message.id not in _printed:\n",
    "            msg_repr = message.pretty_repr(html=True)\n",
    "            if len(msg_repr) > max_length:\n",
    "                msg_repr = msg_repr[:max_length] + \" ... (truncated)\"\n",
    "            print(msg_repr)\n",
    "            _printed.add(message.id)"
   ]
  },
  {
   "cell_type": "code",
   "execution_count": 22,
   "metadata": {},
   "outputs": [
    {
     "name": "stdout",
     "output_type": "stream",
     "text": [
      "================================\u001b[1m Human Message \u001b[0m=================================\n",
      "\n",
      "Hola mi nombre es Daniel\n",
      "En el logueador {'messages': [HumanMessage(content='Hola mi nombre es Daniel', additional_kwargs={}, response_metadata={}, id='6f3f15f8-1696-47af-a88d-e1205b940925')], 'telefono': '3152332041'}\n",
      "==================================\u001b[1m Ai Message \u001b[0m==================================\n",
      "\n",
      "Hola Daniel, gracias por contactarnos. Para verificar tu identidad, necesito recopilar algunos datos. Por favor, ¿puedes proporcionarme la cédula que tienes registrada con nosotros?\n",
      "================================\u001b[1m Human Message \u001b[0m=================================\n",
      "\n",
      "125748\n",
      "En el logueador {'user_question': 'Hola mi nombre es Daniel', 'messages': [HumanMessage(content='Hola mi nombre es Daniel', additional_kwargs={}, response_metadata={}, id='6f3f15f8-1696-47af-a88d-e1205b940925'), AIMessage(content='Hola Daniel, gracias por contactarnos. Para verificar tu identidad, necesito recopilar algunos datos. Por favor, ¿puedes proporcionarme la cédula que tienes registrada con nosotros?', additional_kwargs={}, response_metadata={'token_usage': {'completion_tokens': 44, 'prompt_tokens': 301, 'total_tokens': 345, 'completion_time': 0.138584575, 'prompt_time': 0.016716027, 'queue_time': 0.0044374529999999975, 'total_time': 0.155300602}, 'model_name': 'llama3-70b-8192', 'system_fingerprint': 'fp_c1a4bcec29', 'finish_reason': 'stop', 'logprobs': None}, id='run-06a6cc96-1368-4595-930b-c15a4092a990-0', usage_metadata={'input_tokens': 301, 'output_tokens': 44, 'total_tokens': 345}), HumanMessage(content='125748', additional_kwargs={}, response_metadata={}, id='98b5dbd0-b69b-4b17-b61f-83d122976ef7')], 'telefono': '3152332041'}\n",
      "==================================\u001b[1m Ai Message \u001b[0m==================================\n",
      "\n",
      "¡Hola Daniel! Gracias por proporcionarme la cédula. La cédula que me has proporcionado es 125748. ¿Puedes proporcionarme también el email que tienes registrado con nosotros?\n",
      "================================\u001b[1m Human Message \u001b[0m=================================\n",
      "\n",
      "juanfonsecagaravito@gmail.com\n",
      "En el logueador {'user_question': '125748', 'messages': [HumanMessage(content='Hola mi nombre es Daniel', additional_kwargs={}, response_metadata={}, id='6f3f15f8-1696-47af-a88d-e1205b940925'), AIMessage(content='Hola Daniel, gracias por contactarnos. Para verificar tu identidad, necesito recopilar algunos datos. Por favor, ¿puedes proporcionarme la cédula que tienes registrada con nosotros?', additional_kwargs={}, response_metadata={'token_usage': {'completion_tokens': 44, 'prompt_tokens': 301, 'total_tokens': 345, 'completion_time': 0.138584575, 'prompt_time': 0.016716027, 'queue_time': 0.0044374529999999975, 'total_time': 0.155300602}, 'model_name': 'llama3-70b-8192', 'system_fingerprint': 'fp_c1a4bcec29', 'finish_reason': 'stop', 'logprobs': None}, id='run-06a6cc96-1368-4595-930b-c15a4092a990-0', usage_metadata={'input_tokens': 301, 'output_tokens': 44, 'total_tokens': 345}), HumanMessage(content='125748', additional_kwargs={}, response_metadata={}, id='98b5dbd0-b69b-4b17-b61f-83d122976ef7'), AIMessage(content='¡Hola Daniel! Gracias por proporcionarme la cédula. La cédula que me has proporcionado es 125748. ¿Puedes proporcionarme también el email que tienes registrado con nosotros?', additional_kwargs={}, response_metadata={'token_usage': {'completion_tokens': 44, 'prompt_tokens': 565, 'total_tokens': 609, 'completion_time': 0.139379129, 'prompt_time': 0.0406439, 'queue_time': 0.0044765900000000025, 'total_time': 0.180023029}, 'model_name': 'llama3-70b-8192', 'system_fingerprint': 'fp_c1a4bcec29', 'finish_reason': 'stop', 'logprobs': None}, id='run-01fe6ffa-920f-4e3f-bd1b-1a40e9e46f60-0', usage_metadata={'input_tokens': 565, 'output_tokens': 44, 'total_tokens': 609}), HumanMessage(content='juanfonsecagaravito@gmail.com', additional_kwargs={}, response_metadata={}, id='9abccda3-0ae9-4280-a6a8-49560d4fa715')], 'telefono': '3152332041'}\n",
      "==================================\u001b[1m Ai Message \u001b[0m==================================\n",
      "\n",
      "¡Hola Daniel! Gracias por proporcionarme la cédula y el email. La cédula que me has proporcionado es 125748 y el email es juanfonsecagaravito@gmail.com. Gracias por brindarme esta información. Ahora voy a verificar tu identidad.\n",
      "================================\u001b[1m Human Message \u001b[0m=================================\n",
      "\n",
      "dame todas las sedes de finanzauto\n",
      "En el logueador {'user_question': 'juanfonsecagaravito@gmail.com', 'messages': [HumanMessage(content='Hola mi nombre es Daniel', additional_kwargs={}, response_metadata={}, id='6f3f15f8-1696-47af-a88d-e1205b940925'), AIMessage(content='Hola Daniel, gracias por contactarnos. Para verificar tu identidad, necesito recopilar algunos datos. Por favor, ¿puedes proporcionarme la cédula que tienes registrada con nosotros?', additional_kwargs={}, response_metadata={'token_usage': {'completion_tokens': 44, 'prompt_tokens': 301, 'total_tokens': 345, 'completion_time': 0.138584575, 'prompt_time': 0.016716027, 'queue_time': 0.0044374529999999975, 'total_time': 0.155300602}, 'model_name': 'llama3-70b-8192', 'system_fingerprint': 'fp_c1a4bcec29', 'finish_reason': 'stop', 'logprobs': None}, id='run-06a6cc96-1368-4595-930b-c15a4092a990-0', usage_metadata={'input_tokens': 301, 'output_tokens': 44, 'total_tokens': 345}), HumanMessage(content='125748', additional_kwargs={}, response_metadata={}, id='98b5dbd0-b69b-4b17-b61f-83d122976ef7'), AIMessage(content='¡Hola Daniel! Gracias por proporcionarme la cédula. La cédula que me has proporcionado es 125748. ¿Puedes proporcionarme también el email que tienes registrado con nosotros?', additional_kwargs={}, response_metadata={'token_usage': {'completion_tokens': 44, 'prompt_tokens': 565, 'total_tokens': 609, 'completion_time': 0.139379129, 'prompt_time': 0.0406439, 'queue_time': 0.0044765900000000025, 'total_time': 0.180023029}, 'model_name': 'llama3-70b-8192', 'system_fingerprint': 'fp_c1a4bcec29', 'finish_reason': 'stop', 'logprobs': None}, id='run-01fe6ffa-920f-4e3f-bd1b-1a40e9e46f60-0', usage_metadata={'input_tokens': 565, 'output_tokens': 44, 'total_tokens': 609}), HumanMessage(content='juanfonsecagaravito@gmail.com', additional_kwargs={}, response_metadata={}, id='9abccda3-0ae9-4280-a6a8-49560d4fa715'), AIMessage(content='¡Hola Daniel! Gracias por proporcionarme la cédula y el email. La cédula que me has proporcionado es 125748 y el email es juanfonsecagaravito@gmail.com. Gracias por brindarme esta información. Ahora voy a verificar tu identidad.', additional_kwargs={}, response_metadata={'token_usage': {'completion_tokens': 63, 'prompt_tokens': 832, 'total_tokens': 895, 'completion_time': 0.200194315, 'prompt_time': 0.073839023, 'queue_time': 0.135102117, 'total_time': 0.274033338}, 'model_name': 'llama3-70b-8192', 'system_fingerprint': 'fp_c1a4bcec29', 'finish_reason': 'stop', 'logprobs': None}, id='run-8a32c308-e078-4f59-896a-f646644562d9-0', usage_metadata={'input_tokens': 832, 'output_tokens': 63, 'total_tokens': 895}), HumanMessage(content='dame todas las sedes de finanzauto', additional_kwargs={}, response_metadata={}, id='6ee4ae7a-fe78-442d-b2da-7321e60bdf45')], 'telefono': '3152332041'}\n",
      "==================================\u001b[1m Ai Message \u001b[0m==================================\n",
      "\n",
      "¡Hola Daniel! Gracias por proporcionarme la cédula y el email. La cédula que me has proporcionado es 125748 y el email es juanfonsecagaravito@gmail.com. Gracias por brindarme esta información. Ahora voy a verificar tu identidad.\n",
      "\n",
      "Espera un momento mientras verifico la información...\n"
     ]
    }
   ],
   "source": [
    "# Let's create an example conversation a user might have with the assistant\n",
    "tutorial_questions = [\n",
    "    \"Hola mi nombre es Daniel\",\n",
    "    \"125748\",\n",
    "    \"juanfonsecagaravito@gmail.com\",\n",
    "    \"dame todas las sedes de finanzauto\"\n",
    "]\n",
    "\n",
    "# Update with the backup file so we can restart from the original place in each section\n",
    "thread_id = 2\n",
    "\n",
    "config = {\n",
    "    \"configurable\": {\n",
    "        \"thread_id\": thread_id,\n",
    "    }\n",
    "}\n",
    "\n",
    "\n",
    "_printed = set()\n",
    "for question in tutorial_questions:\n",
    "    events = graph.stream(\n",
    "        {\"messages\": question, \"telefono\":\"3152332041\"}, config, stream_mode=\"values\"\n",
    "    )\n",
    "    for event in events:\n",
    "        _print_event(event, _printed)"
   ]
  },
  {
   "cell_type": "code",
   "execution_count": null,
   "metadata": {},
   "outputs": [],
   "source": []
  }
 ],
 "metadata": {
  "kernelspec": {
   "display_name": "llms_env",
   "language": "python",
   "name": "python3"
  },
  "language_info": {
   "codemirror_mode": {
    "name": "ipython",
    "version": 3
   },
   "file_extension": ".py",
   "mimetype": "text/x-python",
   "name": "python",
   "nbconvert_exporter": "python",
   "pygments_lexer": "ipython3",
   "version": "3.12.3"
  }
 },
 "nbformat": 4,
 "nbformat_minor": 2
}
