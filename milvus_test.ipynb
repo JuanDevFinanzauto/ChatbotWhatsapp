{
 "cells": [
  {
   "cell_type": "code",
   "execution_count": 1,
   "metadata": {},
   "outputs": [
    {
     "name": "stderr",
     "output_type": "stream",
     "text": [
      "/home/fermikira/anaconda3/envs/llms_env/lib/python3.12/site-packages/InstructorEmbedding/instructor.py:7: TqdmExperimentalWarning: Using `tqdm.autonotebook.tqdm` in notebook mode. Use `tqdm.tqdm` instead to force console mode (e.g. in jupyter console)\n",
      "  from tqdm.autonotebook import trange\n",
      "/home/fermikira/anaconda3/envs/llms_env/lib/python3.12/site-packages/pydantic/_internal/_fields.py:132: UserWarning: Field \"model_name\" in HuggingFaceInferenceAPIEmbeddings has conflict with protected namespace \"model_\".\n",
      "\n",
      "You may be able to resolve this warning by setting `model_config['protected_namespaces'] = ()`.\n",
      "  warnings.warn(\n"
     ]
    }
   ],
   "source": [
    "import os\n",
    "from langchain.text_splitter import RecursiveCharacterTextSplitter\n",
    "from langchain_groq import ChatGroq\n",
    "from langchain.chains import RetrievalQA\n",
    "from langchain.document_loaders import TextLoader\n",
    "from langchain.document_loaders import PyPDFLoader\n",
    "from langchain.document_loaders import DirectoryLoader\n",
    "\n",
    "from InstructorEmbedding import INSTRUCTOR\n",
    "from langchain.embeddings import HuggingFaceInstructEmbeddings\n",
    "from langchain.embeddings import SentenceTransformerEmbeddings\n",
    "\n",
    "from milvus_model.hybrid import BGEM3EmbeddingFunction\n",
    "os.environ[\"GROQ_API_KEY\"] = \"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\""
   ]
  },
  {
   "cell_type": "code",
   "execution_count": 2,
   "metadata": {},
   "outputs": [
    {
     "name": "stdout",
     "output_type": "stream",
     "text": [
      "cafe muller e un caffe\n"
     ]
    }
   ],
   "source": [
    "import unicodedata\n",
    "\n",
    "def normalize_and_remove_accents(text):\n",
    "    # Normalize text to NFD (decomposed form)\n",
    "    normalized_text = unicodedata.normalize('NFD', text)\n",
    "    \n",
    "    # Remove accents (combining marks)\n",
    "    text_without_accents = ''.join(\n",
    "        char for char in normalized_text if unicodedata.category(char) != 'Mn'\n",
    "    )\n",
    "    \n",
    "    # Convert to lowercase\n",
    "    return text_without_accents.lower()\n",
    "\n",
    "# Example usage\n",
    "text = \"Café Müller è un caffè\"\n",
    "normalized_text = normalize_and_remove_accents(text)\n",
    "print(normalized_text)  "
   ]
  },
  {
   "cell_type": "code",
   "execution_count": 3,
   "metadata": {},
   "outputs": [],
   "source": [
    "# Load documents\n",
    "loader = DirectoryLoader('./GuionesNuevos', glob=\"*.txt\", loader_cls=TextLoader)\n",
    "documents = loader.load()"
   ]
  },
  {
   "cell_type": "code",
   "execution_count": 4,
   "metadata": {},
   "outputs": [],
   "source": [
    "from MilvusRetriever import MilvusRetriever\n",
    "r = MilvusRetriever(documents=documents,k=3)"
   ]
  },
  {
   "cell_type": "code",
   "execution_count": 5,
   "metadata": {},
   "outputs": [
    {
     "data": {
      "application/vnd.jupyter.widget-view+json": {
       "model_id": "4ef7719d67b941da9ae05c51a742c3b3",
       "version_major": 2,
       "version_minor": 0
      },
      "text/plain": [
       "Fetching 30 files:   0%|          | 0/30 [00:00<?, ?it/s]"
      ]
     },
     "metadata": {},
     "output_type": "display_data"
    },
    {
     "name": "stderr",
     "output_type": "stream",
     "text": [
      "/home/fermikira/anaconda3/envs/llms_env/lib/python3.12/site-packages/FlagEmbedding/BGE_M3/modeling.py:335: FutureWarning: You are using `torch.load` with `weights_only=False` (the current default value), which uses the default pickle module implicitly. It is possible to construct malicious pickle data which will execute arbitrary code during unpickling (See https://github.com/pytorch/pytorch/blob/main/SECURITY.md#untrusted-models for more details). In a future release, the default value for `weights_only` will be flipped to `True`. This limits the functions that could be executed during unpickling. Arbitrary objects will no longer be allowed to be loaded via this mode unless they are explicitly allowlisted by the user via `torch.serialization.add_safe_globals`. We recommend you start setting `weights_only=True` for any use case where you don't have full control of the loaded file. Please open an issue on GitHub for any issues related to this experimental feature.\n",
      "  colbert_state_dict = torch.load(os.path.join(model_dir, 'colbert_linear.pt'), map_location='cpu')\n",
      "/home/fermikira/anaconda3/envs/llms_env/lib/python3.12/site-packages/FlagEmbedding/BGE_M3/modeling.py:336: FutureWarning: You are using `torch.load` with `weights_only=False` (the current default value), which uses the default pickle module implicitly. It is possible to construct malicious pickle data which will execute arbitrary code during unpickling (See https://github.com/pytorch/pytorch/blob/main/SECURITY.md#untrusted-models for more details). In a future release, the default value for `weights_only` will be flipped to `True`. This limits the functions that could be executed during unpickling. Arbitrary objects will no longer be allowed to be loaded via this mode unless they are explicitly allowlisted by the user via `torch.serialization.add_safe_globals`. We recommend you start setting `weights_only=True` for any use case where you don't have full control of the loaded file. Please open an issue on GitHub for any issues related to this experimental feature.\n",
      "  sparse_state_dict = torch.load(os.path.join(model_dir, 'sparse_linear.pt'), map_location='cpu')\n"
     ]
    },
    {
     "ename": "KeyboardInterrupt",
     "evalue": "",
     "output_type": "error",
     "traceback": [
      "\u001b[0;31m---------------------------------------------------------------------------\u001b[0m",
      "\u001b[0;31mKeyboardInterrupt\u001b[0m                         Traceback (most recent call last)",
      "Cell \u001b[0;32mIn[5], line 1\u001b[0m\n\u001b[0;32m----> 1\u001b[0m \u001b[43mr\u001b[49m\u001b[38;5;241;43m.\u001b[39;49m\u001b[43minit\u001b[49m\u001b[43m(\u001b[49m\u001b[43m)\u001b[49m\n",
      "File \u001b[0;32m/mnt/c/Users/daniel.lopez/chatbots/Chatbot_cobranza_whatsapp/MilvusRetriever.py:45\u001b[0m, in \u001b[0;36mMilvusRetriever.init\u001b[0;34m(self)\u001b[0m\n\u001b[1;32m     43\u001b[0m \u001b[38;5;28;01melse\u001b[39;00m:\n\u001b[1;32m     44\u001b[0m     normalized_texts, texts \u001b[38;5;241m=\u001b[39m \u001b[38;5;28mself\u001b[39m\u001b[38;5;241m.\u001b[39mtransform_texts(\u001b[38;5;28mself\u001b[39m\u001b[38;5;241m.\u001b[39mdocuments)\n\u001b[0;32m---> 45\u001b[0m     ef, dense_dim, docs_embeddings \u001b[38;5;241m=\u001b[39m \u001b[38;5;28;43mself\u001b[39;49m\u001b[38;5;241;43m.\u001b[39;49m\u001b[43membed_texts\u001b[49m\u001b[43m(\u001b[49m\u001b[43mnormalized_texts\u001b[49m\u001b[43m)\u001b[49m\n\u001b[1;32m     46\u001b[0m     col \u001b[38;5;241m=\u001b[39m \u001b[38;5;28mself\u001b[39m\u001b[38;5;241m.\u001b[39mcreate_or_load_db(dense_dim)\n\u001b[1;32m     47\u001b[0m     \u001b[38;5;28mself\u001b[39m\u001b[38;5;241m.\u001b[39mfill_db(col, texts, normalized_texts, docs_embeddings)\n",
      "File \u001b[0;32m/mnt/c/Users/daniel.lopez/chatbots/Chatbot_cobranza_whatsapp/MilvusRetriever.py:77\u001b[0m, in \u001b[0;36mMilvusRetriever.embed_texts\u001b[0;34m(self, normalized_texts)\u001b[0m\n\u001b[1;32m     74\u001b[0m dense_dim \u001b[38;5;241m=\u001b[39m ef\u001b[38;5;241m.\u001b[39mdim[\u001b[38;5;124m\"\u001b[39m\u001b[38;5;124mdense\u001b[39m\u001b[38;5;124m\"\u001b[39m]\n\u001b[1;32m     76\u001b[0m \u001b[38;5;66;03m# Generate embeddings using BGE-M3 model\u001b[39;00m\n\u001b[0;32m---> 77\u001b[0m docs_embeddings \u001b[38;5;241m=\u001b[39m \u001b[43mef\u001b[49m\u001b[43m(\u001b[49m\u001b[43mnormalized_texts\u001b[49m\u001b[43m)\u001b[49m\n\u001b[1;32m     78\u001b[0m \u001b[38;5;28;01mreturn\u001b[39;00m ef, dense_dim ,docs_embeddings\n",
      "File \u001b[0;32m~/anaconda3/envs/llms_env/lib/python3.12/site-packages/milvus_model/hybrid/bge_m3.py:72\u001b[0m, in \u001b[0;36mBGEM3EmbeddingFunction.__call__\u001b[0;34m(self, texts)\u001b[0m\n\u001b[1;32m     71\u001b[0m \u001b[38;5;28;01mdef\u001b[39;00m \u001b[38;5;21m__call__\u001b[39m(\u001b[38;5;28mself\u001b[39m, texts: List[\u001b[38;5;28mstr\u001b[39m]) \u001b[38;5;241m-\u001b[39m\u001b[38;5;241m>\u001b[39m Dict:\n\u001b[0;32m---> 72\u001b[0m     \u001b[38;5;28;01mreturn\u001b[39;00m \u001b[38;5;28;43mself\u001b[39;49m\u001b[38;5;241;43m.\u001b[39;49m\u001b[43m_encode\u001b[49m\u001b[43m(\u001b[49m\u001b[43mtexts\u001b[49m\u001b[43m)\u001b[49m\n",
      "File \u001b[0;32m~/anaconda3/envs/llms_env/lib/python3.12/site-packages/milvus_model/hybrid/bge_m3.py:83\u001b[0m, in \u001b[0;36mBGEM3EmbeddingFunction._encode\u001b[0;34m(self, texts)\u001b[0m\n\u001b[1;32m     82\u001b[0m \u001b[38;5;28;01mdef\u001b[39;00m \u001b[38;5;21m_encode\u001b[39m(\u001b[38;5;28mself\u001b[39m, texts: List[\u001b[38;5;28mstr\u001b[39m]) \u001b[38;5;241m-\u001b[39m\u001b[38;5;241m>\u001b[39m Dict:\n\u001b[0;32m---> 83\u001b[0m     output \u001b[38;5;241m=\u001b[39m \u001b[38;5;28;43mself\u001b[39;49m\u001b[38;5;241;43m.\u001b[39;49m\u001b[43mmodel\u001b[49m\u001b[38;5;241;43m.\u001b[39;49m\u001b[43mencode\u001b[49m\u001b[43m(\u001b[49m\u001b[43msentences\u001b[49m\u001b[38;5;241;43m=\u001b[39;49m\u001b[43mtexts\u001b[49m\u001b[43m,\u001b[49m\u001b[43m \u001b[49m\u001b[38;5;241;43m*\u001b[39;49m\u001b[38;5;241;43m*\u001b[39;49m\u001b[38;5;28;43mself\u001b[39;49m\u001b[38;5;241;43m.\u001b[39;49m\u001b[43m_encode_config\u001b[49m\u001b[43m)\u001b[49m\n\u001b[1;32m     84\u001b[0m     results \u001b[38;5;241m=\u001b[39m {}\n\u001b[1;32m     85\u001b[0m     \u001b[38;5;28;01mif\u001b[39;00m \u001b[38;5;28mself\u001b[39m\u001b[38;5;241m.\u001b[39m_encode_config[\u001b[38;5;124m\"\u001b[39m\u001b[38;5;124mreturn_dense\u001b[39m\u001b[38;5;124m\"\u001b[39m] \u001b[38;5;129;01mis\u001b[39;00m \u001b[38;5;28;01mTrue\u001b[39;00m:\n",
      "File \u001b[0;32m~/anaconda3/envs/llms_env/lib/python3.12/site-packages/torch/utils/_contextlib.py:116\u001b[0m, in \u001b[0;36mcontext_decorator.<locals>.decorate_context\u001b[0;34m(*args, **kwargs)\u001b[0m\n\u001b[1;32m    113\u001b[0m \u001b[38;5;129m@functools\u001b[39m\u001b[38;5;241m.\u001b[39mwraps(func)\n\u001b[1;32m    114\u001b[0m \u001b[38;5;28;01mdef\u001b[39;00m \u001b[38;5;21mdecorate_context\u001b[39m(\u001b[38;5;241m*\u001b[39margs, \u001b[38;5;241m*\u001b[39m\u001b[38;5;241m*\u001b[39mkwargs):\n\u001b[1;32m    115\u001b[0m     \u001b[38;5;28;01mwith\u001b[39;00m ctx_factory():\n\u001b[0;32m--> 116\u001b[0m         \u001b[38;5;28;01mreturn\u001b[39;00m \u001b[43mfunc\u001b[49m\u001b[43m(\u001b[49m\u001b[38;5;241;43m*\u001b[39;49m\u001b[43margs\u001b[49m\u001b[43m,\u001b[49m\u001b[43m \u001b[49m\u001b[38;5;241;43m*\u001b[39;49m\u001b[38;5;241;43m*\u001b[39;49m\u001b[43mkwargs\u001b[49m\u001b[43m)\u001b[49m\n",
      "File \u001b[0;32m~/anaconda3/envs/llms_env/lib/python3.12/site-packages/FlagEmbedding/bge_m3.py:147\u001b[0m, in \u001b[0;36mBGEM3FlagModel.encode\u001b[0;34m(self, sentences, batch_size, max_length, return_dense, return_sparse, return_colbert_vecs)\u001b[0m\n\u001b[1;32m    139\u001b[0m sentences_batch \u001b[38;5;241m=\u001b[39m sentences[start_index:start_index \u001b[38;5;241m+\u001b[39m batch_size]\n\u001b[1;32m    140\u001b[0m batch_data \u001b[38;5;241m=\u001b[39m \u001b[38;5;28mself\u001b[39m\u001b[38;5;241m.\u001b[39mtokenizer(\n\u001b[1;32m    141\u001b[0m     sentences_batch,\n\u001b[1;32m    142\u001b[0m     padding\u001b[38;5;241m=\u001b[39m\u001b[38;5;28;01mTrue\u001b[39;00m,\n\u001b[0;32m   (...)\u001b[0m\n\u001b[1;32m    145\u001b[0m     max_length\u001b[38;5;241m=\u001b[39mmax_length,\n\u001b[1;32m    146\u001b[0m )\u001b[38;5;241m.\u001b[39mto(\u001b[38;5;28mself\u001b[39m\u001b[38;5;241m.\u001b[39mdevice)\n\u001b[0;32m--> 147\u001b[0m output \u001b[38;5;241m=\u001b[39m \u001b[38;5;28;43mself\u001b[39;49m\u001b[38;5;241;43m.\u001b[39;49m\u001b[43mmodel\u001b[49m\u001b[43m(\u001b[49m\u001b[43mbatch_data\u001b[49m\u001b[43m,\u001b[49m\n\u001b[1;32m    148\u001b[0m \u001b[43m                    \u001b[49m\u001b[43mreturn_dense\u001b[49m\u001b[38;5;241;43m=\u001b[39;49m\u001b[43mreturn_dense\u001b[49m\u001b[43m,\u001b[49m\n\u001b[1;32m    149\u001b[0m \u001b[43m                    \u001b[49m\u001b[43mreturn_sparse\u001b[49m\u001b[38;5;241;43m=\u001b[39;49m\u001b[43mreturn_sparse\u001b[49m\u001b[43m,\u001b[49m\n\u001b[1;32m    150\u001b[0m \u001b[43m                    \u001b[49m\u001b[43mreturn_colbert\u001b[49m\u001b[38;5;241;43m=\u001b[39;49m\u001b[43mreturn_colbert_vecs\u001b[49m\u001b[43m)\u001b[49m\n\u001b[1;32m    151\u001b[0m \u001b[38;5;28;01mif\u001b[39;00m return_dense:\n\u001b[1;32m    152\u001b[0m     all_dense_embeddings\u001b[38;5;241m.\u001b[39mappend(output[\u001b[38;5;124m'\u001b[39m\u001b[38;5;124mdense_vecs\u001b[39m\u001b[38;5;124m'\u001b[39m]\u001b[38;5;241m.\u001b[39mcpu()\u001b[38;5;241m.\u001b[39mnumpy())\n",
      "File \u001b[0;32m~/anaconda3/envs/llms_env/lib/python3.12/site-packages/torch/nn/modules/module.py:1553\u001b[0m, in \u001b[0;36mModule._wrapped_call_impl\u001b[0;34m(self, *args, **kwargs)\u001b[0m\n\u001b[1;32m   1551\u001b[0m     \u001b[38;5;28;01mreturn\u001b[39;00m \u001b[38;5;28mself\u001b[39m\u001b[38;5;241m.\u001b[39m_compiled_call_impl(\u001b[38;5;241m*\u001b[39margs, \u001b[38;5;241m*\u001b[39m\u001b[38;5;241m*\u001b[39mkwargs)  \u001b[38;5;66;03m# type: ignore[misc]\u001b[39;00m\n\u001b[1;32m   1552\u001b[0m \u001b[38;5;28;01melse\u001b[39;00m:\n\u001b[0;32m-> 1553\u001b[0m     \u001b[38;5;28;01mreturn\u001b[39;00m \u001b[38;5;28;43mself\u001b[39;49m\u001b[38;5;241;43m.\u001b[39;49m\u001b[43m_call_impl\u001b[49m\u001b[43m(\u001b[49m\u001b[38;5;241;43m*\u001b[39;49m\u001b[43margs\u001b[49m\u001b[43m,\u001b[49m\u001b[43m \u001b[49m\u001b[38;5;241;43m*\u001b[39;49m\u001b[38;5;241;43m*\u001b[39;49m\u001b[43mkwargs\u001b[49m\u001b[43m)\u001b[49m\n",
      "File \u001b[0;32m~/anaconda3/envs/llms_env/lib/python3.12/site-packages/torch/nn/modules/module.py:1562\u001b[0m, in \u001b[0;36mModule._call_impl\u001b[0;34m(self, *args, **kwargs)\u001b[0m\n\u001b[1;32m   1557\u001b[0m \u001b[38;5;66;03m# If we don't have any hooks, we want to skip the rest of the logic in\u001b[39;00m\n\u001b[1;32m   1558\u001b[0m \u001b[38;5;66;03m# this function, and just call forward.\u001b[39;00m\n\u001b[1;32m   1559\u001b[0m \u001b[38;5;28;01mif\u001b[39;00m \u001b[38;5;129;01mnot\u001b[39;00m (\u001b[38;5;28mself\u001b[39m\u001b[38;5;241m.\u001b[39m_backward_hooks \u001b[38;5;129;01mor\u001b[39;00m \u001b[38;5;28mself\u001b[39m\u001b[38;5;241m.\u001b[39m_backward_pre_hooks \u001b[38;5;129;01mor\u001b[39;00m \u001b[38;5;28mself\u001b[39m\u001b[38;5;241m.\u001b[39m_forward_hooks \u001b[38;5;129;01mor\u001b[39;00m \u001b[38;5;28mself\u001b[39m\u001b[38;5;241m.\u001b[39m_forward_pre_hooks\n\u001b[1;32m   1560\u001b[0m         \u001b[38;5;129;01mor\u001b[39;00m _global_backward_pre_hooks \u001b[38;5;129;01mor\u001b[39;00m _global_backward_hooks\n\u001b[1;32m   1561\u001b[0m         \u001b[38;5;129;01mor\u001b[39;00m _global_forward_hooks \u001b[38;5;129;01mor\u001b[39;00m _global_forward_pre_hooks):\n\u001b[0;32m-> 1562\u001b[0m     \u001b[38;5;28;01mreturn\u001b[39;00m \u001b[43mforward_call\u001b[49m\u001b[43m(\u001b[49m\u001b[38;5;241;43m*\u001b[39;49m\u001b[43margs\u001b[49m\u001b[43m,\u001b[49m\u001b[43m \u001b[49m\u001b[38;5;241;43m*\u001b[39;49m\u001b[38;5;241;43m*\u001b[39;49m\u001b[43mkwargs\u001b[49m\u001b[43m)\u001b[49m\n\u001b[1;32m   1564\u001b[0m \u001b[38;5;28;01mtry\u001b[39;00m:\n\u001b[1;32m   1565\u001b[0m     result \u001b[38;5;241m=\u001b[39m \u001b[38;5;28;01mNone\u001b[39;00m\n",
      "File \u001b[0;32m~/anaconda3/envs/llms_env/lib/python3.12/site-packages/FlagEmbedding/BGE_M3/modeling.py:351\u001b[0m, in \u001b[0;36mBGEM3ForInference.forward\u001b[0;34m(self, text_input, return_dense, return_sparse, return_colbert, return_sparse_embedding)\u001b[0m\n\u001b[1;32m    343\u001b[0m \u001b[38;5;28;01mdef\u001b[39;00m \u001b[38;5;21mforward\u001b[39m(\u001b[38;5;28mself\u001b[39m,\n\u001b[1;32m    344\u001b[0m             text_input: Dict[\u001b[38;5;28mstr\u001b[39m, Tensor] \u001b[38;5;241m=\u001b[39m \u001b[38;5;28;01mNone\u001b[39;00m,\n\u001b[1;32m    345\u001b[0m             return_dense: \u001b[38;5;28mbool\u001b[39m \u001b[38;5;241m=\u001b[39m \u001b[38;5;28;01mTrue\u001b[39;00m,\n\u001b[1;32m    346\u001b[0m             return_sparse: \u001b[38;5;28mbool\u001b[39m \u001b[38;5;241m=\u001b[39m \u001b[38;5;28;01mFalse\u001b[39;00m,\n\u001b[1;32m    347\u001b[0m             return_colbert: \u001b[38;5;28mbool\u001b[39m \u001b[38;5;241m=\u001b[39m \u001b[38;5;28;01mFalse\u001b[39;00m,\n\u001b[1;32m    348\u001b[0m             return_sparse_embedding: \u001b[38;5;28mbool\u001b[39m \u001b[38;5;241m=\u001b[39m \u001b[38;5;28;01mFalse\u001b[39;00m):\n\u001b[1;32m    349\u001b[0m     \u001b[38;5;28;01massert\u001b[39;00m return_dense \u001b[38;5;129;01mor\u001b[39;00m return_sparse \u001b[38;5;129;01mor\u001b[39;00m return_colbert, \u001b[38;5;124m'\u001b[39m\u001b[38;5;124mMust choose one or more from `return_colbert`, `return_sparse`, `return_dense` to set `True`!\u001b[39m\u001b[38;5;124m'\u001b[39m\n\u001b[0;32m--> 351\u001b[0m     last_hidden_state \u001b[38;5;241m=\u001b[39m \u001b[38;5;28;43mself\u001b[39;49m\u001b[38;5;241;43m.\u001b[39;49m\u001b[43mmodel\u001b[49m\u001b[43m(\u001b[49m\u001b[38;5;241;43m*\u001b[39;49m\u001b[38;5;241;43m*\u001b[39;49m\u001b[43mtext_input\u001b[49m\u001b[43m,\u001b[49m\u001b[43m \u001b[49m\u001b[43mreturn_dict\u001b[49m\u001b[38;5;241;43m=\u001b[39;49m\u001b[38;5;28;43;01mTrue\u001b[39;49;00m\u001b[43m)\u001b[49m\u001b[38;5;241m.\u001b[39mlast_hidden_state\n\u001b[1;32m    353\u001b[0m     output \u001b[38;5;241m=\u001b[39m {}\n\u001b[1;32m    354\u001b[0m     \u001b[38;5;28;01mif\u001b[39;00m return_dense:\n",
      "File \u001b[0;32m~/anaconda3/envs/llms_env/lib/python3.12/site-packages/torch/nn/modules/module.py:1553\u001b[0m, in \u001b[0;36mModule._wrapped_call_impl\u001b[0;34m(self, *args, **kwargs)\u001b[0m\n\u001b[1;32m   1551\u001b[0m     \u001b[38;5;28;01mreturn\u001b[39;00m \u001b[38;5;28mself\u001b[39m\u001b[38;5;241m.\u001b[39m_compiled_call_impl(\u001b[38;5;241m*\u001b[39margs, \u001b[38;5;241m*\u001b[39m\u001b[38;5;241m*\u001b[39mkwargs)  \u001b[38;5;66;03m# type: ignore[misc]\u001b[39;00m\n\u001b[1;32m   1552\u001b[0m \u001b[38;5;28;01melse\u001b[39;00m:\n\u001b[0;32m-> 1553\u001b[0m     \u001b[38;5;28;01mreturn\u001b[39;00m \u001b[38;5;28;43mself\u001b[39;49m\u001b[38;5;241;43m.\u001b[39;49m\u001b[43m_call_impl\u001b[49m\u001b[43m(\u001b[49m\u001b[38;5;241;43m*\u001b[39;49m\u001b[43margs\u001b[49m\u001b[43m,\u001b[49m\u001b[43m \u001b[49m\u001b[38;5;241;43m*\u001b[39;49m\u001b[38;5;241;43m*\u001b[39;49m\u001b[43mkwargs\u001b[49m\u001b[43m)\u001b[49m\n",
      "File \u001b[0;32m~/anaconda3/envs/llms_env/lib/python3.12/site-packages/torch/nn/modules/module.py:1562\u001b[0m, in \u001b[0;36mModule._call_impl\u001b[0;34m(self, *args, **kwargs)\u001b[0m\n\u001b[1;32m   1557\u001b[0m \u001b[38;5;66;03m# If we don't have any hooks, we want to skip the rest of the logic in\u001b[39;00m\n\u001b[1;32m   1558\u001b[0m \u001b[38;5;66;03m# this function, and just call forward.\u001b[39;00m\n\u001b[1;32m   1559\u001b[0m \u001b[38;5;28;01mif\u001b[39;00m \u001b[38;5;129;01mnot\u001b[39;00m (\u001b[38;5;28mself\u001b[39m\u001b[38;5;241m.\u001b[39m_backward_hooks \u001b[38;5;129;01mor\u001b[39;00m \u001b[38;5;28mself\u001b[39m\u001b[38;5;241m.\u001b[39m_backward_pre_hooks \u001b[38;5;129;01mor\u001b[39;00m \u001b[38;5;28mself\u001b[39m\u001b[38;5;241m.\u001b[39m_forward_hooks \u001b[38;5;129;01mor\u001b[39;00m \u001b[38;5;28mself\u001b[39m\u001b[38;5;241m.\u001b[39m_forward_pre_hooks\n\u001b[1;32m   1560\u001b[0m         \u001b[38;5;129;01mor\u001b[39;00m _global_backward_pre_hooks \u001b[38;5;129;01mor\u001b[39;00m _global_backward_hooks\n\u001b[1;32m   1561\u001b[0m         \u001b[38;5;129;01mor\u001b[39;00m _global_forward_hooks \u001b[38;5;129;01mor\u001b[39;00m _global_forward_pre_hooks):\n\u001b[0;32m-> 1562\u001b[0m     \u001b[38;5;28;01mreturn\u001b[39;00m \u001b[43mforward_call\u001b[49m\u001b[43m(\u001b[49m\u001b[38;5;241;43m*\u001b[39;49m\u001b[43margs\u001b[49m\u001b[43m,\u001b[49m\u001b[43m \u001b[49m\u001b[38;5;241;43m*\u001b[39;49m\u001b[38;5;241;43m*\u001b[39;49m\u001b[43mkwargs\u001b[49m\u001b[43m)\u001b[49m\n\u001b[1;32m   1564\u001b[0m \u001b[38;5;28;01mtry\u001b[39;00m:\n\u001b[1;32m   1565\u001b[0m     result \u001b[38;5;241m=\u001b[39m \u001b[38;5;28;01mNone\u001b[39;00m\n",
      "File \u001b[0;32m~/anaconda3/envs/llms_env/lib/python3.12/site-packages/transformers/models/xlm_roberta/modeling_xlm_roberta.py:834\u001b[0m, in \u001b[0;36mXLMRobertaModel.forward\u001b[0;34m(self, input_ids, attention_mask, token_type_ids, position_ids, head_mask, inputs_embeds, encoder_hidden_states, encoder_attention_mask, past_key_values, use_cache, output_attentions, output_hidden_states, return_dict)\u001b[0m\n\u001b[1;32m    825\u001b[0m head_mask \u001b[38;5;241m=\u001b[39m \u001b[38;5;28mself\u001b[39m\u001b[38;5;241m.\u001b[39mget_head_mask(head_mask, \u001b[38;5;28mself\u001b[39m\u001b[38;5;241m.\u001b[39mconfig\u001b[38;5;241m.\u001b[39mnum_hidden_layers)\n\u001b[1;32m    827\u001b[0m embedding_output \u001b[38;5;241m=\u001b[39m \u001b[38;5;28mself\u001b[39m\u001b[38;5;241m.\u001b[39membeddings(\n\u001b[1;32m    828\u001b[0m     input_ids\u001b[38;5;241m=\u001b[39minput_ids,\n\u001b[1;32m    829\u001b[0m     position_ids\u001b[38;5;241m=\u001b[39mposition_ids,\n\u001b[0;32m   (...)\u001b[0m\n\u001b[1;32m    832\u001b[0m     past_key_values_length\u001b[38;5;241m=\u001b[39mpast_key_values_length,\n\u001b[1;32m    833\u001b[0m )\n\u001b[0;32m--> 834\u001b[0m encoder_outputs \u001b[38;5;241m=\u001b[39m \u001b[38;5;28;43mself\u001b[39;49m\u001b[38;5;241;43m.\u001b[39;49m\u001b[43mencoder\u001b[49m\u001b[43m(\u001b[49m\n\u001b[1;32m    835\u001b[0m \u001b[43m    \u001b[49m\u001b[43membedding_output\u001b[49m\u001b[43m,\u001b[49m\n\u001b[1;32m    836\u001b[0m \u001b[43m    \u001b[49m\u001b[43mattention_mask\u001b[49m\u001b[38;5;241;43m=\u001b[39;49m\u001b[43mextended_attention_mask\u001b[49m\u001b[43m,\u001b[49m\n\u001b[1;32m    837\u001b[0m \u001b[43m    \u001b[49m\u001b[43mhead_mask\u001b[49m\u001b[38;5;241;43m=\u001b[39;49m\u001b[43mhead_mask\u001b[49m\u001b[43m,\u001b[49m\n\u001b[1;32m    838\u001b[0m \u001b[43m    \u001b[49m\u001b[43mencoder_hidden_states\u001b[49m\u001b[38;5;241;43m=\u001b[39;49m\u001b[43mencoder_hidden_states\u001b[49m\u001b[43m,\u001b[49m\n\u001b[1;32m    839\u001b[0m \u001b[43m    \u001b[49m\u001b[43mencoder_attention_mask\u001b[49m\u001b[38;5;241;43m=\u001b[39;49m\u001b[43mencoder_extended_attention_mask\u001b[49m\u001b[43m,\u001b[49m\n\u001b[1;32m    840\u001b[0m \u001b[43m    \u001b[49m\u001b[43mpast_key_values\u001b[49m\u001b[38;5;241;43m=\u001b[39;49m\u001b[43mpast_key_values\u001b[49m\u001b[43m,\u001b[49m\n\u001b[1;32m    841\u001b[0m \u001b[43m    \u001b[49m\u001b[43muse_cache\u001b[49m\u001b[38;5;241;43m=\u001b[39;49m\u001b[43muse_cache\u001b[49m\u001b[43m,\u001b[49m\n\u001b[1;32m    842\u001b[0m \u001b[43m    \u001b[49m\u001b[43moutput_attentions\u001b[49m\u001b[38;5;241;43m=\u001b[39;49m\u001b[43moutput_attentions\u001b[49m\u001b[43m,\u001b[49m\n\u001b[1;32m    843\u001b[0m \u001b[43m    \u001b[49m\u001b[43moutput_hidden_states\u001b[49m\u001b[38;5;241;43m=\u001b[39;49m\u001b[43moutput_hidden_states\u001b[49m\u001b[43m,\u001b[49m\n\u001b[1;32m    844\u001b[0m \u001b[43m    \u001b[49m\u001b[43mreturn_dict\u001b[49m\u001b[38;5;241;43m=\u001b[39;49m\u001b[43mreturn_dict\u001b[49m\u001b[43m,\u001b[49m\n\u001b[1;32m    845\u001b[0m \u001b[43m\u001b[49m\u001b[43m)\u001b[49m\n\u001b[1;32m    846\u001b[0m sequence_output \u001b[38;5;241m=\u001b[39m encoder_outputs[\u001b[38;5;241m0\u001b[39m]\n\u001b[1;32m    847\u001b[0m pooled_output \u001b[38;5;241m=\u001b[39m \u001b[38;5;28mself\u001b[39m\u001b[38;5;241m.\u001b[39mpooler(sequence_output) \u001b[38;5;28;01mif\u001b[39;00m \u001b[38;5;28mself\u001b[39m\u001b[38;5;241m.\u001b[39mpooler \u001b[38;5;129;01mis\u001b[39;00m \u001b[38;5;129;01mnot\u001b[39;00m \u001b[38;5;28;01mNone\u001b[39;00m \u001b[38;5;28;01melse\u001b[39;00m \u001b[38;5;28;01mNone\u001b[39;00m\n",
      "File \u001b[0;32m~/anaconda3/envs/llms_env/lib/python3.12/site-packages/torch/nn/modules/module.py:1553\u001b[0m, in \u001b[0;36mModule._wrapped_call_impl\u001b[0;34m(self, *args, **kwargs)\u001b[0m\n\u001b[1;32m   1551\u001b[0m     \u001b[38;5;28;01mreturn\u001b[39;00m \u001b[38;5;28mself\u001b[39m\u001b[38;5;241m.\u001b[39m_compiled_call_impl(\u001b[38;5;241m*\u001b[39margs, \u001b[38;5;241m*\u001b[39m\u001b[38;5;241m*\u001b[39mkwargs)  \u001b[38;5;66;03m# type: ignore[misc]\u001b[39;00m\n\u001b[1;32m   1552\u001b[0m \u001b[38;5;28;01melse\u001b[39;00m:\n\u001b[0;32m-> 1553\u001b[0m     \u001b[38;5;28;01mreturn\u001b[39;00m \u001b[38;5;28;43mself\u001b[39;49m\u001b[38;5;241;43m.\u001b[39;49m\u001b[43m_call_impl\u001b[49m\u001b[43m(\u001b[49m\u001b[38;5;241;43m*\u001b[39;49m\u001b[43margs\u001b[49m\u001b[43m,\u001b[49m\u001b[43m \u001b[49m\u001b[38;5;241;43m*\u001b[39;49m\u001b[38;5;241;43m*\u001b[39;49m\u001b[43mkwargs\u001b[49m\u001b[43m)\u001b[49m\n",
      "File \u001b[0;32m~/anaconda3/envs/llms_env/lib/python3.12/site-packages/torch/nn/modules/module.py:1562\u001b[0m, in \u001b[0;36mModule._call_impl\u001b[0;34m(self, *args, **kwargs)\u001b[0m\n\u001b[1;32m   1557\u001b[0m \u001b[38;5;66;03m# If we don't have any hooks, we want to skip the rest of the logic in\u001b[39;00m\n\u001b[1;32m   1558\u001b[0m \u001b[38;5;66;03m# this function, and just call forward.\u001b[39;00m\n\u001b[1;32m   1559\u001b[0m \u001b[38;5;28;01mif\u001b[39;00m \u001b[38;5;129;01mnot\u001b[39;00m (\u001b[38;5;28mself\u001b[39m\u001b[38;5;241m.\u001b[39m_backward_hooks \u001b[38;5;129;01mor\u001b[39;00m \u001b[38;5;28mself\u001b[39m\u001b[38;5;241m.\u001b[39m_backward_pre_hooks \u001b[38;5;129;01mor\u001b[39;00m \u001b[38;5;28mself\u001b[39m\u001b[38;5;241m.\u001b[39m_forward_hooks \u001b[38;5;129;01mor\u001b[39;00m \u001b[38;5;28mself\u001b[39m\u001b[38;5;241m.\u001b[39m_forward_pre_hooks\n\u001b[1;32m   1560\u001b[0m         \u001b[38;5;129;01mor\u001b[39;00m _global_backward_pre_hooks \u001b[38;5;129;01mor\u001b[39;00m _global_backward_hooks\n\u001b[1;32m   1561\u001b[0m         \u001b[38;5;129;01mor\u001b[39;00m _global_forward_hooks \u001b[38;5;129;01mor\u001b[39;00m _global_forward_pre_hooks):\n\u001b[0;32m-> 1562\u001b[0m     \u001b[38;5;28;01mreturn\u001b[39;00m \u001b[43mforward_call\u001b[49m\u001b[43m(\u001b[49m\u001b[38;5;241;43m*\u001b[39;49m\u001b[43margs\u001b[49m\u001b[43m,\u001b[49m\u001b[43m \u001b[49m\u001b[38;5;241;43m*\u001b[39;49m\u001b[38;5;241;43m*\u001b[39;49m\u001b[43mkwargs\u001b[49m\u001b[43m)\u001b[49m\n\u001b[1;32m   1564\u001b[0m \u001b[38;5;28;01mtry\u001b[39;00m:\n\u001b[1;32m   1565\u001b[0m     result \u001b[38;5;241m=\u001b[39m \u001b[38;5;28;01mNone\u001b[39;00m\n",
      "File \u001b[0;32m~/anaconda3/envs/llms_env/lib/python3.12/site-packages/transformers/models/xlm_roberta/modeling_xlm_roberta.py:522\u001b[0m, in \u001b[0;36mXLMRobertaEncoder.forward\u001b[0;34m(self, hidden_states, attention_mask, head_mask, encoder_hidden_states, encoder_attention_mask, past_key_values, use_cache, output_attentions, output_hidden_states, return_dict)\u001b[0m\n\u001b[1;32m    511\u001b[0m     layer_outputs \u001b[38;5;241m=\u001b[39m \u001b[38;5;28mself\u001b[39m\u001b[38;5;241m.\u001b[39m_gradient_checkpointing_func(\n\u001b[1;32m    512\u001b[0m         layer_module\u001b[38;5;241m.\u001b[39m\u001b[38;5;21m__call__\u001b[39m,\n\u001b[1;32m    513\u001b[0m         hidden_states,\n\u001b[0;32m   (...)\u001b[0m\n\u001b[1;32m    519\u001b[0m         output_attentions,\n\u001b[1;32m    520\u001b[0m     )\n\u001b[1;32m    521\u001b[0m \u001b[38;5;28;01melse\u001b[39;00m:\n\u001b[0;32m--> 522\u001b[0m     layer_outputs \u001b[38;5;241m=\u001b[39m \u001b[43mlayer_module\u001b[49m\u001b[43m(\u001b[49m\n\u001b[1;32m    523\u001b[0m \u001b[43m        \u001b[49m\u001b[43mhidden_states\u001b[49m\u001b[43m,\u001b[49m\n\u001b[1;32m    524\u001b[0m \u001b[43m        \u001b[49m\u001b[43mattention_mask\u001b[49m\u001b[43m,\u001b[49m\n\u001b[1;32m    525\u001b[0m \u001b[43m        \u001b[49m\u001b[43mlayer_head_mask\u001b[49m\u001b[43m,\u001b[49m\n\u001b[1;32m    526\u001b[0m \u001b[43m        \u001b[49m\u001b[43mencoder_hidden_states\u001b[49m\u001b[43m,\u001b[49m\n\u001b[1;32m    527\u001b[0m \u001b[43m        \u001b[49m\u001b[43mencoder_attention_mask\u001b[49m\u001b[43m,\u001b[49m\n\u001b[1;32m    528\u001b[0m \u001b[43m        \u001b[49m\u001b[43mpast_key_value\u001b[49m\u001b[43m,\u001b[49m\n\u001b[1;32m    529\u001b[0m \u001b[43m        \u001b[49m\u001b[43moutput_attentions\u001b[49m\u001b[43m,\u001b[49m\n\u001b[1;32m    530\u001b[0m \u001b[43m    \u001b[49m\u001b[43m)\u001b[49m\n\u001b[1;32m    532\u001b[0m hidden_states \u001b[38;5;241m=\u001b[39m layer_outputs[\u001b[38;5;241m0\u001b[39m]\n\u001b[1;32m    533\u001b[0m \u001b[38;5;28;01mif\u001b[39;00m use_cache:\n",
      "File \u001b[0;32m~/anaconda3/envs/llms_env/lib/python3.12/site-packages/torch/nn/modules/module.py:1553\u001b[0m, in \u001b[0;36mModule._wrapped_call_impl\u001b[0;34m(self, *args, **kwargs)\u001b[0m\n\u001b[1;32m   1551\u001b[0m     \u001b[38;5;28;01mreturn\u001b[39;00m \u001b[38;5;28mself\u001b[39m\u001b[38;5;241m.\u001b[39m_compiled_call_impl(\u001b[38;5;241m*\u001b[39margs, \u001b[38;5;241m*\u001b[39m\u001b[38;5;241m*\u001b[39mkwargs)  \u001b[38;5;66;03m# type: ignore[misc]\u001b[39;00m\n\u001b[1;32m   1552\u001b[0m \u001b[38;5;28;01melse\u001b[39;00m:\n\u001b[0;32m-> 1553\u001b[0m     \u001b[38;5;28;01mreturn\u001b[39;00m \u001b[38;5;28;43mself\u001b[39;49m\u001b[38;5;241;43m.\u001b[39;49m\u001b[43m_call_impl\u001b[49m\u001b[43m(\u001b[49m\u001b[38;5;241;43m*\u001b[39;49m\u001b[43margs\u001b[49m\u001b[43m,\u001b[49m\u001b[43m \u001b[49m\u001b[38;5;241;43m*\u001b[39;49m\u001b[38;5;241;43m*\u001b[39;49m\u001b[43mkwargs\u001b[49m\u001b[43m)\u001b[49m\n",
      "File \u001b[0;32m~/anaconda3/envs/llms_env/lib/python3.12/site-packages/torch/nn/modules/module.py:1562\u001b[0m, in \u001b[0;36mModule._call_impl\u001b[0;34m(self, *args, **kwargs)\u001b[0m\n\u001b[1;32m   1557\u001b[0m \u001b[38;5;66;03m# If we don't have any hooks, we want to skip the rest of the logic in\u001b[39;00m\n\u001b[1;32m   1558\u001b[0m \u001b[38;5;66;03m# this function, and just call forward.\u001b[39;00m\n\u001b[1;32m   1559\u001b[0m \u001b[38;5;28;01mif\u001b[39;00m \u001b[38;5;129;01mnot\u001b[39;00m (\u001b[38;5;28mself\u001b[39m\u001b[38;5;241m.\u001b[39m_backward_hooks \u001b[38;5;129;01mor\u001b[39;00m \u001b[38;5;28mself\u001b[39m\u001b[38;5;241m.\u001b[39m_backward_pre_hooks \u001b[38;5;129;01mor\u001b[39;00m \u001b[38;5;28mself\u001b[39m\u001b[38;5;241m.\u001b[39m_forward_hooks \u001b[38;5;129;01mor\u001b[39;00m \u001b[38;5;28mself\u001b[39m\u001b[38;5;241m.\u001b[39m_forward_pre_hooks\n\u001b[1;32m   1560\u001b[0m         \u001b[38;5;129;01mor\u001b[39;00m _global_backward_pre_hooks \u001b[38;5;129;01mor\u001b[39;00m _global_backward_hooks\n\u001b[1;32m   1561\u001b[0m         \u001b[38;5;129;01mor\u001b[39;00m _global_forward_hooks \u001b[38;5;129;01mor\u001b[39;00m _global_forward_pre_hooks):\n\u001b[0;32m-> 1562\u001b[0m     \u001b[38;5;28;01mreturn\u001b[39;00m \u001b[43mforward_call\u001b[49m\u001b[43m(\u001b[49m\u001b[38;5;241;43m*\u001b[39;49m\u001b[43margs\u001b[49m\u001b[43m,\u001b[49m\u001b[43m \u001b[49m\u001b[38;5;241;43m*\u001b[39;49m\u001b[38;5;241;43m*\u001b[39;49m\u001b[43mkwargs\u001b[49m\u001b[43m)\u001b[49m\n\u001b[1;32m   1564\u001b[0m \u001b[38;5;28;01mtry\u001b[39;00m:\n\u001b[1;32m   1565\u001b[0m     result \u001b[38;5;241m=\u001b[39m \u001b[38;5;28;01mNone\u001b[39;00m\n",
      "File \u001b[0;32m~/anaconda3/envs/llms_env/lib/python3.12/site-packages/transformers/models/xlm_roberta/modeling_xlm_roberta.py:453\u001b[0m, in \u001b[0;36mXLMRobertaLayer.forward\u001b[0;34m(self, hidden_states, attention_mask, head_mask, encoder_hidden_states, encoder_attention_mask, past_key_value, output_attentions)\u001b[0m\n\u001b[1;32m    450\u001b[0m     cross_attn_present_key_value \u001b[38;5;241m=\u001b[39m cross_attention_outputs[\u001b[38;5;241m-\u001b[39m\u001b[38;5;241m1\u001b[39m]\n\u001b[1;32m    451\u001b[0m     present_key_value \u001b[38;5;241m=\u001b[39m present_key_value \u001b[38;5;241m+\u001b[39m cross_attn_present_key_value\n\u001b[0;32m--> 453\u001b[0m layer_output \u001b[38;5;241m=\u001b[39m \u001b[43mapply_chunking_to_forward\u001b[49m\u001b[43m(\u001b[49m\n\u001b[1;32m    454\u001b[0m \u001b[43m    \u001b[49m\u001b[38;5;28;43mself\u001b[39;49m\u001b[38;5;241;43m.\u001b[39;49m\u001b[43mfeed_forward_chunk\u001b[49m\u001b[43m,\u001b[49m\u001b[43m \u001b[49m\u001b[38;5;28;43mself\u001b[39;49m\u001b[38;5;241;43m.\u001b[39;49m\u001b[43mchunk_size_feed_forward\u001b[49m\u001b[43m,\u001b[49m\u001b[43m \u001b[49m\u001b[38;5;28;43mself\u001b[39;49m\u001b[38;5;241;43m.\u001b[39;49m\u001b[43mseq_len_dim\u001b[49m\u001b[43m,\u001b[49m\u001b[43m \u001b[49m\u001b[43mattention_output\u001b[49m\n\u001b[1;32m    455\u001b[0m \u001b[43m\u001b[49m\u001b[43m)\u001b[49m\n\u001b[1;32m    456\u001b[0m outputs \u001b[38;5;241m=\u001b[39m (layer_output,) \u001b[38;5;241m+\u001b[39m outputs\n\u001b[1;32m    458\u001b[0m \u001b[38;5;66;03m# if decoder, return the attn key/values as the last output\u001b[39;00m\n",
      "File \u001b[0;32m~/anaconda3/envs/llms_env/lib/python3.12/site-packages/transformers/pytorch_utils.py:239\u001b[0m, in \u001b[0;36mapply_chunking_to_forward\u001b[0;34m(forward_fn, chunk_size, chunk_dim, *input_tensors)\u001b[0m\n\u001b[1;32m    236\u001b[0m     \u001b[38;5;66;03m# concatenate output at same dimension\u001b[39;00m\n\u001b[1;32m    237\u001b[0m     \u001b[38;5;28;01mreturn\u001b[39;00m torch\u001b[38;5;241m.\u001b[39mcat(output_chunks, dim\u001b[38;5;241m=\u001b[39mchunk_dim)\n\u001b[0;32m--> 239\u001b[0m \u001b[38;5;28;01mreturn\u001b[39;00m \u001b[43mforward_fn\u001b[49m\u001b[43m(\u001b[49m\u001b[38;5;241;43m*\u001b[39;49m\u001b[43minput_tensors\u001b[49m\u001b[43m)\u001b[49m\n",
      "File \u001b[0;32m~/anaconda3/envs/llms_env/lib/python3.12/site-packages/transformers/models/xlm_roberta/modeling_xlm_roberta.py:465\u001b[0m, in \u001b[0;36mXLMRobertaLayer.feed_forward_chunk\u001b[0;34m(self, attention_output)\u001b[0m\n\u001b[1;32m    464\u001b[0m \u001b[38;5;28;01mdef\u001b[39;00m \u001b[38;5;21mfeed_forward_chunk\u001b[39m(\u001b[38;5;28mself\u001b[39m, attention_output):\n\u001b[0;32m--> 465\u001b[0m     intermediate_output \u001b[38;5;241m=\u001b[39m \u001b[38;5;28;43mself\u001b[39;49m\u001b[38;5;241;43m.\u001b[39;49m\u001b[43mintermediate\u001b[49m\u001b[43m(\u001b[49m\u001b[43mattention_output\u001b[49m\u001b[43m)\u001b[49m\n\u001b[1;32m    466\u001b[0m     layer_output \u001b[38;5;241m=\u001b[39m \u001b[38;5;28mself\u001b[39m\u001b[38;5;241m.\u001b[39moutput(intermediate_output, attention_output)\n\u001b[1;32m    467\u001b[0m     \u001b[38;5;28;01mreturn\u001b[39;00m layer_output\n",
      "File \u001b[0;32m~/anaconda3/envs/llms_env/lib/python3.12/site-packages/torch/nn/modules/module.py:1553\u001b[0m, in \u001b[0;36mModule._wrapped_call_impl\u001b[0;34m(self, *args, **kwargs)\u001b[0m\n\u001b[1;32m   1551\u001b[0m     \u001b[38;5;28;01mreturn\u001b[39;00m \u001b[38;5;28mself\u001b[39m\u001b[38;5;241m.\u001b[39m_compiled_call_impl(\u001b[38;5;241m*\u001b[39margs, \u001b[38;5;241m*\u001b[39m\u001b[38;5;241m*\u001b[39mkwargs)  \u001b[38;5;66;03m# type: ignore[misc]\u001b[39;00m\n\u001b[1;32m   1552\u001b[0m \u001b[38;5;28;01melse\u001b[39;00m:\n\u001b[0;32m-> 1553\u001b[0m     \u001b[38;5;28;01mreturn\u001b[39;00m \u001b[38;5;28;43mself\u001b[39;49m\u001b[38;5;241;43m.\u001b[39;49m\u001b[43m_call_impl\u001b[49m\u001b[43m(\u001b[49m\u001b[38;5;241;43m*\u001b[39;49m\u001b[43margs\u001b[49m\u001b[43m,\u001b[49m\u001b[43m \u001b[49m\u001b[38;5;241;43m*\u001b[39;49m\u001b[38;5;241;43m*\u001b[39;49m\u001b[43mkwargs\u001b[49m\u001b[43m)\u001b[49m\n",
      "File \u001b[0;32m~/anaconda3/envs/llms_env/lib/python3.12/site-packages/torch/nn/modules/module.py:1562\u001b[0m, in \u001b[0;36mModule._call_impl\u001b[0;34m(self, *args, **kwargs)\u001b[0m\n\u001b[1;32m   1557\u001b[0m \u001b[38;5;66;03m# If we don't have any hooks, we want to skip the rest of the logic in\u001b[39;00m\n\u001b[1;32m   1558\u001b[0m \u001b[38;5;66;03m# this function, and just call forward.\u001b[39;00m\n\u001b[1;32m   1559\u001b[0m \u001b[38;5;28;01mif\u001b[39;00m \u001b[38;5;129;01mnot\u001b[39;00m (\u001b[38;5;28mself\u001b[39m\u001b[38;5;241m.\u001b[39m_backward_hooks \u001b[38;5;129;01mor\u001b[39;00m \u001b[38;5;28mself\u001b[39m\u001b[38;5;241m.\u001b[39m_backward_pre_hooks \u001b[38;5;129;01mor\u001b[39;00m \u001b[38;5;28mself\u001b[39m\u001b[38;5;241m.\u001b[39m_forward_hooks \u001b[38;5;129;01mor\u001b[39;00m \u001b[38;5;28mself\u001b[39m\u001b[38;5;241m.\u001b[39m_forward_pre_hooks\n\u001b[1;32m   1560\u001b[0m         \u001b[38;5;129;01mor\u001b[39;00m _global_backward_pre_hooks \u001b[38;5;129;01mor\u001b[39;00m _global_backward_hooks\n\u001b[1;32m   1561\u001b[0m         \u001b[38;5;129;01mor\u001b[39;00m _global_forward_hooks \u001b[38;5;129;01mor\u001b[39;00m _global_forward_pre_hooks):\n\u001b[0;32m-> 1562\u001b[0m     \u001b[38;5;28;01mreturn\u001b[39;00m \u001b[43mforward_call\u001b[49m\u001b[43m(\u001b[49m\u001b[38;5;241;43m*\u001b[39;49m\u001b[43margs\u001b[49m\u001b[43m,\u001b[49m\u001b[43m \u001b[49m\u001b[38;5;241;43m*\u001b[39;49m\u001b[38;5;241;43m*\u001b[39;49m\u001b[43mkwargs\u001b[49m\u001b[43m)\u001b[49m\n\u001b[1;32m   1564\u001b[0m \u001b[38;5;28;01mtry\u001b[39;00m:\n\u001b[1;32m   1565\u001b[0m     result \u001b[38;5;241m=\u001b[39m \u001b[38;5;28;01mNone\u001b[39;00m\n",
      "File \u001b[0;32m~/anaconda3/envs/llms_env/lib/python3.12/site-packages/transformers/models/xlm_roberta/modeling_xlm_roberta.py:364\u001b[0m, in \u001b[0;36mXLMRobertaIntermediate.forward\u001b[0;34m(self, hidden_states)\u001b[0m\n\u001b[1;32m    362\u001b[0m \u001b[38;5;28;01mdef\u001b[39;00m \u001b[38;5;21mforward\u001b[39m(\u001b[38;5;28mself\u001b[39m, hidden_states: torch\u001b[38;5;241m.\u001b[39mTensor) \u001b[38;5;241m-\u001b[39m\u001b[38;5;241m>\u001b[39m torch\u001b[38;5;241m.\u001b[39mTensor:\n\u001b[1;32m    363\u001b[0m     hidden_states \u001b[38;5;241m=\u001b[39m \u001b[38;5;28mself\u001b[39m\u001b[38;5;241m.\u001b[39mdense(hidden_states)\n\u001b[0;32m--> 364\u001b[0m     hidden_states \u001b[38;5;241m=\u001b[39m \u001b[38;5;28;43mself\u001b[39;49m\u001b[38;5;241;43m.\u001b[39;49m\u001b[43mintermediate_act_fn\u001b[49m\u001b[43m(\u001b[49m\u001b[43mhidden_states\u001b[49m\u001b[43m)\u001b[49m\n\u001b[1;32m    365\u001b[0m     \u001b[38;5;28;01mreturn\u001b[39;00m hidden_states\n",
      "File \u001b[0;32m~/anaconda3/envs/llms_env/lib/python3.12/site-packages/torch/nn/modules/module.py:1553\u001b[0m, in \u001b[0;36mModule._wrapped_call_impl\u001b[0;34m(self, *args, **kwargs)\u001b[0m\n\u001b[1;32m   1551\u001b[0m     \u001b[38;5;28;01mreturn\u001b[39;00m \u001b[38;5;28mself\u001b[39m\u001b[38;5;241m.\u001b[39m_compiled_call_impl(\u001b[38;5;241m*\u001b[39margs, \u001b[38;5;241m*\u001b[39m\u001b[38;5;241m*\u001b[39mkwargs)  \u001b[38;5;66;03m# type: ignore[misc]\u001b[39;00m\n\u001b[1;32m   1552\u001b[0m \u001b[38;5;28;01melse\u001b[39;00m:\n\u001b[0;32m-> 1553\u001b[0m     \u001b[38;5;28;01mreturn\u001b[39;00m \u001b[38;5;28;43mself\u001b[39;49m\u001b[38;5;241;43m.\u001b[39;49m\u001b[43m_call_impl\u001b[49m\u001b[43m(\u001b[49m\u001b[38;5;241;43m*\u001b[39;49m\u001b[43margs\u001b[49m\u001b[43m,\u001b[49m\u001b[43m \u001b[49m\u001b[38;5;241;43m*\u001b[39;49m\u001b[38;5;241;43m*\u001b[39;49m\u001b[43mkwargs\u001b[49m\u001b[43m)\u001b[49m\n",
      "File \u001b[0;32m~/anaconda3/envs/llms_env/lib/python3.12/site-packages/torch/nn/modules/module.py:1562\u001b[0m, in \u001b[0;36mModule._call_impl\u001b[0;34m(self, *args, **kwargs)\u001b[0m\n\u001b[1;32m   1557\u001b[0m \u001b[38;5;66;03m# If we don't have any hooks, we want to skip the rest of the logic in\u001b[39;00m\n\u001b[1;32m   1558\u001b[0m \u001b[38;5;66;03m# this function, and just call forward.\u001b[39;00m\n\u001b[1;32m   1559\u001b[0m \u001b[38;5;28;01mif\u001b[39;00m \u001b[38;5;129;01mnot\u001b[39;00m (\u001b[38;5;28mself\u001b[39m\u001b[38;5;241m.\u001b[39m_backward_hooks \u001b[38;5;129;01mor\u001b[39;00m \u001b[38;5;28mself\u001b[39m\u001b[38;5;241m.\u001b[39m_backward_pre_hooks \u001b[38;5;129;01mor\u001b[39;00m \u001b[38;5;28mself\u001b[39m\u001b[38;5;241m.\u001b[39m_forward_hooks \u001b[38;5;129;01mor\u001b[39;00m \u001b[38;5;28mself\u001b[39m\u001b[38;5;241m.\u001b[39m_forward_pre_hooks\n\u001b[1;32m   1560\u001b[0m         \u001b[38;5;129;01mor\u001b[39;00m _global_backward_pre_hooks \u001b[38;5;129;01mor\u001b[39;00m _global_backward_hooks\n\u001b[1;32m   1561\u001b[0m         \u001b[38;5;129;01mor\u001b[39;00m _global_forward_hooks \u001b[38;5;129;01mor\u001b[39;00m _global_forward_pre_hooks):\n\u001b[0;32m-> 1562\u001b[0m     \u001b[38;5;28;01mreturn\u001b[39;00m \u001b[43mforward_call\u001b[49m\u001b[43m(\u001b[49m\u001b[38;5;241;43m*\u001b[39;49m\u001b[43margs\u001b[49m\u001b[43m,\u001b[49m\u001b[43m \u001b[49m\u001b[38;5;241;43m*\u001b[39;49m\u001b[38;5;241;43m*\u001b[39;49m\u001b[43mkwargs\u001b[49m\u001b[43m)\u001b[49m\n\u001b[1;32m   1564\u001b[0m \u001b[38;5;28;01mtry\u001b[39;00m:\n\u001b[1;32m   1565\u001b[0m     result \u001b[38;5;241m=\u001b[39m \u001b[38;5;28;01mNone\u001b[39;00m\n",
      "File \u001b[0;32m~/anaconda3/envs/llms_env/lib/python3.12/site-packages/transformers/activations.py:78\u001b[0m, in \u001b[0;36mGELUActivation.forward\u001b[0;34m(self, input)\u001b[0m\n\u001b[1;32m     77\u001b[0m \u001b[38;5;28;01mdef\u001b[39;00m \u001b[38;5;21mforward\u001b[39m(\u001b[38;5;28mself\u001b[39m, \u001b[38;5;28minput\u001b[39m: Tensor) \u001b[38;5;241m-\u001b[39m\u001b[38;5;241m>\u001b[39m Tensor:\n\u001b[0;32m---> 78\u001b[0m     \u001b[38;5;28;01mreturn\u001b[39;00m \u001b[38;5;28;43mself\u001b[39;49m\u001b[38;5;241;43m.\u001b[39;49m\u001b[43mact\u001b[49m\u001b[43m(\u001b[49m\u001b[38;5;28;43minput\u001b[39;49m\u001b[43m)\u001b[49m\n",
      "\u001b[0;31mKeyboardInterrupt\u001b[0m: "
     ]
    }
   ],
   "source": [
    "r.init()"
   ]
  },
  {
   "cell_type": "code",
   "execution_count": 6,
   "metadata": {},
   "outputs": [
    {
     "data": {
      "text/plain": [
       "[Document(page_content='direcciones oficinas / canales de atencion presencial / puntos fisicos / sedes finanzauto / sedes fisicas\\n\\n•\\tsede americas / bogota: cra. 56 n° 09 – 17 torre central. \\nhorario: lunes a viernes de 7:00 a.m. a 7:00 p.m.\\nsabados: 8:00 a.m. a 3:00 p.m.\\ndomingos: 9:00 a.m. a 3:00 p.m.\\n\\n•\\tsede norte / bogota: calle 116 n° 23–06 edificio business center 04. \\nhorario: lunes a viernes de 7:00 a.m. a 7:00 p.m.\\nsabados: 8:00 a.m. a 2:00 p.m. \\n\\n•\\tsede corabastos / bogota: av. cra.80 n°2-51 bodega 41 local 9. \\nhorario: lunes a viernes de 7:00 a.m. a 4:00 p.m.\\nsabados: 7:00 a.m. a 12:00 m.\\n\\n•\\tsede chia kilometro 2.5 via a cajica - chia, cundinamarca \\nhorario: lunes a viernes de 9:00 a.m. a 5:30 p.m.\\nsabados: 9:00 a.m. a 3:00 p.m.\\n\\n\\n•\\tvillavicencio: carrera 33 n° 15 – 28 edificio casa toro km 1 via puerto lopez. \\nhorario: lunes a viernes 8:00 a.m. a 5:30 p.m.\\nsabados 8:00 a.m. a 01:00 p.m. \\n\\n•\\tbucaramanga: calle 53 n° 23-97. \\nhorario: lunes a viernes 8:00 a.m. a 5:30 p.m.\\nsabados 8:00 a.m. a 01:00 p.m.\\n\\n•\\tbarranquilla: carrera 52 n° 74 -39. \\nhorario: lunes a viernes 8:00 a.m. a 5:30 p.m.\\nsabados 8:00 a.m. a 01:00 p.m.\\n\\n•\\tmedellin: carrera 43a n° 23-25 local 128 centro comercial avenida mall.\\nhorario: lunes a viernes 8:00 a.m. a 5:30 p.m. \\nsabados 8:00 a.m. a 01:00 p.m.\\n\\n•\\tcali: calle 40 norte n° 6n- 28 la campina.\\nhorario: lunes a viernes 8:00 a.m. a 5:30 p.m.\\nsabados: 8:00 a.m. a 01:00 p.m. \\n\\n•\\tcartagena: carrera 15 n° 31 - 110 local 12 centro -cultural y turistico san lazaro el espinal.\\nhorario: lunes a viernes 8:00 a.m. a 5:30 p.m. \\nsabados 8:00 a.m. a 01:00 p.m.'),\n",
       " Document(page_content='solicitud de documentos\\n\\nentrega de documentos o solicitudes\\n\\nde acuerdo a nuestra politica de proteccion de datos personales y en cumplimiento a la ley 1581 de 2012 y el decreto 1074 de 2015, para continuar por favor indiqueme su numero de identificacion (cc., nit, ce), placa, correo electronico, numero de celular y fecha de solicitud.\\n\\nactualizacion de datos / actualizar mis datos / cambiar mis datos / modificar mis datos / datos personales\\n\\nde acuerdo a nuestra politica de proteccion de datos personales y en cumplimiento a la ley 1581 de 2012 y el decreto 1074 de 2015, para continuar por favor digite la siguiente informacion:\\n\\n•\\tnumero de identificacion (cc., nit, ce.):\\n•\\tdireccion:\\n•\\tnueva direccion:\\n•\\tbarrio:\\n•\\tciudad:\\n•\\tcorreo electronico antiguo:\\n•\\tcorreo electronico nuevo:\\n•\\tnumero de contacto antiguo:\\n•\\tnumero nuevo de contacto:'),\n",
       " Document(page_content='cuentas para pagos en banco / medios de pago / bancos para pagar mi credito.\\n\\nen finanzauto puede realizar el pago por medio de nuestro pago agil, ingresando a la pagina web o en la app. recuerde descargar la aplicacion desde los sitios autorizados: google play para android y app store para ios. tambien puede realizar su pago mediante el servicio de recaudo a domicilio o en los siguientes medios de pago:\\n \\npara mayor informacion ingrese a nuestro portal web https://www.finanzauto.com.co/portal/medios-pago.\\n\\nenvio del soporte de pago / como enviar soporte de pago\\n\\npor favor envie su soporte de pago al correo electronico: servicioalcliente@finanzauto.com.co, anexando sus datos personales y numero del credito. \\n\\ninformacion importante: el pago presentara actualizacion en el trascurso de cuatro dias habiles posterior al envio de la notificacion.\\n\\ndebito automatico\\nservicio que le permite pagar sus facturas automaticamente desde la cuenta autorizada por el titular del credito.\\n\\npara solicitar el debito automatico debe seguir los siguientes pasos:\\n\\n1.\\tingrese la pagina web www.finanzauto.com.co.\\na.\\tingrese a la zona transaccional.\\nb.\\tdiligencie la informacion solicitada para el ingreso a su perfil como cliente. \\nc.\\tingrese a su perfil.\\nd.\\tseleccione la opcion “solicitar debito”. \\ne.\\tindique el valor que autoriza a debitar.\\nf.\\tseleccione el credito al cual se le realizara el registro del pago y presiona el boton “aceptar”. \\ng.\\tdiligencie la informacion solicitada del titular de la cuenta.\\nh.\\tdiligencie la informacion solicitada de la entidad financiera con los respectivos datos de la cuenta a debitar.\\ni.\\tpara finalizar el registro presione el boton “enviar”.\\n\\n2.\\tpuede solicitarlo por medio del correo servicioalcliente@finanzauto.com.co adjuntando la siguiente documentacion:\\n\\na.\\tformato de solicitud de debito automatico con firma y huella.\\nb.\\tcertificacion bancaria de la cuenta a debitar no mayor a 30 dias.\\n\\npago con tarjetas de credito\\n\\npor medio de la plataforma se encuentra habilitada la opcion para realizar sus pagos con tarjetas de credito que tengan el logo de las siguientes franquicias:\\n•\\tamerican express\\n•\\tmaster card\\n•\\tvisa\\n\\nen nuestras oficinas tambien se reciben pagos por medio de las tarjetas de credito con logo de las franquicias: \\n•\\tamerican express\\n•\\tmaster card\\n•\\tvisa\\n\\ninformacion importante: con la tarjeta de credito no se pueden realizar transferencias.\\n\\nrecaudo a domicilio / pagos a domicilio\\n\\nde acuerdo a nuestra politica de proteccion de datos personales y en cumplimiento de la ley 1581 de 2012 y el decreto 1074 de 2015, por favor confirme los siguientes datos:\\n\\n•\\tnumero de su cedula: \\n•\\tnumero de celular: \\n•\\tciudad: \\n•\\tbarrio:\\n•\\tdireccion:\\n•\\tvalor a cancelar:\\n•\\tforma de pago (efectivo, tarjeta debido o credito, cheque): \\n•\\thora y dia para recaudo:\\n•\\tnombre de la persona que realizara el pago o titular (nombre y celular):\\n\\npuede realizar su solicitud de recaudo a domicilio por medio de las siguientes lineas telefonicas:\\n\\n•\\t3107923738 \\n•\\t3107923729 \\n•\\t(601) 749 9000\\n\\nen el horario: lunes a viernes de 8:00 a.m. a 4:00 p.m. y sabados 8:00 a.m. a 12:00 p.m.\\n\\ninformacion importante: el primer dia habil de cada mes no habra servicio de recaudo en bogota y cundinamarca.\\n\\npago agil\\n\\npuede realizar su pago por medio de la opcion pago facil, ingresando al siguiente link https://www.finanzauto.com.co/portal/pago-agil/, realizando los siguientes pasos:\\n\\n1.\\tdiligencie los campos: \\n\\n•\\ttipo de identificacion. \\n•\\tnumero de identificacion.  \\n•\\tano de nacimiento. \\n\\nseleccione el boton “consultar”.\\n\\n2.\\ten la opcion numero de credito seleccione la obligacion que desea pagar, confirme si el valor registrado es correcto. si desea realizar un pago diferente puede modificar el monto. recuerde que el monto minimo a cancelar es de $10.000 pesos. \\n\\n3.\\tseleccione el metodo de pago: tarjeta de credito, debito bancario pse o nequi y presione el boton “pagar”.\\n\\n4.\\tingrese su correo electronico y presione el boton “consultar”.\\n\\n5.\\tdiligencie sus datos de acuerdo al metodo de pago y por ultimo seleccione la opcion “pagar”.\\n\\nrecomendacion: es importante confirmar datos de la transaccion antes de terminar el proceso.\\n\\npago por la zona transaccional\\npara realizar su pago desde la zona transaccional lo puede realizar en 2 simples pasos, https://www.finanzauto.com.co/portal/zonatransaccional/:\\n\\n\\n1.\\tseleccione el boton de “realizar pago”. recuerde que el monto minimo a cancelar es de $10.000 pesos. seleccione su metodo de pago: tarjeta de credito, debito bancario pse o nequi, luego presione el boton “pagar” para contar con su transaccion.\\n\\n2.\\tdiligencie sus datos de acuerdo al metodo de pago y por ultimo seleccione la opcion “pagar”.\\n\\nrecomendacion: es importante confirmar datos de la transaccion antes de terminar el proceso.\\n\\n\\npago que no sea en bancos / pagos no pagina web y app / otros medios de pago.\\n\\nsi no ha podido ingresar a nuestra pagina web o app para realizar su pago, cancele a traves de:')]"
      ]
     },
     "execution_count": 6,
     "metadata": {},
     "output_type": "execute_result"
    }
   ],
   "source": [
    "r.invoke(\"Medellin\")"
   ]
  },
  {
   "cell_type": "code",
   "execution_count": 4,
   "metadata": {},
   "outputs": [],
   "source": [
    "from MilvusRetriever import MilvusRetriever\n",
    "r = MilvusRetriever(documents=[],k=3)"
   ]
  },
  {
   "cell_type": "code",
   "execution_count": 5,
   "metadata": {},
   "outputs": [
    {
     "data": {
      "application/vnd.jupyter.widget-view+json": {
       "model_id": "a96f20473d6f4ab4bab59f91e83eb0d5",
       "version_major": 2,
       "version_minor": 0
      },
      "text/plain": [
       "Fetching 30 files:   0%|          | 0/30 [00:00<?, ?it/s]"
      ]
     },
     "metadata": {},
     "output_type": "display_data"
    },
    {
     "name": "stderr",
     "output_type": "stream",
     "text": [
      "/home/fermikira/anaconda3/envs/llms_env/lib/python3.12/site-packages/FlagEmbedding/BGE_M3/modeling.py:335: FutureWarning: You are using `torch.load` with `weights_only=False` (the current default value), which uses the default pickle module implicitly. It is possible to construct malicious pickle data which will execute arbitrary code during unpickling (See https://github.com/pytorch/pytorch/blob/main/SECURITY.md#untrusted-models for more details). In a future release, the default value for `weights_only` will be flipped to `True`. This limits the functions that could be executed during unpickling. Arbitrary objects will no longer be allowed to be loaded via this mode unless they are explicitly allowlisted by the user via `torch.serialization.add_safe_globals`. We recommend you start setting `weights_only=True` for any use case where you don't have full control of the loaded file. Please open an issue on GitHub for any issues related to this experimental feature.\n",
      "  colbert_state_dict = torch.load(os.path.join(model_dir, 'colbert_linear.pt'), map_location='cpu')\n",
      "/home/fermikira/anaconda3/envs/llms_env/lib/python3.12/site-packages/FlagEmbedding/BGE_M3/modeling.py:336: FutureWarning: You are using `torch.load` with `weights_only=False` (the current default value), which uses the default pickle module implicitly. It is possible to construct malicious pickle data which will execute arbitrary code during unpickling (See https://github.com/pytorch/pytorch/blob/main/SECURITY.md#untrusted-models for more details). In a future release, the default value for `weights_only` will be flipped to `True`. This limits the functions that could be executed during unpickling. Arbitrary objects will no longer be allowed to be loaded via this mode unless they are explicitly allowlisted by the user via `torch.serialization.add_safe_globals`. We recommend you start setting `weights_only=True` for any use case where you don't have full control of the loaded file. Please open an issue on GitHub for any issues related to this experimental feature.\n",
      "  sparse_state_dict = torch.load(os.path.join(model_dir, 'sparse_linear.pt'), map_location='cpu')\n"
     ]
    },
    {
     "name": "stdout",
     "output_type": "stream",
     "text": [
      "Loading existing collection: hybrid_rag\n"
     ]
    }
   ],
   "source": [
    "r.init()"
   ]
  },
  {
   "cell_type": "code",
   "execution_count": 6,
   "metadata": {},
   "outputs": [
    {
     "data": {
      "text/plain": [
       "[Document(page_content='direcciones oficinas / canales de atencion presencial / puntos fisicos / sedes finanzauto / sedes fisicas\\n\\n•\\tsede americas / bogota: cra. 56 n° 09 – 17 torre central. \\nhorario: lunes a viernes de 7:00 a.m. a 7:00 p.m.\\nsabados: 8:00 a.m. a 3:00 p.m.\\ndomingos: 9:00 a.m. a 3:00 p.m.\\n\\n•\\tsede norte / bogota: calle 116 n° 23–06 edificio business center 04. \\nhorario: lunes a viernes de 7:00 a.m. a 7:00 p.m.\\nsabados: 8:00 a.m. a 2:00 p.m. \\n\\n•\\tsede corabastos / bogota: av. cra.80 n°2-51 bodega 41 local 9. \\nhorario: lunes a viernes de 7:00 a.m. a 4:00 p.m.\\nsabados: 7:00 a.m. a 12:00 m.\\n\\n•\\tsede chia kilometro 2.5 via a cajica - chia, cundinamarca \\nhorario: lunes a viernes de 9:00 a.m. a 5:30 p.m.\\nsabados: 9:00 a.m. a 3:00 p.m.\\n\\n\\n•\\tvillavicencio: carrera 33 n° 15 – 28 edificio casa toro km 1 via puerto lopez. \\nhorario: lunes a viernes 8:00 a.m. a 5:30 p.m.\\nsabados 8:00 a.m. a 01:00 p.m. \\n\\n•\\tbucaramanga: calle 53 n° 23-97. \\nhorario: lunes a viernes 8:00 a.m. a 5:30 p.m.\\nsabados 8:00 a.m. a 01:00 p.m.\\n\\n•\\tbarranquilla: carrera 52 n° 74 -39. \\nhorario: lunes a viernes 8:00 a.m. a 5:30 p.m.\\nsabados 8:00 a.m. a 01:00 p.m.\\n\\n•\\tmedellin: carrera 43a n° 23-25 local 128 centro comercial avenida mall.\\nhorario: lunes a viernes 8:00 a.m. a 5:30 p.m. \\nsabados 8:00 a.m. a 01:00 p.m.\\n\\n•\\tcali: calle 40 norte n° 6n- 28 la campina.\\nhorario: lunes a viernes 8:00 a.m. a 5:30 p.m.\\nsabados: 8:00 a.m. a 01:00 p.m. \\n\\n•\\tcartagena: carrera 15 n° 31 - 110 local 12 centro -cultural y turistico san lazaro el espinal.\\nhorario: lunes a viernes 8:00 a.m. a 5:30 p.m. \\nsabados 8:00 a.m. a 01:00 p.m.'),\n",
       " Document(page_content='solicitud de documentos\\n\\nentrega de documentos o solicitudes\\n\\nde acuerdo a nuestra politica de proteccion de datos personales y en cumplimiento a la ley 1581 de 2012 y el decreto 1074 de 2015, para continuar por favor indiqueme su numero de identificacion (cc., nit, ce), placa, correo electronico, numero de celular y fecha de solicitud.\\n\\nactualizacion de datos / actualizar mis datos / cambiar mis datos / modificar mis datos / datos personales\\n\\nde acuerdo a nuestra politica de proteccion de datos personales y en cumplimiento a la ley 1581 de 2012 y el decreto 1074 de 2015, para continuar por favor digite la siguiente informacion:\\n\\n•\\tnumero de identificacion (cc., nit, ce.):\\n•\\tdireccion:\\n•\\tnueva direccion:\\n•\\tbarrio:\\n•\\tciudad:\\n•\\tcorreo electronico antiguo:\\n•\\tcorreo electronico nuevo:\\n•\\tnumero de contacto antiguo:\\n•\\tnumero nuevo de contacto:'),\n",
       " Document(page_content='cuentas para pagos en banco / medios de pago / bancos para pagar mi credito.\\n\\nen finanzauto puede realizar el pago por medio de nuestro pago agil, ingresando a la pagina web o en la app. recuerde descargar la aplicacion desde los sitios autorizados: google play para android y app store para ios. tambien puede realizar su pago mediante el servicio de recaudo a domicilio o en los siguientes medios de pago:\\n \\npara mayor informacion ingrese a nuestro portal web https://www.finanzauto.com.co/portal/medios-pago.\\n\\nenvio del soporte de pago / como enviar soporte de pago\\n\\npor favor envie su soporte de pago al correo electronico: servicioalcliente@finanzauto.com.co, anexando sus datos personales y numero del credito. \\n\\ninformacion importante: el pago presentara actualizacion en el trascurso de cuatro dias habiles posterior al envio de la notificacion.\\n\\ndebito automatico\\nservicio que le permite pagar sus facturas automaticamente desde la cuenta autorizada por el titular del credito.\\n\\npara solicitar el debito automatico debe seguir los siguientes pasos:\\n\\n1.\\tingrese la pagina web www.finanzauto.com.co.\\na.\\tingrese a la zona transaccional.\\nb.\\tdiligencie la informacion solicitada para el ingreso a su perfil como cliente. \\nc.\\tingrese a su perfil.\\nd.\\tseleccione la opcion “solicitar debito”. \\ne.\\tindique el valor que autoriza a debitar.\\nf.\\tseleccione el credito al cual se le realizara el registro del pago y presiona el boton “aceptar”. \\ng.\\tdiligencie la informacion solicitada del titular de la cuenta.\\nh.\\tdiligencie la informacion solicitada de la entidad financiera con los respectivos datos de la cuenta a debitar.\\ni.\\tpara finalizar el registro presione el boton “enviar”.\\n\\n2.\\tpuede solicitarlo por medio del correo servicioalcliente@finanzauto.com.co adjuntando la siguiente documentacion:\\n\\na.\\tformato de solicitud de debito automatico con firma y huella.\\nb.\\tcertificacion bancaria de la cuenta a debitar no mayor a 30 dias.\\n\\npago con tarjetas de credito\\n\\npor medio de la plataforma se encuentra habilitada la opcion para realizar sus pagos con tarjetas de credito que tengan el logo de las siguientes franquicias:\\n•\\tamerican express\\n•\\tmaster card\\n•\\tvisa\\n\\nen nuestras oficinas tambien se reciben pagos por medio de las tarjetas de credito con logo de las franquicias: \\n•\\tamerican express\\n•\\tmaster card\\n•\\tvisa\\n\\ninformacion importante: con la tarjeta de credito no se pueden realizar transferencias.\\n\\nrecaudo a domicilio / pagos a domicilio\\n\\nde acuerdo a nuestra politica de proteccion de datos personales y en cumplimiento de la ley 1581 de 2012 y el decreto 1074 de 2015, por favor confirme los siguientes datos:\\n\\n•\\tnumero de su cedula: \\n•\\tnumero de celular: \\n•\\tciudad: \\n•\\tbarrio:\\n•\\tdireccion:\\n•\\tvalor a cancelar:\\n•\\tforma de pago (efectivo, tarjeta debido o credito, cheque): \\n•\\thora y dia para recaudo:\\n•\\tnombre de la persona que realizara el pago o titular (nombre y celular):\\n\\npuede realizar su solicitud de recaudo a domicilio por medio de las siguientes lineas telefonicas:\\n\\n•\\t3107923738 \\n•\\t3107923729 \\n•\\t(601) 749 9000\\n\\nen el horario: lunes a viernes de 8:00 a.m. a 4:00 p.m. y sabados 8:00 a.m. a 12:00 p.m.\\n\\ninformacion importante: el primer dia habil de cada mes no habra servicio de recaudo en bogota y cundinamarca.\\n\\npago agil\\n\\npuede realizar su pago por medio de la opcion pago facil, ingresando al siguiente link https://www.finanzauto.com.co/portal/pago-agil/, realizando los siguientes pasos:\\n\\n1.\\tdiligencie los campos: \\n\\n•\\ttipo de identificacion. \\n•\\tnumero de identificacion.  \\n•\\tano de nacimiento. \\n\\nseleccione el boton “consultar”.\\n\\n2.\\ten la opcion numero de credito seleccione la obligacion que desea pagar, confirme si el valor registrado es correcto. si desea realizar un pago diferente puede modificar el monto. recuerde que el monto minimo a cancelar es de $10.000 pesos. \\n\\n3.\\tseleccione el metodo de pago: tarjeta de credito, debito bancario pse o nequi y presione el boton “pagar”.\\n\\n4.\\tingrese su correo electronico y presione el boton “consultar”.\\n\\n5.\\tdiligencie sus datos de acuerdo al metodo de pago y por ultimo seleccione la opcion “pagar”.\\n\\nrecomendacion: es importante confirmar datos de la transaccion antes de terminar el proceso.\\n\\npago por la zona transaccional\\npara realizar su pago desde la zona transaccional lo puede realizar en 2 simples pasos, https://www.finanzauto.com.co/portal/zonatransaccional/:\\n\\n\\n1.\\tseleccione el boton de “realizar pago”. recuerde que el monto minimo a cancelar es de $10.000 pesos. seleccione su metodo de pago: tarjeta de credito, debito bancario pse o nequi, luego presione el boton “pagar” para contar con su transaccion.\\n\\n2.\\tdiligencie sus datos de acuerdo al metodo de pago y por ultimo seleccione la opcion “pagar”.\\n\\nrecomendacion: es importante confirmar datos de la transaccion antes de terminar el proceso.\\n\\n\\npago que no sea en bancos / pagos no pagina web y app / otros medios de pago.\\n\\nsi no ha podido ingresar a nuestra pagina web o app para realizar su pago, cancele a traves de:')]"
      ]
     },
     "execution_count": 6,
     "metadata": {},
     "output_type": "execute_result"
    }
   ],
   "source": [
    "r.invoke(\"Medellin\")"
   ]
  },
  {
   "cell_type": "code",
   "execution_count": 7,
   "metadata": {},
   "outputs": [],
   "source": [
    "text_splitter = RecursiveCharacterTextSplitter(chunk_size=5000)\n",
    "texts = text_splitter.split_documents(documents)\n",
    "normalized_texts = [normalize_and_remove_accents(texts[i].page_content) for i in range(len(texts))]\n",
    "texts = [texts[i].page_content for i in range(len(texts))]"
   ]
  },
  {
   "cell_type": "code",
   "execution_count": 8,
   "metadata": {},
   "outputs": [
    {
     "data": {
      "application/vnd.jupyter.widget-view+json": {
       "model_id": "fe6997a549c547389a89f4ef737fe909",
       "version_major": 2,
       "version_minor": 0
      },
      "text/plain": [
       "Fetching 30 files:   0%|          | 0/30 [00:00<?, ?it/s]"
      ]
     },
     "metadata": {},
     "output_type": "display_data"
    },
    {
     "name": "stderr",
     "output_type": "stream",
     "text": [
      "/home/fermikira/anaconda3/envs/llms_env/lib/python3.12/site-packages/FlagEmbedding/BGE_M3/modeling.py:335: FutureWarning: You are using `torch.load` with `weights_only=False` (the current default value), which uses the default pickle module implicitly. It is possible to construct malicious pickle data which will execute arbitrary code during unpickling (See https://github.com/pytorch/pytorch/blob/main/SECURITY.md#untrusted-models for more details). In a future release, the default value for `weights_only` will be flipped to `True`. This limits the functions that could be executed during unpickling. Arbitrary objects will no longer be allowed to be loaded via this mode unless they are explicitly allowlisted by the user via `torch.serialization.add_safe_globals`. We recommend you start setting `weights_only=True` for any use case where you don't have full control of the loaded file. Please open an issue on GitHub for any issues related to this experimental feature.\n",
      "  colbert_state_dict = torch.load(os.path.join(model_dir, 'colbert_linear.pt'), map_location='cpu')\n",
      "/home/fermikira/anaconda3/envs/llms_env/lib/python3.12/site-packages/FlagEmbedding/BGE_M3/modeling.py:336: FutureWarning: You are using `torch.load` with `weights_only=False` (the current default value), which uses the default pickle module implicitly. It is possible to construct malicious pickle data which will execute arbitrary code during unpickling (See https://github.com/pytorch/pytorch/blob/main/SECURITY.md#untrusted-models for more details). In a future release, the default value for `weights_only` will be flipped to `True`. This limits the functions that could be executed during unpickling. Arbitrary objects will no longer be allowed to be loaded via this mode unless they are explicitly allowlisted by the user via `torch.serialization.add_safe_globals`. We recommend you start setting `weights_only=True` for any use case where you don't have full control of the loaded file. Please open an issue on GitHub for any issues related to this experimental feature.\n",
      "  sparse_state_dict = torch.load(os.path.join(model_dir, 'sparse_linear.pt'), map_location='cpu')\n"
     ]
    }
   ],
   "source": [
    "from milvus_model.hybrid import BGEM3EmbeddingFunction\n",
    "\n",
    "ef = BGEM3EmbeddingFunction(use_fp16=False, device=\"cpu\")\n",
    "dense_dim = ef.dim[\"dense\"]\n",
    "\n",
    "# Generate embeddings using BGE-M3 model\n",
    "docs_embeddings = ef(normalized_texts)"
   ]
  },
  {
   "cell_type": "code",
   "execution_count": 9,
   "metadata": {},
   "outputs": [
    {
     "data": {
      "text/plain": [
       "41"
      ]
     },
     "execution_count": 9,
     "metadata": {},
     "output_type": "execute_result"
    }
   ],
   "source": [
    "len(docs_embeddings['dense'])"
   ]
  },
  {
   "cell_type": "code",
   "execution_count": 10,
   "metadata": {},
   "outputs": [],
   "source": [
    "from pymilvus import (\n",
    "    connections,\n",
    "    utility,\n",
    "    FieldSchema,\n",
    "    CollectionSchema,\n",
    "    DataType,\n",
    "    Collection,\n",
    ")\n",
    "\n",
    "# Connect to Milvus given URI\n",
    "connections.connect(uri=\"./milvus.db\")\n",
    "\n",
    "# Specify the data schema for the new Collection\n",
    "fields = [\n",
    "    # Use auto generated id as primary key\n",
    "    FieldSchema(\n",
    "        name=\"id\", dtype=DataType.VARCHAR, is_primary=True, auto_id=True, max_length=100\n",
    "    ),\n",
    "    # Store the original text to retrieve based on semantically distance\n",
    "    FieldSchema(name=\"text\", dtype=DataType.VARCHAR, max_length=10000),\n",
    "    # Milvus now supports both sparse and dense vectors,\n",
    "    # we can store each in a separate field to conduct hybrid search on both vectors\n",
    "    FieldSchema(name=\"sparse_vector\", dtype=DataType.SPARSE_FLOAT_VECTOR),\n",
    "    FieldSchema(name=\"dense_vector\", dtype=DataType.FLOAT_VECTOR, dim=dense_dim),\n",
    "]\n",
    "schema = CollectionSchema(fields)\n",
    "\n",
    "# Create collection (drop the old one if exists)\n",
    "col_name = \"hybrid_rag\"\n",
    "if utility.has_collection(col_name):\n",
    "    Collection(col_name).drop()\n",
    "col = Collection(col_name, schema, consistency_level=\"Strong\")\n",
    "\n",
    "# To make vector search efficient, we need to create indices for the vector fields\n",
    "sparse_index = {\"index_type\": \"SPARSE_INVERTED_INDEX\", \"metric_type\": \"IP\"}\n",
    "col.create_index(\"sparse_vector\", sparse_index)\n",
    "dense_index = {\"index_type\": \"AUTOINDEX\", \"metric_type\": \"IP\"}\n",
    "col.create_index(\"dense_vector\", dense_index)\n",
    "col.load()"
   ]
  },
  {
   "cell_type": "code",
   "execution_count": 11,
   "metadata": {},
   "outputs": [
    {
     "data": {
      "text/plain": [
       "<Compressed Sparse Row sparse array of dtype 'float64'\n",
       "\twith 2769 stored elements and shape (41, 250002)>"
      ]
     },
     "execution_count": 11,
     "metadata": {},
     "output_type": "execute_result"
    }
   ],
   "source": [
    "docs_embeddings[\"sparse\"][0 : 0 + 51]"
   ]
  },
  {
   "cell_type": "code",
   "execution_count": 12,
   "metadata": {},
   "outputs": [
    {
     "name": "stdout",
     "output_type": "stream",
     "text": [
      "Number of entities inserted: 41\n"
     ]
    }
   ],
   "source": [
    "# For efficiency, we insert 50 records in each small batch\n",
    "for i in range(0, len(texts), 50):\n",
    "    batched_entities = [\n",
    "        normalized_texts[i : i + 50],\n",
    "        docs_embeddings[\"sparse\"][i : i + 50],\n",
    "        docs_embeddings[\"dense\"][i : i + 50],\n",
    "    ]\n",
    "    col.insert(batched_entities)\n",
    "print(\"Number of entities inserted:\", col.num_entities)"
   ]
  },
  {
   "cell_type": "code",
   "execution_count": 13,
   "metadata": {},
   "outputs": [],
   "source": [
    "from pymilvus import (\n",
    "    AnnSearchRequest,\n",
    "    WeightedRanker,\n",
    ")\n",
    "\n",
    "\n",
    "def dense_search(col, query_dense_embedding, limit=3):\n",
    "    search_params = {\"metric_type\": \"IP\", \"params\": {}}\n",
    "    res = col.search(\n",
    "        [query_dense_embedding],\n",
    "        anns_field=\"dense_vector\",\n",
    "        limit=limit,\n",
    "        output_fields=[\"text\"],\n",
    "        param=search_params,\n",
    "    )[0]\n",
    "    return [hit.get(\"text\") for hit in res]\n",
    "\n",
    "\n",
    "def sparse_search(col, query_sparse_embedding, limit=3):\n",
    "    search_params = {\n",
    "        \"metric_type\": \"IP\",\n",
    "        \"params\": {},\n",
    "    }\n",
    "    res = col.search(\n",
    "        [query_sparse_embedding],\n",
    "        anns_field=\"sparse_vector\",\n",
    "        limit=limit,\n",
    "        output_fields=[\"text\"],\n",
    "        param=search_params,\n",
    "    )[0]\n",
    "    return [hit.get(\"text\") for hit in res]\n",
    "\n",
    "\n",
    "def hybrid_search(\n",
    "    col,\n",
    "    query_dense_embedding,\n",
    "    query_sparse_embedding,\n",
    "    sparse_weight=1.0,\n",
    "    dense_weight=1.0,\n",
    "    limit=3,\n",
    "):\n",
    "    dense_search_params = {\"metric_type\": \"IP\", \"params\": {}}\n",
    "    dense_req = AnnSearchRequest(\n",
    "        [query_dense_embedding], \"dense_vector\", dense_search_params, limit=limit\n",
    "    )\n",
    "    sparse_search_params = {\"metric_type\": \"IP\", \"params\": {}}\n",
    "    sparse_req = AnnSearchRequest(\n",
    "        [query_sparse_embedding], \"sparse_vector\", sparse_search_params, limit=limit\n",
    "    )\n",
    "    rerank = WeightedRanker(sparse_weight, dense_weight)\n",
    "    res = col.hybrid_search(\n",
    "        [sparse_req, dense_req], rerank=rerank, limit=limit, output_fields=[\"text\"]\n",
    "    )[0]\n",
    "    return [hit.get(\"text\") for hit in res]\n"
   ]
  },
  {
   "cell_type": "code",
   "execution_count": 14,
   "metadata": {},
   "outputs": [],
   "source": [
    "def doc_text_formatting(ef, query, docs):\n",
    "    tokenizer = ef.model.tokenizer\n",
    "    query_tokens_ids = tokenizer.encode(query, return_offsets_mapping=True)\n",
    "    query_tokens = tokenizer.convert_ids_to_tokens(query_tokens_ids)\n",
    "    formatted_texts = []\n",
    "\n",
    "    for doc in docs:\n",
    "        ldx = 0\n",
    "        landmarks = []\n",
    "        encoding = tokenizer.encode_plus(doc, return_offsets_mapping=True)\n",
    "        tokens = tokenizer.convert_ids_to_tokens(encoding[\"input_ids\"])[1:-1]\n",
    "        offsets = encoding[\"offset_mapping\"][1:-1]\n",
    "        for token, (start, end) in zip(tokens, offsets):\n",
    "            if token in query_tokens:\n",
    "                if len(landmarks) != 0 and start == landmarks[-1]:\n",
    "                    landmarks[-1] = end\n",
    "                else:\n",
    "                    landmarks.append(start)\n",
    "                    landmarks.append(end)\n",
    "        close = False\n",
    "        formatted_text = \"\"\n",
    "        for i, c in enumerate(doc):\n",
    "            if ldx == len(landmarks):\n",
    "                pass\n",
    "            elif i == landmarks[ldx]:\n",
    "                if close:\n",
    "                    formatted_text += \"</span>\"\n",
    "                else:\n",
    "                    formatted_text += \"<span style='color:red'>\"\n",
    "                close = not close\n",
    "                ldx = ldx + 1\n",
    "            formatted_text += c\n",
    "        if close is True:\n",
    "            formatted_text += \"</span>\"\n",
    "        formatted_texts.append(formatted_text)\n",
    "    return formatted_texts\n"
   ]
  },
  {
   "cell_type": "code",
   "execution_count": 15,
   "metadata": {},
   "outputs": [],
   "source": [
    "# Enter your search query\n",
    "query = \"MeDeLlIN\"\n",
    "normalized_query = normalize_and_remove_accents(query)\n",
    "# ACÁ SE PUEDE IMPLEMENTAR UN SISTEMA DE PESADO AUTOMÁTICO:\n",
    "# DEPENDIENDO DEL NÚMERO DE PALABRAS, USA MÁS EL RESULTADO DENSO (MÁS PALABRAS) O EL RESULTADO SPARSE (MENOS PALABRAS)\n",
    "\n",
    "# Generate embeddings for the query\n",
    "query_embeddings = ef([normalized_query])\n",
    "# print(query_embeddings)x"
   ]
  },
  {
   "cell_type": "code",
   "execution_count": 16,
   "metadata": {},
   "outputs": [],
   "source": [
    "dense_results = dense_search(col, query_embeddings[\"dense\"][0])\n",
    "sparse_results = sparse_search(col, query_embeddings[\"sparse\"][[0]])\n",
    "hybrid_results = hybrid_search(\n",
    "    col,\n",
    "    query_embeddings[\"dense\"][0],\n",
    "    query_embeddings[\"sparse\"][[0]],\n",
    "    sparse_weight=0.7,\n",
    "    dense_weight=1.0,\n",
    ")"
   ]
  },
  {
   "cell_type": "code",
   "execution_count": 17,
   "metadata": {},
   "outputs": [
    {
     "data": {
      "text/markdown": [
       "**Dense Search Results:**"
      ],
      "text/plain": [
       "<IPython.core.display.Markdown object>"
      ]
     },
     "metadata": {},
     "output_type": "display_data"
    },
    {
     "data": {
      "text/markdown": [
       "direcciones oficinas / canales de atencion presencial / puntos fisicos / sedes finanzauto / sedes fisicas\n",
       "\n",
       "•\tsede americas / bogota: cra. 56 n° 09 – 17 torre central. \n",
       "horario: lunes a viernes de 7:00 a.m. a 7:00 p.m.\n",
       "sabados: 8:00 a.m. a 3:00 p.m.\n",
       "domingos: 9:00 a.m. a 3:00 p.m.\n",
       "\n",
       "•\tsede norte / bogota: calle 116 n° 23–06 edificio business center 04. \n",
       "horario: lunes a viernes de 7:00 a.m. a 7:00 p.m.\n",
       "sabados: 8:00 a.m. a 2:00 p.m. \n",
       "\n",
       "•\tsede corabastos / bogota: av. cra.80 n°2-51 bodega 41 local 9. \n",
       "horario: lunes a viernes de 7:00 a.m. a 4:00 p.m.\n",
       "sabados: 7:00 a.m. a 12:00 m.\n",
       "\n",
       "•\tsede chia kilometro 2.5 via a cajica - chia, cundinamarca \n",
       "horario: lunes a viernes de 9:00 a.m. a 5:30 p.m.\n",
       "sabados: 9:00 a.m. a 3:00 p.m.\n",
       "\n",
       "\n",
       "•\tvillavicencio: carrera 33 n° 15 – 28 edificio casa toro km 1 via puerto lopez. \n",
       "horario: lunes a viernes 8:00 a.m. a 5:30 p.m.\n",
       "sabados 8:00 a.m. a 01:00 p.m. \n",
       "\n",
       "•\tbucaramanga: calle 53 n° 23-97. \n",
       "horario: lunes a viernes 8:00 a.m. a 5:30 p.m.\n",
       "sabados 8:00 a.m. a 01:00 p.m.\n",
       "\n",
       "•\tbarranquilla: carrera 52 n° 74 -39. \n",
       "horario: lunes a viernes 8:00 a.m. a 5:30 p.m.\n",
       "sabados 8:00 a.m. a 01:00 p.m.\n",
       "\n",
       "•\tmedellin: carrera 43a n° 23-25 local 128 centro comercial avenida mall.\n",
       "horario: lunes a viernes 8:00 a.m. a 5:30 p.m. \n",
       "sabados 8:00 a.m. a 01:00 p.m.\n",
       "\n",
       "•\tcali: calle 40 norte n° 6n- 28 la campina.\n",
       "horario: lunes a viernes 8:00 a.m. a 5:30 p.m.\n",
       "sabados: 8:00 a.m. a 01:00 p.m. \n",
       "\n",
       "•\tcartagena: carrera 15 n° 31 - 110 local 12 centro -cultural y turistico san lazaro el espinal.\n",
       "horario: lunes a viernes 8:00 a.m. a 5:30 p.m. \n",
       "sabados 8:00 a.m. a 01:00 p.m."
      ],
      "text/plain": [
       "<IPython.core.display.Markdown object>"
      ]
     },
     "metadata": {},
     "output_type": "display_data"
    },
    {
     "data": {
      "text/markdown": [
       "solicitud de documentos\n",
       "\n",
       "entrega de documentos o solicitudes\n",
       "\n",
       "de acuerdo a nuestra politica de proteccion de datos personales y en cumplimiento a la ley 1581 de 2012 y el decreto 1074 de 2015, para continuar por favor indiqueme su numero de identificacion (cc., nit, ce), placa, correo electronico, numero de celular y fecha de solicitud.\n",
       "\n",
       "actualizacion de datos / actualizar mis datos / cambiar mis datos / modificar mis datos / datos personales\n",
       "\n",
       "de acuerdo a nuestra politica de proteccion de datos personales y en cumplimiento a la ley 1581 de 2012 y el decreto 1074 de 2015, para continuar por favor digite la siguiente informacion:\n",
       "\n",
       "•\tnumero de identificacion (cc., nit, ce.):\n",
       "•\tdireccion:\n",
       "•\tnueva direccion:\n",
       "•\tbarrio:\n",
       "•\tciudad:\n",
       "•\tcorreo electronico antiguo:\n",
       "•\tcorreo electronico nuevo:\n",
       "•\tnumero de contacto antiguo:\n",
       "•\tnumero nuevo de contacto:"
      ],
      "text/plain": [
       "<IPython.core.display.Markdown object>"
      ]
     },
     "metadata": {},
     "output_type": "display_data"
    },
    {
     "data": {
      "text/markdown": [
       "cuentas para pagos en banco / medios de pago / bancos para pagar mi credito.\n",
       "\n",
       "en finanzauto puede realizar el pago por medio de nuestro pago agil, ingresando a la pagina web o en la app. recuerde descargar la aplicacion desde los sitios autorizados: google play para android y app store para ios. tambien puede realizar su pago mediante el servicio de recaudo a domicilio o en los siguientes medios de pago:\n",
       " \n",
       "para mayor informacion ingrese a nuestro portal web https://www.finanzauto.com.co/portal/medios-pago.\n",
       "\n",
       "envio del soporte de pago / como enviar soporte de pago\n",
       "\n",
       "por favor envie su soporte de pago al correo electronico: servicioalcliente@finanzauto.com.co, anexando sus datos personales y numero del credito. \n",
       "\n",
       "informacion importante: el pago presentara actualizacion en el trascurso de cuatro dias habiles posterior al envio de la notificacion.\n",
       "\n",
       "debito automatico\n",
       "servicio que le permite pagar sus facturas automaticamente desde la cuenta autorizada por el titular del credito.\n",
       "\n",
       "para solicitar el debito automatico debe seguir los siguientes pasos:\n",
       "\n",
       "1.\tingrese la pagina web www.finanzauto.com.co.\n",
       "a.\tingrese a la zona transaccional.\n",
       "b.\tdiligencie la informacion solicitada para el ingreso a su perfil como cliente. \n",
       "c.\tingrese a su perfil.\n",
       "d.\tseleccione la opcion “solicitar debito”. \n",
       "e.\tindique el valor que autoriza a debitar.\n",
       "f.\tseleccione el credito al cual se le realizara el registro del pago y presiona el boton “aceptar”. \n",
       "g.\tdiligencie la informacion solicitada del titular de la cuenta.\n",
       "h.\tdiligencie la informacion solicitada de la entidad financiera con los respectivos datos de la cuenta a debitar.\n",
       "i.\tpara finalizar el registro presione el boton “enviar”.\n",
       "\n",
       "2.\tpuede solicitarlo por medio del correo servicioalcliente@finanzauto.com.co adjuntando la siguiente documentacion:\n",
       "\n",
       "a.\tformato de solicitud de debito automatico con firma y huella.\n",
       "b.\tcertificacion bancaria de la cuenta a debitar no mayor a 30 dias.\n",
       "\n",
       "pago con tarjetas de credito\n",
       "\n",
       "por medio de la plataforma se encuentra habilitada la opcion para realizar sus pagos con tarjetas de credito que tengan el logo de las siguientes franquicias:\n",
       "•\tamerican express\n",
       "•\tmaster card\n",
       "•\tvisa\n",
       "\n",
       "en nuestras oficinas tambien se reciben pagos por medio de las tarjetas de credito con logo de las franquicias: \n",
       "•\tamerican express\n",
       "•\tmaster card\n",
       "•\tvisa\n",
       "\n",
       "informacion importante: con la tarjeta de credito no se pueden realizar transferencias.\n",
       "\n",
       "recaudo a domicilio / pagos a domicilio\n",
       "\n",
       "de acuerdo a nuestra politica de proteccion de datos personales y en cumplimiento de la ley 1581 de 2012 y el decreto 1074 de 2015, por favor confirme los siguientes datos:\n",
       "\n",
       "•\tnumero de su cedula: \n",
       "•\tnumero de celular: \n",
       "•\tciudad: \n",
       "•\tbarrio:\n",
       "•\tdireccion:\n",
       "•\tvalor a cancelar:\n",
       "•\tforma de pago (efectivo, tarjeta debido o credito, cheque): \n",
       "•\thora y dia para recaudo:\n",
       "•\tnombre de la persona que realizara el pago o titular (nombre y celular):\n",
       "\n",
       "puede realizar su solicitud de recaudo a domicilio por medio de las siguientes lineas telefonicas:\n",
       "\n",
       "•\t3107923738 \n",
       "•\t3107923729 \n",
       "•\t(601) 749 9000\n",
       "\n",
       "en el horario: lunes a viernes de 8:00 a.m. a 4:00 p.m. y sabados 8:00 a.m. a 12:00 p.m.\n",
       "\n",
       "informacion importante: el primer dia habil de cada mes no habra servicio de recaudo en bogota y cundinamarca.\n",
       "\n",
       "pago agil\n",
       "\n",
       "puede realizar su pago por medio de la opcion pago facil, ingresando al siguiente link https://www.finanzauto.com.co/portal/pago-agil/, realizando los siguientes pasos:\n",
       "\n",
       "1.\tdiligencie los campos: \n",
       "\n",
       "•\ttipo de identificacion. \n",
       "•\tnumero de identificacion.  \n",
       "•\tano de nacimiento. \n",
       "\n",
       "seleccione el boton “consultar”.\n",
       "\n",
       "2.\ten la opcion numero de credito seleccione la obligacion que desea pagar, confirme si el valor registrado es correcto. si desea realizar un pago diferente puede modificar el monto. recuerde que el monto minimo a cancelar es de $10.000 pesos. \n",
       "\n",
       "3.\tseleccione el metodo de pago: tarjeta de credito, debito bancario pse o nequi y presione el boton “pagar”.\n",
       "\n",
       "4.\tingrese su correo electronico y presione el boton “consultar”.\n",
       "\n",
       "5.\tdiligencie sus datos de acuerdo al metodo de pago y por ultimo seleccione la opcion “pagar”.\n",
       "\n",
       "recomendacion: es importante confirmar datos de la transaccion antes de terminar el proceso.\n",
       "\n",
       "pago por la zona transaccional\n",
       "para realizar su pago desde la zona transaccional lo puede realizar en 2 simples pasos, https://www.finanzauto.com.co/portal/zonatransaccional/:\n",
       "\n",
       "\n",
       "1.\tseleccione el boton de “realizar pago”. recuerde que el monto minimo a cancelar es de $10.000 pesos. seleccione su metodo de pago: tarjeta de credito, debito bancario pse o nequi, luego presione el boton “pagar” para contar con su transaccion.\n",
       "\n",
       "2.\tdiligencie sus datos de acuerdo al metodo de pago y por ultimo seleccione la opcion “pagar”.\n",
       "\n",
       "recomendacion: es importante confirmar datos de la transaccion antes de terminar el proceso.\n",
       "\n",
       "\n",
       "pago que no sea en bancos / pagos no pagina web y app / otros medios de pago.\n",
       "\n",
       "si no ha podido ingresar a nuestra pagina web o app para realizar su pago, cancele a traves de:"
      ],
      "text/plain": [
       "<IPython.core.display.Markdown object>"
      ]
     },
     "metadata": {},
     "output_type": "display_data"
    },
    {
     "data": {
      "text/markdown": [
       "\n",
       "**Sparse Search Results:**"
      ],
      "text/plain": [
       "<IPython.core.display.Markdown object>"
      ]
     },
     "metadata": {},
     "output_type": "display_data"
    },
    {
     "data": {
      "text/markdown": [
       "direcciones oficinas / canales de atencion presencial / puntos fisicos / sedes finanzauto / sedes fisicas\n",
       "\n",
       "•\tsede americas / bogota: cra. 56 n° 09 – 17 torre central. \n",
       "horario: lunes a viernes de 7:00 a.m. a 7:00 p.m.\n",
       "sabados: 8:00 a.m. a 3:00 p.m.\n",
       "domingos: 9:00 a.m. a 3:00 p.m.\n",
       "\n",
       "•\tsede norte / bogota: calle 116 n° 23–06 edificio business center 04. \n",
       "horario: lunes a viernes de 7:00 a.m. a 7:00 p.m.\n",
       "sabados: 8:00 a.m. a 2:00 p.m. \n",
       "\n",
       "•\tsede corabastos / bogota: av. cra.80 n°2-51 bodega 41 local 9. \n",
       "horario: lunes a viernes de 7:00 a.m. a 4:00 p.m.\n",
       "sabados: 7:00 a.m. a 12:00 m.\n",
       "\n",
       "•\tsede chia kilometro 2.5 via a cajica - chia, cundinamarca \n",
       "horario: lunes a viernes de 9:00 a.m. a 5:30 p.m.\n",
       "sabados: 9:00 a.m. a 3:00 p.m.\n",
       "\n",
       "\n",
       "•\tvillavicencio: carrera 33 n° 15 – 28 edificio casa toro km 1 via puerto lopez. \n",
       "horario: lunes a viernes 8:00 a.m. a 5:30 p.m.\n",
       "sabados 8:00 a.m. a 01:00 p.m. \n",
       "\n",
       "•\tbucaramanga: calle 53 n° 23-97. \n",
       "horario: lunes a viernes 8:00 a.m. a 5:30 p.m.\n",
       "sabados 8:00 a.m. a 01:00 p.m.\n",
       "\n",
       "•\tbarranquilla: carrera 52 n° 74 -39. \n",
       "horario: lunes a viernes 8:00 a.m. a 5:30 p.m.\n",
       "sabados 8:00 a.m. a 01:00 p.m.\n",
       "\n",
       "•\tmedellin: carrera 43a n° 23-25 local 128 centro comercial avenida mall.\n",
       "horario: lunes a viernes 8:00 a.m. a 5:30 p.m. \n",
       "sabados 8:00 a.m. a 01:00 p.m.\n",
       "\n",
       "•\tcali: calle 40 norte n° 6n- 28 la campina.\n",
       "horario: lunes a viernes 8:00 a.m. a 5:30 p.m.\n",
       "sabados: 8:00 a.m. a 01:00 p.m. \n",
       "\n",
       "•\tcartagena: carrera 15 n° 31 - 110 local 12 centro -cultural y turistico san lazaro el espinal.\n",
       "horario: lunes a viernes 8:00 a.m. a 5:30 p.m. \n",
       "sabados 8:00 a.m. a 01:00 p.m."
      ],
      "text/plain": [
       "<IPython.core.display.Markdown object>"
      ]
     },
     "metadata": {},
     "output_type": "display_data"
    },
    {
     "data": {
      "text/markdown": [
       "\n",
       "**Hybrid Search Results:**"
      ],
      "text/plain": [
       "<IPython.core.display.Markdown object>"
      ]
     },
     "metadata": {},
     "output_type": "display_data"
    },
    {
     "data": {
      "text/markdown": [
       "direcciones oficinas / canales de atencion presencial / puntos fisicos / sedes finanzauto / sedes fisicas\n",
       "\n",
       "•\tsede americas / bogota: cra. 56 n° 09 – 17 torre central. \n",
       "horario: lunes a viernes de 7:00 a.m. a 7:00 p.m.\n",
       "sabados: 8:00 a.m. a 3:00 p.m.\n",
       "domingos: 9:00 a.m. a 3:00 p.m.\n",
       "\n",
       "•\tsede norte / bogota: calle 116 n° 23–06 edificio business center 04. \n",
       "horario: lunes a viernes de 7:00 a.m. a 7:00 p.m.\n",
       "sabados: 8:00 a.m. a 2:00 p.m. \n",
       "\n",
       "•\tsede corabastos / bogota: av. cra.80 n°2-51 bodega 41 local 9. \n",
       "horario: lunes a viernes de 7:00 a.m. a 4:00 p.m.\n",
       "sabados: 7:00 a.m. a 12:00 m.\n",
       "\n",
       "•\tsede chia kilometro 2.5 via a cajica - chia, cundinamarca \n",
       "horario: lunes a viernes de 9:00 a.m. a 5:30 p.m.\n",
       "sabados: 9:00 a.m. a 3:00 p.m.\n",
       "\n",
       "\n",
       "•\tvillavicencio: carrera 33 n° 15 – 28 edificio casa toro km 1 via puerto lopez. \n",
       "horario: lunes a viernes 8:00 a.m. a 5:30 p.m.\n",
       "sabados 8:00 a.m. a 01:00 p.m. \n",
       "\n",
       "•\tbucaramanga: calle 53 n° 23-97. \n",
       "horario: lunes a viernes 8:00 a.m. a 5:30 p.m.\n",
       "sabados 8:00 a.m. a 01:00 p.m.\n",
       "\n",
       "•\tbarranquilla: carrera 52 n° 74 -39. \n",
       "horario: lunes a viernes 8:00 a.m. a 5:30 p.m.\n",
       "sabados 8:00 a.m. a 01:00 p.m.\n",
       "\n",
       "•\tmedellin: carrera 43a n° 23-25 local 128 centro comercial avenida mall.\n",
       "horario: lunes a viernes 8:00 a.m. a 5:30 p.m. \n",
       "sabados 8:00 a.m. a 01:00 p.m.\n",
       "\n",
       "•\tcali: calle 40 norte n° 6n- 28 la campina.\n",
       "horario: lunes a viernes 8:00 a.m. a 5:30 p.m.\n",
       "sabados: 8:00 a.m. a 01:00 p.m. \n",
       "\n",
       "•\tcartagena: carrera 15 n° 31 - 110 local 12 centro -cultural y turistico san lazaro el espinal.\n",
       "horario: lunes a viernes 8:00 a.m. a 5:30 p.m. \n",
       "sabados 8:00 a.m. a 01:00 p.m."
      ],
      "text/plain": [
       "<IPython.core.display.Markdown object>"
      ]
     },
     "metadata": {},
     "output_type": "display_data"
    },
    {
     "data": {
      "text/markdown": [
       "solicitud de documentos\n",
       "\n",
       "entrega de documentos o solicitudes\n",
       "\n",
       "de acuerdo a nuestra politica de proteccion de datos personales y en cumplimiento a la ley 1581 de 2012 y el decreto 1074 de 2015, para continuar por favor indiqueme su numero de identificacion (cc., nit, ce), placa, correo electronico, numero de celular y fecha de solicitud.\n",
       "\n",
       "actualizacion de datos / actualizar mis datos / cambiar mis datos / modificar mis datos / datos personales\n",
       "\n",
       "de acuerdo a nuestra politica de proteccion de datos personales y en cumplimiento a la ley 1581 de 2012 y el decreto 1074 de 2015, para continuar por favor digite la siguiente informacion:\n",
       "\n",
       "•\tnumero de identificacion (cc., nit, ce.):\n",
       "•\tdireccion:\n",
       "•\tnueva direccion:\n",
       "•\tbarrio:\n",
       "•\tciudad:\n",
       "•\tcorreo electronico antiguo:\n",
       "•\tcorreo electronico nuevo:\n",
       "•\tnumero de contacto antiguo:\n",
       "•\tnumero nuevo de contacto:"
      ],
      "text/plain": [
       "<IPython.core.display.Markdown object>"
      ]
     },
     "metadata": {},
     "output_type": "display_data"
    },
    {
     "data": {
      "text/markdown": [
       "cuentas para pagos en banco / medios de pago / bancos para pagar mi credito.\n",
       "\n",
       "en finanzauto puede realizar el pago por medio de nuestro pago agil, ingresando a la pagina web o en la app. recuerde descargar la aplicacion desde los sitios autorizados: google play para android y app store para ios. tambien puede realizar su pago mediante el servicio de recaudo a domicilio o en los siguientes medios de pago:\n",
       " \n",
       "para mayor informacion ingrese a nuestro portal web https://www.finanzauto.com.co/portal/medios-pago.\n",
       "\n",
       "envio del soporte de pago / como enviar soporte de pago\n",
       "\n",
       "por favor envie su soporte de pago al correo electronico: servicioalcliente@finanzauto.com.co, anexando sus datos personales y numero del credito. \n",
       "\n",
       "informacion importante: el pago presentara actualizacion en el trascurso de cuatro dias habiles posterior al envio de la notificacion.\n",
       "\n",
       "debito automatico\n",
       "servicio que le permite pagar sus facturas automaticamente desde la cuenta autorizada por el titular del credito.\n",
       "\n",
       "para solicitar el debito automatico debe seguir los siguientes pasos:\n",
       "\n",
       "1.\tingrese la pagina web www.finanzauto.com.co.\n",
       "a.\tingrese a la zona transaccional.\n",
       "b.\tdiligencie la informacion solicitada para el ingreso a su perfil como cliente. \n",
       "c.\tingrese a su perfil.\n",
       "d.\tseleccione la opcion “solicitar debito”. \n",
       "e.\tindique el valor que autoriza a debitar.\n",
       "f.\tseleccione el credito al cual se le realizara el registro del pago y presiona el boton “aceptar”. \n",
       "g.\tdiligencie la informacion solicitada del titular de la cuenta.\n",
       "h.\tdiligencie la informacion solicitada de la entidad financiera con los respectivos datos de la cuenta a debitar.\n",
       "i.\tpara finalizar el registro presione el boton “enviar”.\n",
       "\n",
       "2.\tpuede solicitarlo por medio del correo servicioalcliente@finanzauto.com.co adjuntando la siguiente documentacion:\n",
       "\n",
       "a.\tformato de solicitud de debito automatico con firma y huella.\n",
       "b.\tcertificacion bancaria de la cuenta a debitar no mayor a 30 dias.\n",
       "\n",
       "pago con tarjetas de credito\n",
       "\n",
       "por medio de la plataforma se encuentra habilitada la opcion para realizar sus pagos con tarjetas de credito que tengan el logo de las siguientes franquicias:\n",
       "•\tamerican express\n",
       "•\tmaster card\n",
       "•\tvisa\n",
       "\n",
       "en nuestras oficinas tambien se reciben pagos por medio de las tarjetas de credito con logo de las franquicias: \n",
       "•\tamerican express\n",
       "•\tmaster card\n",
       "•\tvisa\n",
       "\n",
       "informacion importante: con la tarjeta de credito no se pueden realizar transferencias.\n",
       "\n",
       "recaudo a domicilio / pagos a domicilio\n",
       "\n",
       "de acuerdo a nuestra politica de proteccion de datos personales y en cumplimiento de la ley 1581 de 2012 y el decreto 1074 de 2015, por favor confirme los siguientes datos:\n",
       "\n",
       "•\tnumero de su cedula: \n",
       "•\tnumero de celular: \n",
       "•\tciudad: \n",
       "•\tbarrio:\n",
       "•\tdireccion:\n",
       "•\tvalor a cancelar:\n",
       "•\tforma de pago (efectivo, tarjeta debido o credito, cheque): \n",
       "•\thora y dia para recaudo:\n",
       "•\tnombre de la persona que realizara el pago o titular (nombre y celular):\n",
       "\n",
       "puede realizar su solicitud de recaudo a domicilio por medio de las siguientes lineas telefonicas:\n",
       "\n",
       "•\t3107923738 \n",
       "•\t3107923729 \n",
       "•\t(601) 749 9000\n",
       "\n",
       "en el horario: lunes a viernes de 8:00 a.m. a 4:00 p.m. y sabados 8:00 a.m. a 12:00 p.m.\n",
       "\n",
       "informacion importante: el primer dia habil de cada mes no habra servicio de recaudo en bogota y cundinamarca.\n",
       "\n",
       "pago agil\n",
       "\n",
       "puede realizar su pago por medio de la opcion pago facil, ingresando al siguiente link https://www.finanzauto.com.co/portal/pago-agil/, realizando los siguientes pasos:\n",
       "\n",
       "1.\tdiligencie los campos: \n",
       "\n",
       "•\ttipo de identificacion. \n",
       "•\tnumero de identificacion.  \n",
       "•\tano de nacimiento. \n",
       "\n",
       "seleccione el boton “consultar”.\n",
       "\n",
       "2.\ten la opcion numero de credito seleccione la obligacion que desea pagar, confirme si el valor registrado es correcto. si desea realizar un pago diferente puede modificar el monto. recuerde que el monto minimo a cancelar es de $10.000 pesos. \n",
       "\n",
       "3.\tseleccione el metodo de pago: tarjeta de credito, debito bancario pse o nequi y presione el boton “pagar”.\n",
       "\n",
       "4.\tingrese su correo electronico y presione el boton “consultar”.\n",
       "\n",
       "5.\tdiligencie sus datos de acuerdo al metodo de pago y por ultimo seleccione la opcion “pagar”.\n",
       "\n",
       "recomendacion: es importante confirmar datos de la transaccion antes de terminar el proceso.\n",
       "\n",
       "pago por la zona transaccional\n",
       "para realizar su pago desde la zona transaccional lo puede realizar en 2 simples pasos, https://www.finanzauto.com.co/portal/zonatransaccional/:\n",
       "\n",
       "\n",
       "1.\tseleccione el boton de “realizar pago”. recuerde que el monto minimo a cancelar es de $10.000 pesos. seleccione su metodo de pago: tarjeta de credito, debito bancario pse o nequi, luego presione el boton “pagar” para contar con su transaccion.\n",
       "\n",
       "2.\tdiligencie sus datos de acuerdo al metodo de pago y por ultimo seleccione la opcion “pagar”.\n",
       "\n",
       "recomendacion: es importante confirmar datos de la transaccion antes de terminar el proceso.\n",
       "\n",
       "\n",
       "pago que no sea en bancos / pagos no pagina web y app / otros medios de pago.\n",
       "\n",
       "si no ha podido ingresar a nuestra pagina web o app para realizar su pago, cancele a traves de:"
      ],
      "text/plain": [
       "<IPython.core.display.Markdown object>"
      ]
     },
     "metadata": {},
     "output_type": "display_data"
    }
   ],
   "source": [
    "from IPython.display import Markdown, display\n",
    "\n",
    "display(Markdown(\"**Dense Search Results:**\"))\n",
    "formatted_results = doc_text_formatting(ef, query, dense_results)\n",
    "for result in dense_results:\n",
    "    display(Markdown(result))\n",
    "\n",
    "display(Markdown(\"\\n**Sparse Search Results:**\"))\n",
    "formatted_results = doc_text_formatting(ef, query, sparse_results)\n",
    "for result in formatted_results:\n",
    "    display(Markdown(result))\n",
    "\n",
    "display(Markdown(\"\\n**Hybrid Search Results:**\"))\n",
    "formatted_results = doc_text_formatting(ef, query, hybrid_results)\n",
    "for result in formatted_results:\n",
    "    display(Markdown(result))\n"
   ]
  },
  {
   "cell_type": "code",
   "execution_count": 18,
   "metadata": {},
   "outputs": [],
   "source": [
    "from langchain.prompts import SystemMessagePromptTemplate, ChatPromptTemplate, HumanMessagePromptTemplate\n",
    "from langchain.schema import SystemMessage\n",
    "\n",
    "# Define the SystemMessagePromptTemplate\n",
    "system_template = (\"\"\"Eres SAC, el asistente virtual de Fz. Usa las siguientes piezas de contexto para responder \n",
    "                   a la pregunta del usuario. Si no sabes la respuesta, responde que no sabes y no inventes información.\n",
    "                   \\n----------------\\n{context}\"\"\")\n",
    "\n",
    "system_message_prompt = SystemMessagePromptTemplate.from_template(system_template)\n",
    "\n",
    "# Define the HumanMessagePromptTemplate\n",
    "human_template = \"{question}\"\n",
    "human_message_prompt = HumanMessagePromptTemplate.from_template(human_template)\n",
    "\n",
    "# Create the ChatPromptTemplate\n",
    "chat_prompt = ChatPromptTemplate.from_messages([\n",
    "    system_message_prompt,\n",
    "    human_message_prompt\n",
    "])"
   ]
  },
  {
   "cell_type": "code",
   "execution_count": 19,
   "metadata": {},
   "outputs": [],
   "source": [
    "llm = ChatGroq(groq_api_key=os.environ['GROQ_API_KEY'], model_name=\"llama3-70b-8192\")"
   ]
  },
  {
   "cell_type": "code",
   "execution_count": 20,
   "metadata": {},
   "outputs": [],
   "source": [
    "chain_type_kwargs = {\"prompt\": chat_prompt}\n",
    "qa_chain = RetrievalQA.from_chain_type(llm=llm,\n",
    "                                  chain_type=\"stuff\",\n",
    "                                  retriever=r,\n",
    "                                  return_source_documents=True,\n",
    "                                  chain_type_kwargs={'prompt':chat_prompt})"
   ]
  },
  {
   "cell_type": "code",
   "execution_count": 21,
   "metadata": {},
   "outputs": [],
   "source": [
    "## Cite sources\n",
    "def process_llm_response(llm_response):\n",
    "    print(llm_response['result'])\n",
    "    print('\\n\\nSources:')\n",
    "    for source in llm_response[\"source_documents\"]:\n",
    "        print(source.page_content)"
   ]
  },
  {
   "cell_type": "code",
   "execution_count": 25,
   "metadata": {},
   "outputs": [
    {
     "name": "stdout",
     "output_type": "stream",
     "text": [
      "La información relacionada con Data Crédito no se encuentra disponible por este medio. Debe realizar la solicitud a través del correo electrónico de servicioalcliente@finanzauto.com.co.\n",
      "\n",
      "\n",
      "Sources:\n",
      "data credito\n",
      "\n",
      "la informacion relacionada con data credito no se encuentra disponible por este medio. debe realizar la solicitud a traves del correo electronico de servicioalcliente@finanzauto.com.co.\n",
      "crediturbo, libre inversion / credito nuevo / solicitar tarjeta de credito / solicitar nuevo credito / desembolsos\n",
      "\n",
      "de acuerdo a nuestra politica de proteccion de datos personales y en cumplimiento a la ley 1581 de 2012 y el decreto 1074 de 2015, por favor confirmar si acepta nuestra politica de datos personales la cual se encuentra en el siguiente link https://www.finanzauto.com.co/portal/terminos para ser contactado por asesor comercial de finanzauto.\n",
      "\n",
      "por favor me indica numero de identificacion (cc. nit, ce), nombre completo, ciudad, correo electronico y numero de celular para radicar su solicitud o si lo prefiere comuniquese directamente a la linea 3134058157.\n",
      "\n",
      "(si el cliente confirma los datos): agradezco la confirmacion de sus datos, su solicitud sera transferida al area de credito.\n",
      "saludos / reconocer\n",
      "\n",
      "¡saludos! le habla sac, su asistente virtual de finanzauto. ¿como puedo servirle el dia de hoy?\n",
      "\n",
      "¡hola! soy sac, asistente virtual de finanzauto ¿tiene alguna pregunta sobre su credito?\n",
      "\n",
      "buenos dias, es un gusto atenderle. soy su asistente virtual de finanzauto ¿en que le puedo servir el dia de hoy?\n",
      "\n",
      "es un gusto haberle atendido. gracias por comunicarse con sac, asistente virtual de finanzauto. no dude en comunicarse de nuevo si lo necesita.\n",
      "\n",
      "fue un gusto servirle. ante cualquier inquietud adicional no dude en contactarnos.\n",
      "\n",
      "es un gusto atenderle, ¿tiene alguna otra inquietud?\n",
      "\n",
      "\n",
      "agradezco su confirmacion de datos. por favor, permanezca en linea.\n",
      "\n",
      "\n",
      "permanezca en linea mientras valido la informacion requerida, esto tardara unos minutos. por favor, no se retire del chat.\n",
      "\n",
      "no hay suficiente informacion para realizar su solicitud. intente de nuevo.\n",
      "\n",
      "por falta de informacion dare por finalizada su consulta. recuerde que le escribe sac, asistente virtual de finanzauto. ¡hasta una proxima ocasion!\n",
      "\n",
      "se ausento. recuerde que puede comunicarse conmigo en cualquier momento. ¡hasta una proxima ocasion!\n",
      "\n",
      "es necesario que diligencie los datos requeridos de forma correcta para validar la informacion de su credito.\n",
      "\n",
      "es necesario la confirmacion de los datos de manera completa para validar la informacion del credito.\n",
      "\n",
      "deme un momento, mientras realizo la validacion en el sistema. por favor, permanezca en el chat.\n",
      "\n",
      "el numero de cedula que digito no se encuentra relacionado con ninguno de nuestros creditos. verifique si esta escrito correctamente o si el titular del credito es otra persona.\n",
      "\n",
      "gracias por su tiempo en espera.\n"
     ]
    }
   ],
   "source": [
    "# full example\n",
    "\n",
    "query = \"\"\n",
    "llm_response = qa_chain.invoke(query)\n",
    "process_llm_response(llm_response)"
   ]
  },
  {
   "cell_type": "code",
   "execution_count": null,
   "metadata": {},
   "outputs": [],
   "source": []
  }
 ],
 "metadata": {
  "kernelspec": {
   "display_name": "llms_env",
   "language": "python",
   "name": "python3"
  },
  "language_info": {
   "codemirror_mode": {
    "name": "ipython",
    "version": 3
   },
   "file_extension": ".py",
   "mimetype": "text/x-python",
   "name": "python",
   "nbconvert_exporter": "python",
   "pygments_lexer": "ipython3",
   "version": "3.12.3"
  }
 },
 "nbformat": 4,
 "nbformat_minor": 2
}
