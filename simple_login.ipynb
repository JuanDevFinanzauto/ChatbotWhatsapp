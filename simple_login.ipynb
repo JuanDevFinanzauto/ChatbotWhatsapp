{
 "cells": [
  {
   "cell_type": "code",
   "execution_count": 13,
   "metadata": {},
   "outputs": [],
   "source": [
    "import re\n",
    "import numpy as np\n",
    "import pandas as pd\n",
    "import warnings\n",
    "\n",
    "# Suppress all warnings\n",
    "warnings.filterwarnings('ignore')\n",
    "import pymssql\n",
    "import openai\n",
    "from langchain_groq import ChatGroq\n",
    "from MilvusRetriever import MilvusRetriever\n",
    "from dotenv import load_dotenv\n",
    "import yaml\n",
    "from datetime import datetime, date\n",
    "from functools import lru_cache\n",
    "import random\n",
    "import uuid\n",
    "\n",
    "import os\n",
    "import json\n",
    "import dateutil\n",
    "import getpass\n",
    "from typing import Annotated, Optional, Literal\n",
    "from typing_extensions import TypedDict\n",
    "from pydantic import BaseModel, Field\n",
    "\n",
    "from langgraph.graph.message import AnyMessage, add_messages\n",
    "from langgraph.graph import END, StateGraph, START\n",
    "from langchain_core.prompts import ChatPromptTemplate\n",
    "from langchain_core.runnables import Runnable, RunnableConfig\n",
    "from langchain_core.messages import ToolMessage, HumanMessage, AIMessage\n",
    "from langchain_core.runnables import RunnableLambda\n",
    "from langchain_core.output_parsers import StrOutputParser, JsonOutputParser\n",
    "from langchain_core.tools import tool\n",
    "from langgraph.prebuilt import ToolNode, tools_condition\n",
    "from langgraph.checkpoint.memory import MemorySaver\n",
    "from langgraph.errors import NodeInterrupt\n",
    "from langchain_openai import ChatOpenAI\n",
    "\n",
    "from IPython.display import Image, display\n"
   ]
  },
  {
   "cell_type": "code",
   "execution_count": 14,
   "metadata": {},
   "outputs": [],
   "source": [
    "# Load environment variables\n",
    "load_dotenv()\n",
    "data_cache = {}\n",
    "\n",
    "# Chat history cache\n",
    "chat_history_cache = {}\n",
    "with open(\"config.yaml\", 'r') as file:\n",
    "        config = yaml.safe_load(file)\n",
    "        database_config = config.get('database', {})\n",
    "        user = database_config.get('username')\n",
    "        password = database_config.get('password')"
   ]
  },
  {
   "cell_type": "code",
   "execution_count": 15,
   "metadata": {},
   "outputs": [],
   "source": [
    "def validar_telefono(Telefono):\n",
    "    \"\"\"Valida el telefono de la persona\n",
    "    \"\"\"\n",
    "    try:\n",
    "        cnxn = pymssql.connect(server='192.168.50.38\\\\DW_FZ', database='DW_FZ', user=user, password=password)\n",
    "        query4 = f\"\"\"\n",
    "        SELECT CD.id_persona AS CEDULA, CD.numero_id AS NUMERO_CREDITO, CD.id_fecha_nacimiento AS FECHA_NACIMIENTO, DC.Telefono AS TELEFONO, DC.Correo AS CORREO, DC.Nombre as NOMBRE\n",
    "        FROM DW_FZ.dbo.CRM_Datos_Cliente as DC\n",
    "        LEFT JOIN DW_FZ.dbo.Dim_Cred_Demografico AS CD\n",
    "        ON CD.id_persona = DC.Cedula  Where TELEFONO = '{Telefono}';\n",
    "        \"\"\"\n",
    "        INFO_CL = pd.read_sql_query(query4, cnxn)\n",
    "        if not INFO_CL.empty:\n",
    "            print(f\"Tiene cuenta validada correctamente.\")\n",
    "            return INFO_CL\n",
    "        else:\n",
    "            print(f\"Cuenta no encontrada en la base de datos.\")\n",
    "            return False\n",
    "    except Exception as e:\n",
    "        print(f\"Error al validar teléfono: {e}\")\n",
    "        return False"
   ]
  },
  {
   "cell_type": "code",
   "execution_count": 16,
   "metadata": {},
   "outputs": [
    {
     "name": "stdout",
     "output_type": "stream",
     "text": [
      "Cuenta no encontrada en la base de datos.\n"
     ]
    },
    {
     "data": {
      "text/plain": [
       "False"
      ]
     },
     "execution_count": 16,
     "metadata": {},
     "output_type": "execute_result"
    }
   ],
   "source": [
    "primer_mensaje_cliente = 'Hola, necesito ayuda con mi crédito'\n",
    "telefono = \"321474742\"\n",
    "df_cl = validar_telefono(telefono)\n",
    "df_cl\n"
   ]
  },
  {
   "cell_type": "code",
   "execution_count": 17,
   "metadata": {},
   "outputs": [],
   "source": [
    "def initial_message(primer_mensaje_cliente, telefono):\n",
    "    df_cl = validar_telefono(telefono)\n",
    "    if df_cl is not False:\n",
    "        nombre = df_cl['NOMBRE'].values[0]\n",
    "        palabras = nombre.lower().title().split()\n",
    "        primera_palabra = palabras[0]\n",
    "        segunda_palabra_desde_el_final = palabras[-2]\n",
    "        nombre_inicial = primera_palabra + \" \" + segunda_palabra_desde_el_final\n",
    "        primer_mensaje = f\"\"\"Hola! Bienvenido a Finanzauto, {nombre_inicial}, para confirmar que eres tu, necesito el correo electrónico que tienes registrado con nosotros o tu fecha de nacimiento.\"\"\"\n",
    "    else:\n",
    "        primer_mensaje = f\"\"\"Hola! Bienvenido a Finanzauto, ¿Como te puedo ayudar el día de hoy?\"\"\"\n",
    "    return primer_mensaje"
   ]
  },
  {
   "cell_type": "code",
   "execution_count": 18,
   "metadata": {},
   "outputs": [
    {
     "name": "stdout",
     "output_type": "stream",
     "text": [
      "Cuenta no encontrada en la base de datos.\n"
     ]
    },
    {
     "data": {
      "text/plain": [
       "'Hola! Bienvenido a Finanzauto, ¿Como te puedo ayudar el día de hoy?'"
      ]
     },
     "execution_count": 18,
     "metadata": {},
     "output_type": "execute_result"
    }
   ],
   "source": [
    "initial_message(primer_mensaje_cliente,telefono)"
   ]
  },
  {
   "cell_type": "code",
   "execution_count": 19,
   "metadata": {},
   "outputs": [],
   "source": [
    "class RequiredInformation(BaseModel):\n",
    "    provided_date: Optional[int] = Field(None,description=\"La fecha que proporcionó el usuario, debe estar en formato %AAAAMMDD%\")\n",
    "    provided_email: Optional[str] = Field(None,description=\"El email que proporcionó el usuario\")\n",
    "    \n",
    "class State(TypedDict):\n",
    "    messages: Annotated[list[AnyMessage], add_messages]\n",
    "    required_information: RequiredInformation\n",
    "    validated: bool = False\n",
    "    telephone : int\n",
    "\n",
    "llm = ChatGroq(groq_api_key=os.environ['GROQ_API_KEY'], model_name=\"llama3-70b-8192\")"
   ]
  },
  {
   "cell_type": "code",
   "execution_count": 20,
   "metadata": {},
   "outputs": [],
   "source": [
    "def verifier_node(message) -> RequiredInformation:\n",
    "    loguer_system = \"\"\"\n",
    "                    Eres un verificador que mira el último mensaje humano y verifica si en este mensaje se encuentra una fecha de nacimiento o un correo electrónico.\n",
    "                    La fecha puede estar en cualquier formato o puede estar escrita, fijate muy bien.\n",
    "                    Si se encuentra la fecha, entonces conviertela a el formato %AAAAMMDD%.\n",
    "                    Pon el campo o campos encontrados en la siguiente estructura de datos:\n",
    "                    \n",
    "                    class RequiredInformation(BaseModel):\n",
    "                        provided_date: Optional[int] = Field(None,description=\"La fecha que proporcionó el usuario, debe estar en formato %AAAAMMDD%\")\n",
    "                        provided_email: Optional[str] = Field(None,description=\"El email que proporcionó el usuario\")\n",
    "                    \n",
    "                    mensaje {message}\n",
    "                \"\"\"\n",
    "\n",
    "    loguer_prompt = ChatPromptTemplate.from_template(loguer_system)\n",
    "    loguer_chain = loguer_prompt | llm.with_structured_output(RequiredInformation)\n",
    "    response = loguer_chain.invoke(\n",
    "        {\n",
    "            \"message\": message\n",
    "        }\n",
    "    )\n",
    "    return response\n",
    "\n",
    "def waiting_for_love(info_usuario: RequiredInformation):\n",
    "    if info_usuario.provided_date is not None or info_usuario.provided_email is not None:\n",
    "        return 'verification'\n",
    "    else:\n",
    "        return 'pafuera pa la calle'\n",
    "\n",
    "    "
   ]
  },
  {
   "cell_type": "code",
   "execution_count": null,
   "metadata": {},
   "outputs": [],
   "source": [
    "def info_general(state: State):\n",
    "    "
   ]
  },
  {
   "cell_type": "code",
   "execution_count": 21,
   "metadata": {},
   "outputs": [],
   "source": [
    "siguiente_mensaje = ' '"
   ]
  },
  {
   "cell_type": "code",
   "execution_count": 22,
   "metadata": {},
   "outputs": [
    {
     "data": {
      "text/plain": [
       "RequiredInformation(provided_date=None, provided_email=None)"
      ]
     },
     "execution_count": 22,
     "metadata": {},
     "output_type": "execute_result"
    }
   ],
   "source": [
    "info_usuario = verifier_node(siguiente_mensaje)\n",
    "info_usuario"
   ]
  },
  {
   "cell_type": "code",
   "execution_count": null,
   "metadata": {},
   "outputs": [],
   "source": [
    "x\n"
   ]
  },
  {
   "cell_type": "code",
   "execution_count": null,
   "metadata": {},
   "outputs": [],
   "source": [
    "workflow = StateGraph(State)\n",
    "workflow.add_node(\"loguer\", loguer_node)\n",
    "workflow.add_node(\"add_tool_msg\", verifier_node)\n",
    "workflow.add_node(\"verificado\", verificado)\n",
    "\n",
    "\n",
    "workflow.add_conditional_edges(\"loguer\", get_state)\n",
    "workflow.add_conditional_edges(START, manage_messages)\n",
    "workflow.add_edge(\"add_tool_msg\", \"loguer\")\n",
    "workflow.add_edge(\"verificado\", END)\n",
    "workflow.add_edge(START, \"loguer\")"
   ]
  }
 ],
 "metadata": {
  "kernelspec": {
   "display_name": "llms_env",
   "language": "python",
   "name": "python3"
  },
  "language_info": {
   "codemirror_mode": {
    "name": "ipython",
    "version": 3
   },
   "file_extension": ".py",
   "mimetype": "text/x-python",
   "name": "python",
   "nbconvert_exporter": "python",
   "pygments_lexer": "ipython3",
   "version": "3.12.3"
  }
 },
 "nbformat": 4,
 "nbformat_minor": 2
}
